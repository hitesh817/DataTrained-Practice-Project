{
 "cells": [
  {
   "cell_type": "code",
   "execution_count": 1,
   "metadata": {},
   "outputs": [],
   "source": [
    "import numpy as np\n",
    "import pandas as pd\n",
    "import matplotlib.pyplot as plt\n",
    "import seaborn as sns\n",
    "import sklearn\n",
    "from sklearn.linear_model import LinearRegression\n",
    "from sklearn.metrics import mean_squared_error,mean_absolute_error\n",
    "from sklearn.model_selection import train_test_split\n",
    "from scipy.stats import zscore\n",
    "import warnings\n",
    "warnings.filterwarnings('ignore')"
   ]
  },
  {
   "cell_type": "code",
   "execution_count": 2,
   "metadata": {},
   "outputs": [
    {
     "data": {
      "text/html": [
       "<div>\n",
       "<style scoped>\n",
       "    .dataframe tbody tr th:only-of-type {\n",
       "        vertical-align: middle;\n",
       "    }\n",
       "\n",
       "    .dataframe tbody tr th {\n",
       "        vertical-align: top;\n",
       "    }\n",
       "\n",
       "    .dataframe thead th {\n",
       "        text-align: right;\n",
       "    }\n",
       "</style>\n",
       "<table border=\"1\" class=\"dataframe\">\n",
       "  <thead>\n",
       "    <tr style=\"text-align: right;\">\n",
       "      <th></th>\n",
       "      <th>Unnamed: 0</th>\n",
       "      <th>TV</th>\n",
       "      <th>radio</th>\n",
       "      <th>newspaper</th>\n",
       "      <th>sales</th>\n",
       "    </tr>\n",
       "  </thead>\n",
       "  <tbody>\n",
       "    <tr>\n",
       "      <th>0</th>\n",
       "      <td>1</td>\n",
       "      <td>230.1</td>\n",
       "      <td>37.8</td>\n",
       "      <td>69.2</td>\n",
       "      <td>22.1</td>\n",
       "    </tr>\n",
       "    <tr>\n",
       "      <th>1</th>\n",
       "      <td>2</td>\n",
       "      <td>44.5</td>\n",
       "      <td>39.3</td>\n",
       "      <td>45.1</td>\n",
       "      <td>10.4</td>\n",
       "    </tr>\n",
       "    <tr>\n",
       "      <th>2</th>\n",
       "      <td>3</td>\n",
       "      <td>17.2</td>\n",
       "      <td>45.9</td>\n",
       "      <td>69.3</td>\n",
       "      <td>9.3</td>\n",
       "    </tr>\n",
       "    <tr>\n",
       "      <th>3</th>\n",
       "      <td>4</td>\n",
       "      <td>151.5</td>\n",
       "      <td>41.3</td>\n",
       "      <td>58.5</td>\n",
       "      <td>18.5</td>\n",
       "    </tr>\n",
       "    <tr>\n",
       "      <th>4</th>\n",
       "      <td>5</td>\n",
       "      <td>180.8</td>\n",
       "      <td>10.8</td>\n",
       "      <td>58.4</td>\n",
       "      <td>12.9</td>\n",
       "    </tr>\n",
       "    <tr>\n",
       "      <th>...</th>\n",
       "      <td>...</td>\n",
       "      <td>...</td>\n",
       "      <td>...</td>\n",
       "      <td>...</td>\n",
       "      <td>...</td>\n",
       "    </tr>\n",
       "    <tr>\n",
       "      <th>195</th>\n",
       "      <td>196</td>\n",
       "      <td>38.2</td>\n",
       "      <td>3.7</td>\n",
       "      <td>13.8</td>\n",
       "      <td>7.6</td>\n",
       "    </tr>\n",
       "    <tr>\n",
       "      <th>196</th>\n",
       "      <td>197</td>\n",
       "      <td>94.2</td>\n",
       "      <td>4.9</td>\n",
       "      <td>8.1</td>\n",
       "      <td>9.7</td>\n",
       "    </tr>\n",
       "    <tr>\n",
       "      <th>197</th>\n",
       "      <td>198</td>\n",
       "      <td>177.0</td>\n",
       "      <td>9.3</td>\n",
       "      <td>6.4</td>\n",
       "      <td>12.8</td>\n",
       "    </tr>\n",
       "    <tr>\n",
       "      <th>198</th>\n",
       "      <td>199</td>\n",
       "      <td>283.6</td>\n",
       "      <td>42.0</td>\n",
       "      <td>66.2</td>\n",
       "      <td>25.5</td>\n",
       "    </tr>\n",
       "    <tr>\n",
       "      <th>199</th>\n",
       "      <td>200</td>\n",
       "      <td>232.1</td>\n",
       "      <td>8.6</td>\n",
       "      <td>8.7</td>\n",
       "      <td>13.4</td>\n",
       "    </tr>\n",
       "  </tbody>\n",
       "</table>\n",
       "<p>200 rows × 5 columns</p>\n",
       "</div>"
      ],
      "text/plain": [
       "     Unnamed: 0     TV  radio  newspaper  sales\n",
       "0             1  230.1   37.8       69.2   22.1\n",
       "1             2   44.5   39.3       45.1   10.4\n",
       "2             3   17.2   45.9       69.3    9.3\n",
       "3             4  151.5   41.3       58.5   18.5\n",
       "4             5  180.8   10.8       58.4   12.9\n",
       "..          ...    ...    ...        ...    ...\n",
       "195         196   38.2    3.7       13.8    7.6\n",
       "196         197   94.2    4.9        8.1    9.7\n",
       "197         198  177.0    9.3        6.4   12.8\n",
       "198         199  283.6   42.0       66.2   25.5\n",
       "199         200  232.1    8.6        8.7   13.4\n",
       "\n",
       "[200 rows x 5 columns]"
      ]
     },
     "execution_count": 2,
     "metadata": {},
     "output_type": "execute_result"
    }
   ],
   "source": [
    "ap=pd.read_csv('Advertising.csv')\n",
    "ap"
   ]
  },
  {
   "cell_type": "code",
   "execution_count": 3,
   "metadata": {},
   "outputs": [
    {
     "data": {
      "text/plain": [
       "Index(['Unnamed: 0', 'TV', 'radio', 'newspaper', 'sales'], dtype='object')"
      ]
     },
     "execution_count": 3,
     "metadata": {},
     "output_type": "execute_result"
    }
   ],
   "source": [
    "ap.columns"
   ]
  },
  {
   "cell_type": "code",
   "execution_count": 4,
   "metadata": {},
   "outputs": [
    {
     "data": {
      "text/plain": [
       "Unnamed: 0      int64\n",
       "TV            float64\n",
       "radio         float64\n",
       "newspaper     float64\n",
       "sales         float64\n",
       "dtype: object"
      ]
     },
     "execution_count": 4,
     "metadata": {},
     "output_type": "execute_result"
    }
   ],
   "source": [
    "ap.dtypes"
   ]
  },
  {
   "cell_type": "code",
   "execution_count": 5,
   "metadata": {},
   "outputs": [
    {
     "data": {
      "text/plain": [
       "Unnamed: 0    0\n",
       "TV            0\n",
       "radio         0\n",
       "newspaper     0\n",
       "sales         0\n",
       "dtype: int64"
      ]
     },
     "execution_count": 5,
     "metadata": {},
     "output_type": "execute_result"
    }
   ],
   "source": [
    "ap.isnull().sum()"
   ]
  },
  {
   "cell_type": "code",
   "execution_count": 6,
   "metadata": {},
   "outputs": [
    {
     "name": "stdout",
     "output_type": "stream",
     "text": [
      "<class 'pandas.core.frame.DataFrame'>\n",
      "RangeIndex: 200 entries, 0 to 199\n",
      "Data columns (total 5 columns):\n",
      " #   Column      Non-Null Count  Dtype  \n",
      "---  ------      --------------  -----  \n",
      " 0   Unnamed: 0  200 non-null    int64  \n",
      " 1   TV          200 non-null    float64\n",
      " 2   radio       200 non-null    float64\n",
      " 3   newspaper   200 non-null    float64\n",
      " 4   sales       200 non-null    float64\n",
      "dtypes: float64(4), int64(1)\n",
      "memory usage: 7.9 KB\n"
     ]
    }
   ],
   "source": [
    "ap.info()"
   ]
  },
  {
   "cell_type": "code",
   "execution_count": 7,
   "metadata": {},
   "outputs": [
    {
     "data": {
      "text/plain": [
       "<matplotlib.axes._subplots.AxesSubplot at 0x1c824dd5130>"
      ]
     },
     "execution_count": 7,
     "metadata": {},
     "output_type": "execute_result"
    },
    {
     "data": {
      "image/png": "[encoded data removed]",
      "text/plain": [
       "<Figure size 1296x504 with 1 Axes>"
      ]
     },
     "metadata": {
      "needs_background": "light"
     },
     "output_type": "display_data"
    }
   ],
   "source": [
    "plt.figure(figsize=(18,7))\n",
    "sns.countplot(ap['sales'])"
   ]
  },
  {
   "cell_type": "code",
   "execution_count": 8,
   "metadata": {},
   "outputs": [
    {
     "data": {
      "image/png": "[encoded data removed]",
      "text/plain": [
       "<Figure size 1224x504 with 1 Axes>"
      ]
     },
     "metadata": {
      "needs_background": "light"
     },
     "output_type": "display_data"
    }
   ],
   "source": [
    "plt.figure(figsize=(17,7))\n",
    "sns.swarmplot(x='radio',y='sales',data=ap)\n",
    "plt.title('Bivariate Analysis')\n",
    "plt.show()"
   ]
  },
  {
   "cell_type": "code",
   "execution_count": 9,
   "metadata": {},
   "outputs": [
    {
     "data": {
      "text/plain": [
       "<matplotlib.axes._subplots.AxesSubplot at 0x1c825c8a2e0>"
      ]
     },
     "execution_count": 9,
     "metadata": {},
     "output_type": "execute_result"
    },
    {
     "data": {
      "image/png": "[encoded data removed]",
      "text/plain": [
       "<Figure size 432x288 with 1 Axes>"
      ]
     },
     "metadata": {
      "needs_background": "light"
     },
     "output_type": "display_data"
    }
   ],
   "source": [
    "sns.scatterplot(x='radio',y='sales',data=ap)"
   ]
  },
  {
   "cell_type": "code",
   "execution_count": 10,
   "metadata": {},
   "outputs": [
    {
     "data": {
      "text/plain": [
       "<matplotlib.axes._subplots.AxesSubplot at 0x1c8261a59a0>"
      ]
     },
     "execution_count": 10,
     "metadata": {},
     "output_type": "execute_result"
    },
    {
     "data": {
      "image/png": "[encoded data removed]",
      "text/plain": [
       "<Figure size 432x288 with 1 Axes>"
      ]
     },
     "metadata": {
      "needs_background": "light"
     },
     "output_type": "display_data"
    }
   ],
   "source": [
    "sns.scatterplot(x='newspaper',y='sales',data=ap)"
   ]
  },
  {
   "cell_type": "code",
   "execution_count": 11,
   "metadata": {},
   "outputs": [
    {
     "data": {
      "text/plain": [
       "<matplotlib.axes._subplots.AxesSubplot at 0x1c8261ef880>"
      ]
     },
     "execution_count": 11,
     "metadata": {},
     "output_type": "execute_result"
    },
    {
     "data": {
      "image/png": "[encoded data removed]",
      "text/plain": [
       "<Figure size 432x288 with 1 Axes>"
      ]
     },
     "metadata": {
      "needs_background": "light"
     },
     "output_type": "display_data"
    }
   ],
   "source": [
    "sns.scatterplot(x='TV',y='sales',data=ap)"
   ]
  },
  {
   "cell_type": "code",
   "execution_count": 12,
   "metadata": {},
   "outputs": [
    {
     "data": {
      "text/html": [
       "<div>\n",
       "<style scoped>\n",
       "    .dataframe tbody tr th:only-of-type {\n",
       "        vertical-align: middle;\n",
       "    }\n",
       "\n",
       "    .dataframe tbody tr th {\n",
       "        vertical-align: top;\n",
       "    }\n",
       "\n",
       "    .dataframe thead th {\n",
       "        text-align: right;\n",
       "    }\n",
       "</style>\n",
       "<table border=\"1\" class=\"dataframe\">\n",
       "  <thead>\n",
       "    <tr style=\"text-align: right;\">\n",
       "      <th></th>\n",
       "      <th>Unnamed: 0</th>\n",
       "      <th>TV</th>\n",
       "      <th>radio</th>\n",
       "      <th>newspaper</th>\n",
       "      <th>sales</th>\n",
       "    </tr>\n",
       "  </thead>\n",
       "  <tbody>\n",
       "    <tr>\n",
       "      <th>Unnamed: 0</th>\n",
       "      <td>1.000000</td>\n",
       "      <td>0.017715</td>\n",
       "      <td>-0.110680</td>\n",
       "      <td>-0.154944</td>\n",
       "      <td>-0.051616</td>\n",
       "    </tr>\n",
       "    <tr>\n",
       "      <th>TV</th>\n",
       "      <td>0.017715</td>\n",
       "      <td>1.000000</td>\n",
       "      <td>0.054809</td>\n",
       "      <td>0.056648</td>\n",
       "      <td>0.782224</td>\n",
       "    </tr>\n",
       "    <tr>\n",
       "      <th>radio</th>\n",
       "      <td>-0.110680</td>\n",
       "      <td>0.054809</td>\n",
       "      <td>1.000000</td>\n",
       "      <td>0.354104</td>\n",
       "      <td>0.576223</td>\n",
       "    </tr>\n",
       "    <tr>\n",
       "      <th>newspaper</th>\n",
       "      <td>-0.154944</td>\n",
       "      <td>0.056648</td>\n",
       "      <td>0.354104</td>\n",
       "      <td>1.000000</td>\n",
       "      <td>0.228299</td>\n",
       "    </tr>\n",
       "    <tr>\n",
       "      <th>sales</th>\n",
       "      <td>-0.051616</td>\n",
       "      <td>0.782224</td>\n",
       "      <td>0.576223</td>\n",
       "      <td>0.228299</td>\n",
       "      <td>1.000000</td>\n",
       "    </tr>\n",
       "  </tbody>\n",
       "</table>\n",
       "</div>"
      ],
      "text/plain": [
       "            Unnamed: 0        TV     radio  newspaper     sales\n",
       "Unnamed: 0    1.000000  0.017715 -0.110680  -0.154944 -0.051616\n",
       "TV            0.017715  1.000000  0.054809   0.056648  0.782224\n",
       "radio        -0.110680  0.054809  1.000000   0.354104  0.576223\n",
       "newspaper    -0.154944  0.056648  0.354104   1.000000  0.228299\n",
       "sales        -0.051616  0.782224  0.576223   0.228299  1.000000"
      ]
     },
     "execution_count": 12,
     "metadata": {},
     "output_type": "execute_result"
    }
   ],
   "source": [
    "ap.corr()"
   ]
  },
  {
   "cell_type": "code",
   "execution_count": 13,
   "metadata": {},
   "outputs": [
    {
     "data": {
      "image/png": "[encoded data removed]",
      "text/plain": [
       "<Figure size 1152x576 with 2 Axes>"
      ]
     },
     "metadata": {
      "needs_background": "light"
     },
     "output_type": "display_data"
    }
   ],
   "source": [
    "corr=ap.corr()                                               # multivariate analysis\n",
    "plt.figure(figsize=(16,8))\n",
    "sns.heatmap(corr,annot=True,linewidths=0.5,linecolor='orange',fmt='.2f',)\n",
    "plt.title('Correlation matrix')\n",
    "plt.show()"
   ]
  },
  {
   "cell_type": "code",
   "execution_count": 14,
   "metadata": {},
   "outputs": [
    {
     "data": {
      "text/html": [
       "<div>\n",
       "<style scoped>\n",
       "    .dataframe tbody tr th:only-of-type {\n",
       "        vertical-align: middle;\n",
       "    }\n",
       "\n",
       "    .dataframe tbody tr th {\n",
       "        vertical-align: top;\n",
       "    }\n",
       "\n",
       "    .dataframe thead th {\n",
       "        text-align: right;\n",
       "    }\n",
       "</style>\n",
       "<table border=\"1\" class=\"dataframe\">\n",
       "  <thead>\n",
       "    <tr style=\"text-align: right;\">\n",
       "      <th></th>\n",
       "      <th>Unnamed: 0</th>\n",
       "      <th>TV</th>\n",
       "      <th>radio</th>\n",
       "      <th>newspaper</th>\n",
       "      <th>sales</th>\n",
       "    </tr>\n",
       "  </thead>\n",
       "  <tbody>\n",
       "    <tr>\n",
       "      <th>count</th>\n",
       "      <td>200.000000</td>\n",
       "      <td>200.000000</td>\n",
       "      <td>200.000000</td>\n",
       "      <td>200.000000</td>\n",
       "      <td>200.000000</td>\n",
       "    </tr>\n",
       "    <tr>\n",
       "      <th>mean</th>\n",
       "      <td>100.500000</td>\n",
       "      <td>147.042500</td>\n",
       "      <td>23.264000</td>\n",
       "      <td>30.554000</td>\n",
       "      <td>14.022500</td>\n",
       "    </tr>\n",
       "    <tr>\n",
       "      <th>std</th>\n",
       "      <td>57.879185</td>\n",
       "      <td>85.854236</td>\n",
       "      <td>14.846809</td>\n",
       "      <td>21.778621</td>\n",
       "      <td>5.217457</td>\n",
       "    </tr>\n",
       "    <tr>\n",
       "      <th>min</th>\n",
       "      <td>1.000000</td>\n",
       "      <td>0.700000</td>\n",
       "      <td>0.000000</td>\n",
       "      <td>0.300000</td>\n",
       "      <td>1.600000</td>\n",
       "    </tr>\n",
       "    <tr>\n",
       "      <th>25%</th>\n",
       "      <td>50.750000</td>\n",
       "      <td>74.375000</td>\n",
       "      <td>9.975000</td>\n",
       "      <td>12.750000</td>\n",
       "      <td>10.375000</td>\n",
       "    </tr>\n",
       "    <tr>\n",
       "      <th>50%</th>\n",
       "      <td>100.500000</td>\n",
       "      <td>149.750000</td>\n",
       "      <td>22.900000</td>\n",
       "      <td>25.750000</td>\n",
       "      <td>12.900000</td>\n",
       "    </tr>\n",
       "    <tr>\n",
       "      <th>75%</th>\n",
       "      <td>150.250000</td>\n",
       "      <td>218.825000</td>\n",
       "      <td>36.525000</td>\n",
       "      <td>45.100000</td>\n",
       "      <td>17.400000</td>\n",
       "    </tr>\n",
       "    <tr>\n",
       "      <th>max</th>\n",
       "      <td>200.000000</td>\n",
       "      <td>296.400000</td>\n",
       "      <td>49.600000</td>\n",
       "      <td>114.000000</td>\n",
       "      <td>27.000000</td>\n",
       "    </tr>\n",
       "  </tbody>\n",
       "</table>\n",
       "</div>"
      ],
      "text/plain": [
       "       Unnamed: 0          TV       radio   newspaper       sales\n",
       "count  200.000000  200.000000  200.000000  200.000000  200.000000\n",
       "mean   100.500000  147.042500   23.264000   30.554000   14.022500\n",
       "std     57.879185   85.854236   14.846809   21.778621    5.217457\n",
       "min      1.000000    0.700000    0.000000    0.300000    1.600000\n",
       "25%     50.750000   74.375000    9.975000   12.750000   10.375000\n",
       "50%    100.500000  149.750000   22.900000   25.750000   12.900000\n",
       "75%    150.250000  218.825000   36.525000   45.100000   17.400000\n",
       "max    200.000000  296.400000   49.600000  114.000000   27.000000"
      ]
     },
     "execution_count": 14,
     "metadata": {},
     "output_type": "execute_result"
    }
   ],
   "source": [
    "ap.describe()"
   ]
  },
  {
   "cell_type": "code",
   "execution_count": 15,
   "metadata": {},
   "outputs": [
    {
     "data": {
      "image/png": "[encoded data removed]",
      "text/plain": [
       "<Figure size 2160x6480 with 5 Axes>"
      ]
     },
     "metadata": {
      "needs_background": "light"
     },
     "output_type": "display_data"
    }
   ],
   "source": [
    "collist=ap.columns.values\n",
    "ncol=30\n",
    "nrows=14\n",
    "plt.figure(figsize=(ncol,3*ncol))\n",
    "for i in range(0,len(collist)):\n",
    "    plt.subplot(nrows,ncol,i+1)\n",
    "    sns.boxplot(ap[collist[i]],color='red',orient='v')\n",
    "    plt.tight_layout()"
   ]
  },
  {
   "cell_type": "code",
   "execution_count": 16,
   "metadata": {},
   "outputs": [
    {
     "data": {
      "image/png": "[encoded data removed]",
      "text/plain": [
       "<Figure size 1296x864 with 96 Axes>"
      ]
     },
     "metadata": {
      "needs_background": "light"
     },
     "output_type": "display_data"
    }
   ],
   "source": [
    "ap.plot(kind='density',subplots=True,layout=(8,12),fontsize=1,figsize=(18,12),sharex=False,legend=False)\n",
    "plt.show()"
   ]
  },
  {
   "cell_type": "code",
   "execution_count": 17,
   "metadata": {},
   "outputs": [
    {
     "data": {
      "text/plain": [
       "Unnamed: 0    0.000000\n",
       "TV           -0.069853\n",
       "radio         0.094175\n",
       "newspaper     0.894720\n",
       "sales         0.407571\n",
       "dtype: float64"
      ]
     },
     "execution_count": 17,
     "metadata": {},
     "output_type": "execute_result"
    }
   ],
   "source": [
    "ap.skew()"
   ]
  },
  {
   "cell_type": "code",
   "execution_count": 18,
   "metadata": {},
   "outputs": [
    {
     "data": {
      "image/png": "[encoded data removed]",
      "text/plain": [
       "<Figure size 432x288 with 1 Axes>"
      ]
     },
     "metadata": {
      "needs_background": "light"
     },
     "output_type": "display_data"
    },
    {
     "data": {
      "image/png": "[encoded data removed]",
      "text/plain": [
       "<Figure size 432x288 with 1 Axes>"
      ]
     },
     "metadata": {
      "needs_background": "light"
     },
     "output_type": "display_data"
    },
    {
     "data": {
      "image/png": "[encoded data removed]",
      "text/plain": [
       "<Figure size 432x288 with 1 Axes>"
      ]
     },
     "metadata": {
      "needs_background": "light"
     },
     "output_type": "display_data"
    },
    {
     "data": {
      "image/png": "[encoded data removed]",
      "text/plain": [
       "<Figure size 432x288 with 1 Axes>"
      ]
     },
     "metadata": {
      "needs_background": "light"
     },
     "output_type": "display_data"
    },
    {
     "data": {
      "image/png": "[encoded data removed]",
      "text/plain": [
       "<Figure size 432x288 with 1 Axes>"
      ]
     },
     "metadata": {
      "needs_background": "light"
     },
     "output_type": "display_data"
    }
   ],
   "source": [
    "for m in ap.columns:\n",
    "    plt.figure()\n",
    "    sns.distplot(ap[m])"
   ]
  },
  {
   "cell_type": "code",
   "execution_count": 19,
   "metadata": {},
   "outputs": [
    {
     "data": {
      "text/plain": [
       "Unnamed: 0   -0.051616\n",
       "newspaper     0.228299\n",
       "radio         0.576223\n",
       "TV            0.782224\n",
       "sales         1.000000\n",
       "Name: sales, dtype: float64"
      ]
     },
     "execution_count": 19,
     "metadata": {},
     "output_type": "execute_result"
    }
   ],
   "source": [
    "cor=ap.corr()\n",
    "cor['sales'].sort_values(ascending=True)"
   ]
  },
  {
   "cell_type": "code",
   "execution_count": 20,
   "metadata": {},
   "outputs": [
    {
     "data": {
      "text/plain": [
       "9.7     5\n",
       "12.9    4\n",
       "11.7    4\n",
       "15.9    4\n",
       "25.4    3\n",
       "       ..\n",
       "15.7    1\n",
       "14.2    1\n",
       "11.2    1\n",
       "19.4    1\n",
       "18.5    1\n",
       "Name: sales, Length: 121, dtype: int64"
      ]
     },
     "execution_count": 20,
     "metadata": {},
     "output_type": "execute_result"
    }
   ],
   "source": [
    "ap.sales.value_counts()"
   ]
  },
  {
   "cell_type": "code",
   "execution_count": 21,
   "metadata": {},
   "outputs": [
    {
     "data": {
      "text/plain": [
       "<matplotlib.axes._subplots.AxesSubplot at 0x1c827cf06a0>"
      ]
     },
     "execution_count": 21,
     "metadata": {},
     "output_type": "execute_result"
    },
    {
     "data": {
      "image/png": "[encoded data removed]",
      "text/plain": [
       "<Figure size 432x288 with 1 Axes>"
      ]
     },
     "metadata": {
      "needs_background": "light"
     },
     "output_type": "display_data"
    }
   ],
   "source": [
    "ap['newspaper'].plot.box()"
   ]
  },
  {
   "cell_type": "code",
   "execution_count": 22,
   "metadata": {},
   "outputs": [
    {
     "data": {
      "text/plain": [
       "(200, 5)"
      ]
     },
     "execution_count": 22,
     "metadata": {},
     "output_type": "execute_result"
    }
   ],
   "source": [
    "from scipy.stats import zscore\n",
    "import numpy as np\n",
    "z=np.abs(zscore(ap))\n",
    "z.shape"
   ]
  },
  {
   "cell_type": "code",
   "execution_count": 23,
   "metadata": {},
   "outputs": [
    {
     "name": "stdout",
     "output_type": "stream",
     "text": [
      "(array([ 16, 101], dtype=int64), array([3, 3], dtype=int64))\n"
     ]
    }
   ],
   "source": [
    "threshold=3\n",
    "print(np.where(z>3))"
   ]
  },
  {
   "cell_type": "code",
   "execution_count": 24,
   "metadata": {},
   "outputs": [
    {
     "data": {
      "text/plain": [
       "3.238153957342154"
      ]
     },
     "execution_count": 24,
     "metadata": {},
     "output_type": "execute_result"
    }
   ],
   "source": [
    "z[101][3]"
   ]
  },
  {
   "cell_type": "code",
   "execution_count": 25,
   "metadata": {},
   "outputs": [
    {
     "data": {
      "text/plain": [
       "3.8411707150992718"
      ]
     },
     "execution_count": 25,
     "metadata": {},
     "output_type": "execute_result"
    }
   ],
   "source": [
    "z[16][3]"
   ]
  },
  {
   "cell_type": "code",
   "execution_count": 26,
   "metadata": {},
   "outputs": [
    {
     "name": "stdout",
     "output_type": "stream",
     "text": [
      "(200, 5)\n",
      "(198, 5)\n"
     ]
    }
   ],
   "source": [
    "ap_new=ap[(z<3).all(axis=1)]\n",
    "print(ap.shape)\n",
    "print(ap_new.shape)"
   ]
  },
  {
   "cell_type": "code",
   "execution_count": 27,
   "metadata": {},
   "outputs": [
    {
     "data": {
      "text/plain": [
       "array([[-2.08112123e+00,  9.55983058e-01,  9.69109801e-01,\n",
       "         1.60419650e+00,  1.47666436e+00],\n",
       "       [-2.03541299e+00, -1.19200349e+00,  1.04623436e+00,\n",
       "         8.31044006e-01, -6.45180303e-01],\n",
       "       [-1.99380721e+00, -1.64612530e+00,  1.37296802e+00,\n",
       "         1.60705249e+00, -8.89458475e-01],\n",
       "       [-1.95500804e+00,  1.42934281e-01,  1.14733160e+00,\n",
       "         1.28376774e+00,  8.92430740e-01],\n",
       "       [-1.91830818e+00,  4.56452411e-01, -7.35026416e-01,\n",
       "         1.28062154e+00, -1.27879223e-01],\n",
       "       [-1.88326684e+00, -1.82040080e+00,  1.51543955e+00,\n",
       "         1.76610727e+00, -1.39237187e+00],\n",
       "       [-1.84958541e+00, -1.00349358e+00,  7.03096422e-01,\n",
       "        -1.02053455e-01, -3.49648853e-01],\n",
       "       [-1.81704952e+00, -2.09960489e-01, -8.76566044e-02,\n",
       "        -8.49688954e-01, -6.88298190e-02],\n",
       "       [-1.78549851e+00, -1.82264543e+00, -1.62948287e+00,\n",
       "        -2.09866461e+00, -2.04804420e+00],\n",
       "       [-1.75480800e+00,  6.52694004e-01, -1.56152179e+00,\n",
       "        -2.26499330e-01, -6.01965694e-01],\n",
       "       [-1.72487914e+00, -8.84827613e-01, -1.19258569e+00,\n",
       "        -6.55338235e-02, -1.05128083e+00],\n",
       "       [-1.69563166e+00,  8.03220284e-01,  1.93575534e-01,\n",
       "        -1.59608414e+00,  7.04061621e-01],\n",
       "       [-1.66699926e+00, -1.52567125e+00,  8.27259979e-01,\n",
       "         1.50859232e+00, -9.12255189e-01],\n",
       "       [-1.63892633e+00, -4.80903084e-01, -1.01613619e+00,\n",
       "        -1.23269654e+00, -7.99285797e-01],\n",
       "       [-1.61136564e+00,  6.96423742e-01,  7.08562678e-01,\n",
       "         8.63674550e-01,  9.76413441e-01],\n",
       "       [-1.58427663e+00,  6.07694561e-01,  1.45886692e+00,\n",
       "         1.10260830e+00,  1.52336639e+00],\n",
       "       [-1.53137745e+00,  1.44702338e+00,  1.06152278e+00,\n",
       "         1.19771741e+00,  1.82784770e+00],\n",
       "       [-1.50550946e+00, -8.43041085e-01, -2.83431489e-02,\n",
       "        -3.94587754e-01, -4.53381163e-01],\n",
       "       [-1.47999615e+00,  9.67615123e-02,  1.87411889e-01,\n",
       "        -3.46833997e-01,  1.99361764e-01],\n",
       "       [-1.45481611e+00,  8.40174791e-01,  4.15233033e-01,\n",
       "         1.11921444e+00,  8.07438992e-01],\n",
       "       [-1.42995011e+00,  1.02746612e+00, -1.26608750e+00,\n",
       "        -1.02053455e-01, -2.07543120e-01],\n",
       "       [-1.40538082e+00, -1.72466475e+00, -3.43080197e-01,\n",
       "         9.90697773e-01, -1.81744902e+00],\n",
       "       [-1.38109254e+00,  9.38267420e-01, -2.72044379e-01,\n",
       "         3.56758030e-02,  3.65876080e-01],\n",
       "       [-1.35707101e+00, -9.36741865e-01, -5.90235876e-01,\n",
       "        -3.94587754e-01, -7.99285797e-01],\n",
       "       [-1.33330319e+00,  1.27285397e+00, -1.44792482e+00,\n",
       "        -3.23369976e-01, -3.08685657e-01],\n",
       "       [-1.30977716e+00,  4.80238801e-02,  5.07564879e-01,\n",
       "        -7.74054797e-01,  2.73905890e-01],\n",
       "       [-1.28648194e+00,  1.05376032e+00, -2.86123991e-01,\n",
       "        -1.33840511e-01,  4.38521375e-01],\n",
       "       [-1.26340742e+00,  1.13797152e+00,  3.80088814e-01,\n",
       "        -1.33840511e-01,  9.59695826e-01],\n",
       "       [-1.24054425e+00, -8.24327694e-01, -3.35903511e-01,\n",
       "         6.69803474e-01, -6.23529245e-01],\n",
       "       [-1.21788377e+00,  1.55379249e+00,  4.50089225e-01,\n",
       "         7.60923127e-01,  1.36658159e+00],\n",
       "       [-1.19541794e+00, -2.95525393e-01, -2.37113587e-01,\n",
       "         5.83572839e-01, -3.29130283e-01],\n",
       "       [-1.17313924e+00, -4.84586083e-01, -1.71704857e+00,\n",
       "         2.16697020e-01, -8.21679665e-01],\n",
       "       [-1.15104069e+00,  1.29846636e+00, -6.11716920e-02,\n",
       "        -2.27584640e+00,  7.04061621e-01],\n",
       "       [-1.12911574e+00, -5.03045189e-01, -1.73241480e+00,\n",
       "        -1.21299201e+00, -8.44172142e-01],\n",
       "       [-1.10735826e+00,  1.53345233e+00, -1.37714720e+00,\n",
       "        -1.10919482e+00, -1.47693998e-01],\n",
       "       [-1.08576250e+00,  1.31077419e+00,  1.27109462e+00,\n",
       "        -1.47085980e+00,  1.97589451e+00],\n",
       "       [-1.06432304e+00, -7.70061569e-01,  1.53885314e+00,\n",
       "         8.52838274e-01,  2.18080452e-01],\n",
       "       [-1.04303479e+00, -1.21308859e+00,  3.56495087e-01,\n",
       "         4.40459727e-01, -7.10669913e-01],\n",
       "       [-1.02189293e+00,  9.35311305e-01,  9.63926811e-01,\n",
       "         3.06820567e-01,  1.38240481e+00],\n",
       "       [-1.00089294e+00,  6.80180313e-01,  8.74288556e-02,\n",
       "         2.89054607e-01,  5.63750342e-01],\n",
       "       [-9.80030500e-01,  4.16577398e-01,  7.35799328e-01,\n",
       "         5.87551818e-01,  6.51784350e-01],\n",
       "       [-9.59301554e-01,  1.56025605e+00,  4.15233033e-01,\n",
       "        -1.93614969e+00,  1.25488464e+00],\n",
       "       [-9.38702238e-01,  7.24770763e-01, -9.42463931e-01,\n",
       "         4.55561165e-02, -1.27879223e-01],\n",
       "       [-9.18228888e-01, -1.50299171e+00,  2.96916329e-01,\n",
       "         7.64656783e-01, -1.07484108e+00],\n",
       "       [-8.97878020e-01,  3.96557056e-01,  1.00071323e-01,\n",
       "         2.84593396e-01,  2.55352005e-01],\n",
       "       [-8.77646317e-01, -5.77642501e-01, -8.10672032e-01,\n",
       "         4.65547418e-01, -6.01965694e-01],\n",
       "       [-8.57530621e-01,  1.05181524e+00,  1.15733673e+00,\n",
       "        -3.82543336e-01,  1.64655978e+00],\n",
       "       [-8.37527918e-01,  9.27423407e-01, -3.50273618e-01,\n",
       "         1.00104316e+00,  2.36743695e-01],\n",
       "       [-8.17635332e-01, -8.73996819e-01, -6.61620535e-01,\n",
       "         5.10931130e-01, -7.99285797e-01],\n",
       "       [-7.97850116e-01,  6.52694004e-01, -1.49718987e+00,\n",
       "         4.19368022e-01, -4.32479805e-01],\n",
       "       [-7.78169642e-01, -4.45449379e-01, -8.36428828e-01,\n",
       "        -1.65023317e+00, -5.80488545e-01],\n",
       "       [-7.58591393e-01,  8.20219674e-01,  1.16732335e+00,\n",
       "         6.23104064e-01,  1.55434629e+00],\n",
       "       [-7.39112961e-01,  4.75264815e-01,  1.38737344e+00,\n",
       "         1.29005095e+00,  1.33483614e+00],\n",
       "       [-7.19732035e-01,  1.27095405e+00,  4.78921950e-01,\n",
       "        -5.45151871e-01,  1.17407046e+00],\n",
       "       [-7.00446399e-01,  6.43510597e-01,  1.53885314e+00,\n",
       "         1.33059751e+00,  1.72259393e+00],\n",
       "       [-6.81253924e-01, -1.85241088e+00,  4.38501983e-01,\n",
       "         6.92861903e-01, -1.84553242e+00],\n",
       "       [-6.62152566e-01, -2.69424634e-02, -1.14344725e-01,\n",
       "        -5.00022982e-01, -6.88298190e-02],\n",
       "       [-6.43140358e-01,  7.64089395e-01,  1.54819296e+00,\n",
       "         5.47496864e-01,  1.73771446e+00],\n",
       "       [-6.24215409e-01,  7.63083589e-01,  5.18969888e-01,\n",
       "        -1.03801781e+00,  8.75514332e-01],\n",
       "       [-6.05375897e-01, -1.06021399e+00, -1.64357954e+00,\n",
       "        -2.15389488e-01, -1.17025828e+00],\n",
       "       [-5.86620068e-01,  1.25764412e+00,  1.21698291e+00,\n",
       "         1.16198054e+00,  1.79791457e+00],\n",
       "       [-5.67946231e-01,  1.04597746e+00, -3.71955683e-01,\n",
       "         8.95079934e-02,  4.02300026e-01],\n",
       "       [-5.49352753e-01, -4.17518113e-01,  5.24661351e-01,\n",
       "        -1.11833294e+00,  8.58554682e-02],\n",
       "       [-5.30838061e-01, -8.46453587e-02,  1.22192414e+00,\n",
       "         1.65686579e-01,  8.07438992e-01],\n",
       "       [-5.12400635e-01, -8.45722309e-01, -8.62474197e-01,\n",
       "        -2.12148202e+00, -8.89458475e-01],\n",
       "       [-4.94039006e-01, -1.39528628e+00,  2.30355644e-01,\n",
       "        -1.86501000e+00, -8.44172142e-01],\n",
       "       [-4.75751755e-01,  7.85901566e-03, -4.45376974e-01,\n",
       "        -9.61676392e-01, -2.97858724e-02],\n",
       "       [-4.57537508e-01,  1.02746612e+00,  4.03550712e-01,\n",
       "        -8.96751774e-01,  9.59695826e-01],\n",
       "       [-4.39394938e-01,  8.24214502e-01,  1.27598779e+00,\n",
       "         8.46648515e-02,  1.50783020e+00],\n",
       "       [-4.21322759e-01,  6.45552281e-01,  5.81178989e-01,\n",
       "         5.87551818e-01,  8.58557264e-01],\n",
       "       [-4.03319725e-01, -3.32289453e-01, -4.60282537e-01,\n",
       "         2.93507892e-01, -2.27630196e-01],\n",
       "       [-3.85384630e-01, -1.47377148e+00,  7.14022591e-01,\n",
       "        -3.35068479e-01, -1.00450070e+00],\n",
       "       [-3.67516305e-01, -1.04007607e-01, -1.20289700e+00,\n",
       "         2.75647037e-01, -5.16564828e-01],\n",
       "       [-3.49713617e-01,  7.90197248e-01,  2.30355644e-01,\n",
       "        -7.37445183e-01,  6.34269052e-01],\n",
       "       [-3.31975463e-01, -1.65184774e+00,  1.26619715e+00,\n",
       "         2.13937255e+00, -1.02783461e+00],\n",
       "       [-3.14300779e-01, -1.46187563e+00, -1.70192244e+00,\n",
       "        -2.54530313e-01, -1.46890990e+00],\n",
       "       [-2.96688525e-01, -2.06473264e-01,  4.61645376e-01,\n",
       "        -6.59471053e-01,  1.23921995e-01],\n",
       "       [-2.79137697e-01, -1.89822804e+00,  5.41691977e-01,\n",
       "        -1.02934918e+00, -1.90230972e+00],\n",
       "       [-2.61647316e-01, -2.59020528e-01, -1.00678392e+00,\n",
       "        -1.23193945e-01, -5.16564828e-01],\n",
       "       [-2.44216431e-01, -7.47786505e-01,  3.56495087e-01,\n",
       "        -1.66093666e-01, -3.49648853e-01],\n",
       "       [-2.26844119e-01,  1.05084254e+00, -1.37714720e+00,\n",
       "         5.15018742e-01, -2.47787208e-01],\n",
       "       [-2.09529479e-01, -7.62185079e-01, -4.14381211e-02,\n",
       "         3.28853334e-01, -4.53381163e-01],\n",
       "       [-1.92271637e-01, -8.53777962e-01,  1.30525722e+00,\n",
       "         4.61382738e-01,  9.00632625e-03],\n",
       "       [-1.75069743e-01,  7.91199747e-01,  1.23179329e+00,\n",
       "         3.85260976e-01,  1.41395330e+00],\n",
       "       [-1.57922966e-01,  5.85096748e-01, -1.68353388e-01,\n",
       "         1.50271112e+00,  3.10852364e-01],\n",
       "       [-1.40830501e-01, -7.49093259e-01,  4.03550712e-01,\n",
       "        -5.38639377e-01, -3.08685657e-01],\n",
       "       [-1.23791560e-01, -3.21588787e-01,  1.11216604e+00,\n",
       "         1.42831665e+00,  4.56557175e-01],\n",
       "       [-1.06805378e-01, -5.95230843e-01,  2.84895857e-01,\n",
       "         1.72217946e+00, -1.27879223e-01],\n",
       "       [-8.98712081e-02, -3.32289453e-01,  1.46360210e+00,\n",
       "         1.05224719e+00,  5.81449402e-01],\n",
       "       [-7.29883212e-02, -4.83733557e-02, -1.28768913e+00,\n",
       "        -1.03801781e+00, -4.74361814e-01],\n",
       "       [-5.61560074e-02, -1.44333425e+00, -1.71704857e+00,\n",
       "         3.50696260e-01, -1.36715002e+00],\n",
       "       [-3.93735739e-02,  8.33195900e-01,  7.41227911e-01,\n",
       "         1.29945293e+00,  1.04289787e+00],\n",
       "       [-2.26403446e-02,  1.15818339e+00,  9.01314021e-01,\n",
       "         1.69166052e+00,  1.49226292e+00],\n",
       "       [-5.95565951e-03, -3.60935766e-01, -4.82785497e-01,\n",
       "        -9.04727257e-01, -4.11656803e-01],\n",
       "       [ 1.06811257e-02,  2.70930405e-01,  6.36996883e-01,\n",
       "         1.10260830e+00,  6.16708378e-01],\n",
       "       [ 2.72706403e-02,  6.30226675e-01, -1.44792482e+00,\n",
       "        -1.36815587e+00, -3.70242217e-01],\n",
       "       [ 4.38134988e-02,  4.99233291e-01,  4.18623581e-03,\n",
       "        -1.82400952e-01,  3.65876080e-01],\n",
       "       [ 6.03103019e-02,  1.52419364e+00,  1.19717332e+00,\n",
       "         1.04546953e+00,  1.97589451e+00],\n",
       "       [ 7.67616364e-02, -3.82121960e-02,  1.16732335e+00,\n",
       "         8.60066925e-01,  6.69254636e-01],\n",
       "       [ 9.31680759e-02,  8.79943885e-01, -1.35429375e+00,\n",
       "         9.97598637e-01, -3.70242217e-01],\n",
       "       [ 1.25848501e-01,  1.43581778e+00, -7.93655685e-01,\n",
       "        -2.15389488e-01,  2.36743695e-01],\n",
       "       [ 1.42123572e-01,  5.30381051e-01, -2.51040510e-01,\n",
       "        -4.18895537e-01,  2.18080452e-01],\n",
       "       [ 1.58355919e-01,  1.03526502e+00,  7.84435819e-01,\n",
       "        -1.43568966e+00,  1.25488464e+00],\n",
       "       [ 1.74546055e-01, -7.83276627e-03,  1.39695704e+00,\n",
       "         1.29945293e+00,  1.00973230e+00],\n",
       "       [ 1.90694484e-01, -1.50472569e+00, -7.18528744e-01,\n",
       "         2.02890585e-01, -1.39237187e+00],\n",
       "       [ 2.06801696e-01, -5.68874824e-01, -1.92277996e+00,\n",
       "        -1.17889867e-01, -1.02783461e+00],\n",
       "       [ 2.22868176e-01, -1.72669682e+00, -1.90334954e+00,\n",
       "         5.77961414e-03, -1.90230972e+00],\n",
       "       [ 2.38894393e-01,  1.20134779e+00,  3.68308593e-01,\n",
       "        -1.41277956e+00,  1.10877789e+00],\n",
       "       [ 2.54880811e-01,  9.13602262e-01, -9.60642725e-01,\n",
       "         1.22025052e+00, -2.97858724e-02],\n",
       "       [ 2.70827882e-01,  1.06930594e+00,  9.79460034e-01,\n",
       "        -1.17889867e-01,  1.42967900e+00],\n",
       "       [ 2.86736051e-01,  4.02885307e-01, -3.79217450e-01,\n",
       "        -1.83137048e+00,  1.04918084e-01],\n",
       "       [ 3.02605751e-01,  7.52011554e-01, -2.18136487e-02,\n",
       "        -9.20795602e-01,  4.38521375e-01],\n",
       "       [ 3.18437410e-01, -7.24339293e-01,  1.41607663e+00,\n",
       "         4.15129109e-01,  1.99361764e-01],\n",
       "       [ 3.34231445e-01, -7.64808781e-01,  8.21927536e-01,\n",
       "         1.09594084e+00, -1.87525222e-01],\n",
       "       [ 3.49988266e-01,  6.73952813e-03, -4.60282537e-01,\n",
       "         5.77961414e-03, -2.68014929e-01],\n",
       "       [ 3.65708276e-01, -7.47786505e-01, -1.83055994e+00,\n",
       "        -6.18314434e-01, -8.66764608e-01],\n",
       "       [ 3.81391868e-01, -1.46377645e-01,  9.22271411e-01,\n",
       "         1.87892616e+00,  4.38521375e-01],\n",
       "       [ 3.97039429e-01, -1.60487761e+00, -3.35903511e-01,\n",
       "        -1.66093666e-01, -1.54681402e+00],\n",
       "       [ 4.12651339e-01,  3.02054628e-02,  3.62406022e-01,\n",
       "         8.70876472e-01,  3.65876080e-01],\n",
       "       [ 4.28227970e-01, -1.61600701e+00,  4.92426558e-02,\n",
       "         1.01820721e+00, -1.44324916e+00],\n",
       "       [ 4.43769688e-01,  8.95799585e-01, -1.58822992e+00,\n",
       "        -5.64824479e-01, -3.90911240e-01],\n",
       "       [ 4.59276852e-01, -1.76343635e-01,  8.00539201e-01,\n",
       "        -7.88916953e-01,  3.10852364e-01],\n",
       "       [ 4.74749814e-01,  9.50081843e-01,  6.75669076e-01,\n",
       "         1.74421110e+00,  1.09236361e+00],\n",
       "       [ 4.90188920e-01, -6.09100568e-01, -6.53592729e-01,\n",
       "         2.07760351e-02, -6.01965694e-01],\n",
       "       [ 5.05594509e-01, -1.84082856e+00,  1.02577993e+00,\n",
       "         1.02504572e+00, -1.54681402e+00],\n",
       "       [ 5.20966916e-01, -6.98448651e-01, -1.98495808e+00,\n",
       "        -1.04673537e+00, -1.00450070e+00],\n",
       "       [ 5.36306469e-01,  8.59088401e-01,  1.52012963e+00,\n",
       "        -1.70718676e+00,  1.87254235e+00],\n",
       "       [ 5.51613489e-01, -9.74121042e-01, -6.37610795e-01,\n",
       "         7.57184572e-01, -7.99285797e-01],\n",
       "       [ 5.66888293e-01, -2.03323356e+00,  1.06152278e+00,\n",
       "        -1.09108448e+00, -3.17282676e+00],\n",
       "       [ 5.82131193e-01,  1.29467620e+00, -1.52253007e+00,\n",
       "         7.53441098e-01, -1.67575759e-01],\n",
       "       [ 5.97342494e-01, -1.82715302e+00,  3.85966546e-01,\n",
       "        -1.88228781e+00, -1.78956310e+00],\n",
       "       [ 6.12522496e-01,  8.54115242e-01,  7.41227911e-01,\n",
       "         8.31044006e-01,  1.07591235e+00],\n",
       "       [ 6.27671495e-01, -1.30867028e+00,  1.01038610e+00,\n",
       "         1.49976669e+00, -5.59096720e-01],\n",
       "       [ 6.42789782e-01, -1.13560137e+00,  1.42561279e+00,\n",
       "        -1.10919482e+00, -3.90911240e-01],\n",
       "       [ 6.57877643e-01, -1.49434751e+00,  1.03090107e+00,\n",
       "        -1.03801781e+00, -8.44172142e-01],\n",
       "       [ 6.72935358e-01,  1.37490294e+00,  4.84665578e-01,\n",
       "         1.32128542e+00,  1.27094302e+00],\n",
       "       [ 6.87963204e-01, -1.21460127e+00,  3.08901412e-01,\n",
       "        -2.65847496e-01, -8.21679665e-01],\n",
       "       [ 7.02961454e-01,  4.99233291e-01,  1.27598779e+00,\n",
       "        -1.95484304e+00,  1.25488464e+00],\n",
       "       [ 7.17930373e-01, -7.87183238e-01, -2.65027803e-01,\n",
       "        -7.51997248e-01, -5.37789159e-01],\n",
       "       [ 7.32870227e-01,  5.90238432e-01,  8.43222533e-01,\n",
       "         1.78244184e+00,  1.00973230e+00],\n",
       "       [ 7.47781274e-01,  8.61076847e-01,  7.24923490e-01,\n",
       "         5.55555441e-01,  1.15780149e+00],\n",
       "       [ 7.62663768e-01, -3.94565765e-01, -1.20289700e+00,\n",
       "         4.10883268e-01, -6.45180303e-01],\n",
       "       [ 7.77517962e-01, -4.96883939e-01, -4.23159794e-01,\n",
       "         5.95492378e-01, -4.32479805e-01],\n",
       "       [ 7.92344102e-01,  1.90425158e-02, -1.65786243e+00,\n",
       "        -1.06432036e+00, -6.66919994e-01],\n",
       "       [ 8.07142431e-01,  1.05376032e+00, -1.04445327e+00,\n",
       "        -1.09108448e+00, -6.88298190e-02],\n",
       "       [ 8.21913190e-01,  1.08385578e+00,  1.52012963e+00,\n",
       "         8.01727595e-01,  1.97589451e+00],\n",
       "       [ 8.36656613e-01, -1.29143203e+00,  1.09702388e+00,\n",
       "        -8.26644287e-01, -5.37789159e-01],\n",
       "       [ 8.51372933e-01, -1.18900520e+00,  3.02913271e-01,\n",
       "        -2.60181310e-01, -7.10669913e-01],\n",
       "       [ 8.66062380e-01,  1.44048829e+00, -4.90325762e-01,\n",
       "         5.19100106e-01,  4.74543631e-01],\n",
       "       [ 8.80725177e-01, -2.00666192e-01, -9.42463931e-01,\n",
       "         9.59446523e-01, -3.90911240e-01],\n",
       "       [ 8.95361549e-01,  6.30226675e-01,  1.50223313e-01,\n",
       "        -6.59471053e-01,  5.63750342e-01],\n",
       "       [ 9.09971712e-01,  3.56346926e-01,  1.06660903e+00,\n",
       "         5.47496864e-01,  9.76413441e-01],\n",
       "       [ 9.24555884e-01,  5.29344873e-01,  1.06570530e-02,\n",
       "        -1.02072873e+00,  3.84113601e-01],\n",
       "       [ 9.39114275e-01, -1.93163495e+00, -6.69673260e-01,\n",
       "        -1.39027462e+00, -2.55909057e+00],\n",
       "       [ 9.53647096e-01, -5.25294689e-01,  1.25638925e+00,\n",
       "         1.02162839e+00,  3.29245926e-01],\n",
       "       [ 9.68154553e-01,  1.24285632e-01, -1.74803521e+00,\n",
       "        -6.03649631e-02, -7.10669913e-01],\n",
       "       [ 9.82636849e-01, -1.75555556e+00,  9.22271411e-01,\n",
       "         8.34687756e-01, -1.36715002e+00],\n",
       "       [ 9.97094185e-01, -7.78271156e-02, -1.68353388e-01,\n",
       "         4.19368022e-01, -1.27879223e-01],\n",
       "       [ 1.01152676e+00,  3.69069534e-01, -1.88831807e-01,\n",
       "         2.48613642e-01,  1.61755955e-01],\n",
       "       [ 1.02593476e+00, -6.28086545e-01,  8.64425620e-01,\n",
       "         9.80316762e-01, -4.92760555e-02],\n",
       "       [ 1.04031839e+00,  5.35559799e-01, -1.88831807e-01,\n",
       "         5.77961414e-03,  2.55352005e-01],\n",
       "       [ 1.05467784e+00,  2.73078805e-01,  9.17040259e-01,\n",
       "        -1.21299201e+00,  8.07438992e-01],\n",
       "       [ 1.06901328e+00, -2.44957339e-01, -4.30546922e-01,\n",
       "        -1.42418272e+00, -3.29130283e-01],\n",
       "       [ 1.08332491e+00,  9.99137820e-01, -1.46007371e+00,\n",
       "         2.02414625e+00, -3.29130283e-01],\n",
       "       [ 1.09761291e+00, -1.63286723e+00,  9.58738548e-01,\n",
       "        -2.04337008e-01, -1.19441605e+00],\n",
       "       [ 1.11187745e+00,  7.23760085e-01, -1.25539136e+00,\n",
       "        -3.29210916e-01, -2.68014929e-01],\n",
       "       [ 1.12611872e+00,  8.10224235e-01,  1.68862229e-01,\n",
       "         1.25534066e+00,  6.51784350e-01],\n",
       "       [ 1.14033688e+00,  1.47405264e+00, -7.51634521e-01,\n",
       "        -1.31443661e+00,  2.73905890e-01],\n",
       "       [ 1.15453212e+00, -1.11073781e+00, -6.69673260e-01,\n",
       "        -3.88556546e-01, -1.09851711e+00],\n",
       "       [ 1.16870459e+00,  2.83810642e-01, -2.29616877e-03,\n",
       "         9.13720990e-01,  1.80587108e-01],\n",
       "       [ 1.18285448e+00, -1.60118681e+00, -5.45815801e-02,\n",
       "        -4.74701160e-01, -1.29232151e+00],\n",
       "       [ 1.19698193e+00,  3.25505056e-01, -1.06355551e+00,\n",
       "        -7.59318821e-01, -3.70242217e-01],\n",
       "       [ 1.21108712e+00,  8.79943885e-01, -1.46007371e+00,\n",
       "        -7.37445183e-01, -4.11656803e-01],\n",
       "       [ 1.22517021e+00,  1.40493806e+00,  1.51543955e+00,\n",
       "         7.08129257e-01,  2.20744077e+00],\n",
       "       [ 1.23923136e+00,  1.13411664e+00,  5.58657645e-01,\n",
       "        -2.77225880e-01,  1.17407046e+00],\n",
       "       [ 1.25327072e+00,  3.44664290e-01, -9.97473864e-01,\n",
       "         4.44657707e-01, -3.70242217e-01],\n",
       "       [ 1.26728845e+00,  1.40306351e+00, -1.60181548e+00,\n",
       "        -9.15582196e-02, -3.49648853e-01],\n",
       "       [ 1.28128471e+00,  2.95596216e-01, -8.02148636e-01,\n",
       "        -4.37322778e-01, -1.87525222e-01],\n",
       "       [ 1.29525964e+00,  1.98559462e-01, -1.56152179e+00,\n",
       "        -1.12752759e+00, -6.23529245e-01],\n",
       "       [ 1.30921339e+00,  8.41171303e-01, -1.23420066e+00,\n",
       "         9.43412236e-02, -2.68014929e-01],\n",
       "       [ 1.32314611e+00, -1.02181379e+00, -1.20289700e+00,\n",
       "         2.02890585e-01, -1.02783461e+00],\n",
       "       [ 1.33705795e+00,  1.50472337e+00,  1.23179329e+00,\n",
       "         1.67770049e+00,  2.09246069e+00],\n",
       "       [ 1.35094905e+00,  1.18602318e+00,  2.35642166e-02,\n",
       "         2.16697020e-01,  7.38692845e-01],\n",
       "       [ 1.36481956e+00,  7.05546191e-01,  1.33437513e+00,\n",
       "        -3.17545531e-01,  1.55434629e+00],\n",
       "       [ 1.37866960e+00,  1.00973688e-02, -1.62948287e+00,\n",
       "         5.53947058e-02, -6.66919994e-01],\n",
       "       [ 1.39249933e+00,  5.63463957e-01,  4.73170731e-01,\n",
       "        -4.00637106e-01,  6.86680274e-01],\n",
       "       [ 1.40630888e+00,  1.48986416e+00, -4.90325762e-01,\n",
       "        -1.63644784e+00,  4.38521375e-01],\n",
       "       [ 1.42009838e+00, -1.61787038e+00, -6.29656140e-01,\n",
       "        -1.07319704e-01, -1.52068942e+00],\n",
       "       [ 1.43386797e+00, -1.26812741e+00,  1.13730782e+00,\n",
       "        -1.37916810e+00, -5.59096720e-01],\n",
       "       [ 1.44761778e+00, -7.59563165e-01, -7.35026416e-01,\n",
       "        -1.35723580e+00, -7.54788527e-01],\n",
       "       [ 1.46134795e+00, -1.64612530e+00, -1.37714720e+00,\n",
       "         2.89054607e-01, -1.73436663e+00],\n",
       "       [ 1.47505859e+00,  3.08430163e-01,  1.18226883e+00,\n",
       "        -1.65023317e+00,  1.07591235e+00],\n",
       "       [ 1.48874984e+00,  1.23186956e-01,  8.53835478e-01,\n",
       "        -1.35723580e+00,  6.86680274e-01],\n",
       "       [ 1.50242183e+00, -1.28831146e+00, -1.42394128e+00,\n",
       "        -6.87434548e-01, -1.29232151e+00],\n",
       "       [ 1.51607467e+00, -5.21578873e-01, -1.28768913e+00,\n",
       "        -1.14609038e+00, -7.99285797e-01],\n",
       "       [ 1.52970850e+00,  4.16577398e-01, -8.62474197e-01,\n",
       "        -1.31443661e+00, -1.47693998e-01],\n",
       "       [ 1.54332343e+00,  1.46753490e+00,  1.18226883e+00,\n",
       "         1.51739504e+00,  1.99055440e+00],\n",
       "       [ 1.55691958e+00,  9.75625093e-01, -9.24436754e-01,\n",
       "        -1.09108448e+00, -2.97858724e-02]])"
      ]
     },
     "execution_count": 27,
     "metadata": {},
     "output_type": "execute_result"
    }
   ],
   "source": [
    "from sklearn.preprocessing import power_transform\n",
    "ap_new=power_transform(ap_new,method='yeo-johnson')\n",
    "ap_new"
   ]
  },
  {
   "cell_type": "code",
   "execution_count": 28,
   "metadata": {},
   "outputs": [
    {
     "data": {
      "text/plain": [
       "array([[-2.08112123e+00,  9.55983058e-01,  9.69109801e-01,\n",
       "         1.60419650e+00,  1.47666436e+00],\n",
       "       [-2.03541299e+00, -1.19200349e+00,  1.04623436e+00,\n",
       "         8.31044006e-01, -6.45180303e-01],\n",
       "       [-1.99380721e+00, -1.64612530e+00,  1.37296802e+00,\n",
       "         1.60705249e+00, -8.89458475e-01],\n",
       "       [-1.95500804e+00,  1.42934281e-01,  1.14733160e+00,\n",
       "         1.28376774e+00,  8.92430740e-01],\n",
       "       [-1.91830818e+00,  4.56452411e-01, -7.35026416e-01,\n",
       "         1.28062154e+00, -1.27879223e-01],\n",
       "       [-1.88326684e+00, -1.82040080e+00,  1.51543955e+00,\n",
       "         1.76610727e+00, -1.39237187e+00],\n",
       "       [-1.84958541e+00, -1.00349358e+00,  7.03096422e-01,\n",
       "        -1.02053455e-01, -3.49648853e-01],\n",
       "       [-1.81704952e+00, -2.09960489e-01, -8.76566044e-02,\n",
       "        -8.49688954e-01, -6.88298190e-02],\n",
       "       [-1.78549851e+00, -1.82264543e+00, -1.62948287e+00,\n",
       "        -2.09866461e+00, -2.04804420e+00],\n",
       "       [-1.75480800e+00,  6.52694004e-01, -1.56152179e+00,\n",
       "        -2.26499330e-01, -6.01965694e-01],\n",
       "       [-1.72487914e+00, -8.84827613e-01, -1.19258569e+00,\n",
       "        -6.55338235e-02, -1.05128083e+00],\n",
       "       [-1.69563166e+00,  8.03220284e-01,  1.93575534e-01,\n",
       "        -1.59608414e+00,  7.04061621e-01],\n",
       "       [-1.66699926e+00, -1.52567125e+00,  8.27259979e-01,\n",
       "         1.50859232e+00, -9.12255189e-01],\n",
       "       [-1.63892633e+00, -4.80903084e-01, -1.01613619e+00,\n",
       "        -1.23269654e+00, -7.99285797e-01],\n",
       "       [-1.61136564e+00,  6.96423742e-01,  7.08562678e-01,\n",
       "         8.63674550e-01,  9.76413441e-01],\n",
       "       [-1.58427663e+00,  6.07694561e-01,  1.45886692e+00,\n",
       "         1.10260830e+00,  1.52336639e+00],\n",
       "       [-1.53137745e+00,  1.44702338e+00,  1.06152278e+00,\n",
       "         1.19771741e+00,  1.82784770e+00],\n",
       "       [-1.50550946e+00, -8.43041085e-01, -2.83431489e-02,\n",
       "        -3.94587754e-01, -4.53381163e-01],\n",
       "       [-1.47999615e+00,  9.67615123e-02,  1.87411889e-01,\n",
       "        -3.46833997e-01,  1.99361764e-01],\n",
       "       [-1.45481611e+00,  8.40174791e-01,  4.15233033e-01,\n",
       "         1.11921444e+00,  8.07438992e-01],\n",
       "       [-1.42995011e+00,  1.02746612e+00, -1.26608750e+00,\n",
       "        -1.02053455e-01, -2.07543120e-01],\n",
       "       [-1.40538082e+00, -1.72466475e+00, -3.43080197e-01,\n",
       "         9.90697773e-01, -1.81744902e+00],\n",
       "       [-1.38109254e+00,  9.38267420e-01, -2.72044379e-01,\n",
       "         3.56758030e-02,  3.65876080e-01],\n",
       "       [-1.35707101e+00, -9.36741865e-01, -5.90235876e-01,\n",
       "        -3.94587754e-01, -7.99285797e-01],\n",
       "       [-1.33330319e+00,  1.27285397e+00, -1.44792482e+00,\n",
       "        -3.23369976e-01, -3.08685657e-01],\n",
       "       [-1.30977716e+00,  4.80238801e-02,  5.07564879e-01,\n",
       "        -7.74054797e-01,  2.73905890e-01],\n",
       "       [-1.28648194e+00,  1.05376032e+00, -2.86123991e-01,\n",
       "        -1.33840511e-01,  4.38521375e-01],\n",
       "       [-1.26340742e+00,  1.13797152e+00,  3.80088814e-01,\n",
       "        -1.33840511e-01,  9.59695826e-01],\n",
       "       [-1.24054425e+00, -8.24327694e-01, -3.35903511e-01,\n",
       "         6.69803474e-01, -6.23529245e-01],\n",
       "       [-1.21788377e+00,  1.55379249e+00,  4.50089225e-01,\n",
       "         7.60923127e-01,  1.36658159e+00],\n",
       "       [-1.19541794e+00, -2.95525393e-01, -2.37113587e-01,\n",
       "         5.83572839e-01, -3.29130283e-01],\n",
       "       [-1.17313924e+00, -4.84586083e-01, -1.71704857e+00,\n",
       "         2.16697020e-01, -8.21679665e-01],\n",
       "       [-1.15104069e+00,  1.29846636e+00, -6.11716920e-02,\n",
       "        -2.27584640e+00,  7.04061621e-01],\n",
       "       [-1.12911574e+00, -5.03045189e-01, -1.73241480e+00,\n",
       "        -1.21299201e+00, -8.44172142e-01],\n",
       "       [-1.10735826e+00,  1.53345233e+00, -1.37714720e+00,\n",
       "        -1.10919482e+00, -1.47693998e-01],\n",
       "       [-1.08576250e+00,  1.31077419e+00,  1.27109462e+00,\n",
       "        -1.47085980e+00,  1.97589451e+00],\n",
       "       [-1.06432304e+00, -7.70061569e-01,  1.53885314e+00,\n",
       "         8.52838274e-01,  2.18080452e-01],\n",
       "       [-1.04303479e+00, -1.21308859e+00,  3.56495087e-01,\n",
       "         4.40459727e-01, -7.10669913e-01],\n",
       "       [-1.02189293e+00,  9.35311305e-01,  9.63926811e-01,\n",
       "         3.06820567e-01,  1.38240481e+00],\n",
       "       [-1.00089294e+00,  6.80180313e-01,  8.74288556e-02,\n",
       "         2.89054607e-01,  5.63750342e-01],\n",
       "       [-9.80030500e-01,  4.16577398e-01,  7.35799328e-01,\n",
       "         5.87551818e-01,  6.51784350e-01],\n",
       "       [-9.59301554e-01,  1.56025605e+00,  4.15233033e-01,\n",
       "        -1.93614969e+00,  1.25488464e+00],\n",
       "       [-9.38702238e-01,  7.24770763e-01, -9.42463931e-01,\n",
       "         4.55561165e-02, -1.27879223e-01],\n",
       "       [-9.18228888e-01, -1.50299171e+00,  2.96916329e-01,\n",
       "         7.64656783e-01, -1.07484108e+00],\n",
       "       [-8.97878020e-01,  3.96557056e-01,  1.00071323e-01,\n",
       "         2.84593396e-01,  2.55352005e-01],\n",
       "       [-8.77646317e-01, -5.77642501e-01, -8.10672032e-01,\n",
       "         4.65547418e-01, -6.01965694e-01],\n",
       "       [-8.57530621e-01,  1.05181524e+00,  1.15733673e+00,\n",
       "        -3.82543336e-01,  1.64655978e+00],\n",
       "       [-8.37527918e-01,  9.27423407e-01, -3.50273618e-01,\n",
       "         1.00104316e+00,  2.36743695e-01],\n",
       "       [-8.17635332e-01, -8.73996819e-01, -6.61620535e-01,\n",
       "         5.10931130e-01, -7.99285797e-01],\n",
       "       [-7.97850116e-01,  6.52694004e-01, -1.49718987e+00,\n",
       "         4.19368022e-01, -4.32479805e-01],\n",
       "       [-7.78169642e-01, -4.45449379e-01, -8.36428828e-01,\n",
       "        -1.65023317e+00, -5.80488545e-01],\n",
       "       [-7.58591393e-01,  8.20219674e-01,  1.16732335e+00,\n",
       "         6.23104064e-01,  1.55434629e+00],\n",
       "       [-7.39112961e-01,  4.75264815e-01,  1.38737344e+00,\n",
       "         1.29005095e+00,  1.33483614e+00],\n",
       "       [-7.19732035e-01,  1.27095405e+00,  4.78921950e-01,\n",
       "        -5.45151871e-01,  1.17407046e+00],\n",
       "       [-7.00446399e-01,  6.43510597e-01,  1.53885314e+00,\n",
       "         1.33059751e+00,  1.72259393e+00],\n",
       "       [-6.81253924e-01, -1.85241088e+00,  4.38501983e-01,\n",
       "         6.92861903e-01, -1.84553242e+00],\n",
       "       [-6.62152566e-01, -2.69424634e-02, -1.14344725e-01,\n",
       "        -5.00022982e-01, -6.88298190e-02],\n",
       "       [-6.43140358e-01,  7.64089395e-01,  1.54819296e+00,\n",
       "         5.47496864e-01,  1.73771446e+00],\n",
       "       [-6.24215409e-01,  7.63083589e-01,  5.18969888e-01,\n",
       "        -1.03801781e+00,  8.75514332e-01],\n",
       "       [-6.05375897e-01, -1.06021399e+00, -1.64357954e+00,\n",
       "        -2.15389488e-01, -1.17025828e+00],\n",
       "       [-5.86620068e-01,  1.25764412e+00,  1.21698291e+00,\n",
       "         1.16198054e+00,  1.79791457e+00],\n",
       "       [-5.67946231e-01,  1.04597746e+00, -3.71955683e-01,\n",
       "         8.95079934e-02,  4.02300026e-01],\n",
       "       [-5.49352753e-01, -4.17518113e-01,  5.24661351e-01,\n",
       "        -1.11833294e+00,  8.58554682e-02],\n",
       "       [-5.30838061e-01, -8.46453587e-02,  1.22192414e+00,\n",
       "         1.65686579e-01,  8.07438992e-01],\n",
       "       [-5.12400635e-01, -8.45722309e-01, -8.62474197e-01,\n",
       "        -2.12148202e+00, -8.89458475e-01],\n",
       "       [-4.94039006e-01, -1.39528628e+00,  2.30355644e-01,\n",
       "        -1.86501000e+00, -8.44172142e-01],\n",
       "       [-4.75751755e-01,  7.85901566e-03, -4.45376974e-01,\n",
       "        -9.61676392e-01, -2.97858724e-02],\n",
       "       [-4.57537508e-01,  1.02746612e+00,  4.03550712e-01,\n",
       "        -8.96751774e-01,  9.59695826e-01],\n",
       "       [-4.39394938e-01,  8.24214502e-01,  1.27598779e+00,\n",
       "         8.46648515e-02,  1.50783020e+00],\n",
       "       [-4.21322759e-01,  6.45552281e-01,  5.81178989e-01,\n",
       "         5.87551818e-01,  8.58557264e-01],\n",
       "       [-4.03319725e-01, -3.32289453e-01, -4.60282537e-01,\n",
       "         2.93507892e-01, -2.27630196e-01],\n",
       "       [-3.85384630e-01, -1.47377148e+00,  7.14022591e-01,\n",
       "        -3.35068479e-01, -1.00450070e+00],\n",
       "       [-3.67516305e-01, -1.04007607e-01, -1.20289700e+00,\n",
       "         2.75647037e-01, -5.16564828e-01],\n",
       "       [-3.49713617e-01,  7.90197248e-01,  2.30355644e-01,\n",
       "        -7.37445183e-01,  6.34269052e-01],\n",
       "       [-3.31975463e-01, -1.65184774e+00,  1.26619715e+00,\n",
       "         2.13937255e+00, -1.02783461e+00],\n",
       "       [-3.14300779e-01, -1.46187563e+00, -1.70192244e+00,\n",
       "        -2.54530313e-01, -1.46890990e+00],\n",
       "       [-2.96688525e-01, -2.06473264e-01,  4.61645376e-01,\n",
       "        -6.59471053e-01,  1.23921995e-01],\n",
       "       [-2.79137697e-01, -1.89822804e+00,  5.41691977e-01,\n",
       "        -1.02934918e+00, -1.90230972e+00],\n",
       "       [-2.61647316e-01, -2.59020528e-01, -1.00678392e+00,\n",
       "        -1.23193945e-01, -5.16564828e-01],\n",
       "       [-2.44216431e-01, -7.47786505e-01,  3.56495087e-01,\n",
       "        -1.66093666e-01, -3.49648853e-01],\n",
       "       [-2.26844119e-01,  1.05084254e+00, -1.37714720e+00,\n",
       "         5.15018742e-01, -2.47787208e-01],\n",
       "       [-2.09529479e-01, -7.62185079e-01, -4.14381211e-02,\n",
       "         3.28853334e-01, -4.53381163e-01],\n",
       "       [-1.92271637e-01, -8.53777962e-01,  1.30525722e+00,\n",
       "         4.61382738e-01,  9.00632625e-03],\n",
       "       [-1.75069743e-01,  7.91199747e-01,  1.23179329e+00,\n",
       "         3.85260976e-01,  1.41395330e+00],\n",
       "       [-1.57922966e-01,  5.85096748e-01, -1.68353388e-01,\n",
       "         1.50271112e+00,  3.10852364e-01],\n",
       "       [-1.40830501e-01, -7.49093259e-01,  4.03550712e-01,\n",
       "        -5.38639377e-01, -3.08685657e-01],\n",
       "       [-1.23791560e-01, -3.21588787e-01,  1.11216604e+00,\n",
       "         1.42831665e+00,  4.56557175e-01],\n",
       "       [-1.06805378e-01, -5.95230843e-01,  2.84895857e-01,\n",
       "         1.72217946e+00, -1.27879223e-01],\n",
       "       [-8.98712081e-02, -3.32289453e-01,  1.46360210e+00,\n",
       "         1.05224719e+00,  5.81449402e-01],\n",
       "       [-7.29883212e-02, -4.83733557e-02, -1.28768913e+00,\n",
       "        -1.03801781e+00, -4.74361814e-01],\n",
       "       [-5.61560074e-02, -1.44333425e+00, -1.71704857e+00,\n",
       "         3.50696260e-01, -1.36715002e+00],\n",
       "       [-3.93735739e-02,  8.33195900e-01,  7.41227911e-01,\n",
       "         1.29945293e+00,  1.04289787e+00],\n",
       "       [-2.26403446e-02,  1.15818339e+00,  9.01314021e-01,\n",
       "         1.69166052e+00,  1.49226292e+00],\n",
       "       [-5.95565951e-03, -3.60935766e-01, -4.82785497e-01,\n",
       "        -9.04727257e-01, -4.11656803e-01],\n",
       "       [ 1.06811257e-02,  2.70930405e-01,  6.36996883e-01,\n",
       "         1.10260830e+00,  6.16708378e-01],\n",
       "       [ 2.72706403e-02,  6.30226675e-01, -1.44792482e+00,\n",
       "        -1.36815587e+00, -3.70242217e-01],\n",
       "       [ 4.38134988e-02,  4.99233291e-01,  4.18623581e-03,\n",
       "        -1.82400952e-01,  3.65876080e-01],\n",
       "       [ 6.03103019e-02,  1.52419364e+00,  1.19717332e+00,\n",
       "         1.04546953e+00,  1.97589451e+00],\n",
       "       [ 7.67616364e-02, -3.82121960e-02,  1.16732335e+00,\n",
       "         8.60066925e-01,  6.69254636e-01],\n",
       "       [ 9.31680759e-02,  8.79943885e-01, -1.35429375e+00,\n",
       "         9.97598637e-01, -3.70242217e-01],\n",
       "       [ 1.25848501e-01,  1.43581778e+00, -7.93655685e-01,\n",
       "        -2.15389488e-01,  2.36743695e-01],\n",
       "       [ 1.42123572e-01,  5.30381051e-01, -2.51040510e-01,\n",
       "        -4.18895537e-01,  2.18080452e-01],\n",
       "       [ 1.58355919e-01,  1.03526502e+00,  7.84435819e-01,\n",
       "        -1.43568966e+00,  1.25488464e+00],\n",
       "       [ 1.74546055e-01, -7.83276627e-03,  1.39695704e+00,\n",
       "         1.29945293e+00,  1.00973230e+00],\n",
       "       [ 1.90694484e-01, -1.50472569e+00, -7.18528744e-01,\n",
       "         2.02890585e-01, -1.39237187e+00],\n",
       "       [ 2.06801696e-01, -5.68874824e-01, -1.92277996e+00,\n",
       "        -1.17889867e-01, -1.02783461e+00],\n",
       "       [ 2.22868176e-01, -1.72669682e+00, -1.90334954e+00,\n",
       "         5.77961414e-03, -1.90230972e+00],\n",
       "       [ 2.38894393e-01,  1.20134779e+00,  3.68308593e-01,\n",
       "        -1.41277956e+00,  1.10877789e+00],\n",
       "       [ 2.54880811e-01,  9.13602262e-01, -9.60642725e-01,\n",
       "         1.22025052e+00, -2.97858724e-02],\n",
       "       [ 2.70827882e-01,  1.06930594e+00,  9.79460034e-01,\n",
       "        -1.17889867e-01,  1.42967900e+00],\n",
       "       [ 2.86736051e-01,  4.02885307e-01, -3.79217450e-01,\n",
       "        -1.83137048e+00,  1.04918084e-01],\n",
       "       [ 3.02605751e-01,  7.52011554e-01, -2.18136487e-02,\n",
       "        -9.20795602e-01,  4.38521375e-01],\n",
       "       [ 3.18437410e-01, -7.24339293e-01,  1.41607663e+00,\n",
       "         4.15129109e-01,  1.99361764e-01],\n",
       "       [ 3.34231445e-01, -7.64808781e-01,  8.21927536e-01,\n",
       "         1.09594084e+00, -1.87525222e-01],\n",
       "       [ 3.49988266e-01,  6.73952813e-03, -4.60282537e-01,\n",
       "         5.77961414e-03, -2.68014929e-01],\n",
       "       [ 3.65708276e-01, -7.47786505e-01, -1.83055994e+00,\n",
       "        -6.18314434e-01, -8.66764608e-01],\n",
       "       [ 3.81391868e-01, -1.46377645e-01,  9.22271411e-01,\n",
       "         1.87892616e+00,  4.38521375e-01],\n",
       "       [ 3.97039429e-01, -1.60487761e+00, -3.35903511e-01,\n",
       "        -1.66093666e-01, -1.54681402e+00],\n",
       "       [ 4.12651339e-01,  3.02054628e-02,  3.62406022e-01,\n",
       "         8.70876472e-01,  3.65876080e-01],\n",
       "       [ 4.28227970e-01, -1.61600701e+00,  4.92426558e-02,\n",
       "         1.01820721e+00, -1.44324916e+00],\n",
       "       [ 4.43769688e-01,  8.95799585e-01, -1.58822992e+00,\n",
       "        -5.64824479e-01, -3.90911240e-01],\n",
       "       [ 4.59276852e-01, -1.76343635e-01,  8.00539201e-01,\n",
       "        -7.88916953e-01,  3.10852364e-01],\n",
       "       [ 4.74749814e-01,  9.50081843e-01,  6.75669076e-01,\n",
       "         1.74421110e+00,  1.09236361e+00],\n",
       "       [ 4.90188920e-01, -6.09100568e-01, -6.53592729e-01,\n",
       "         2.07760351e-02, -6.01965694e-01],\n",
       "       [ 5.05594509e-01, -1.84082856e+00,  1.02577993e+00,\n",
       "         1.02504572e+00, -1.54681402e+00],\n",
       "       [ 5.20966916e-01, -6.98448651e-01, -1.98495808e+00,\n",
       "        -1.04673537e+00, -1.00450070e+00],\n",
       "       [ 5.36306469e-01,  8.59088401e-01,  1.52012963e+00,\n",
       "        -1.70718676e+00,  1.87254235e+00],\n",
       "       [ 5.51613489e-01, -9.74121042e-01, -6.37610795e-01,\n",
       "         7.57184572e-01, -7.99285797e-01],\n",
       "       [ 5.66888293e-01, -2.03323356e+00,  1.06152278e+00,\n",
       "        -1.09108448e+00, -3.17282676e+00],\n",
       "       [ 5.82131193e-01,  1.29467620e+00, -1.52253007e+00,\n",
       "         7.53441098e-01, -1.67575759e-01],\n",
       "       [ 5.97342494e-01, -1.82715302e+00,  3.85966546e-01,\n",
       "        -1.88228781e+00, -1.78956310e+00],\n",
       "       [ 6.12522496e-01,  8.54115242e-01,  7.41227911e-01,\n",
       "         8.31044006e-01,  1.07591235e+00],\n",
       "       [ 6.27671495e-01, -1.30867028e+00,  1.01038610e+00,\n",
       "         1.49976669e+00, -5.59096720e-01],\n",
       "       [ 6.42789782e-01, -1.13560137e+00,  1.42561279e+00,\n",
       "        -1.10919482e+00, -3.90911240e-01],\n",
       "       [ 6.57877643e-01, -1.49434751e+00,  1.03090107e+00,\n",
       "        -1.03801781e+00, -8.44172142e-01],\n",
       "       [ 6.72935358e-01,  1.37490294e+00,  4.84665578e-01,\n",
       "         1.32128542e+00,  1.27094302e+00],\n",
       "       [ 6.87963204e-01, -1.21460127e+00,  3.08901412e-01,\n",
       "        -2.65847496e-01, -8.21679665e-01],\n",
       "       [ 7.02961454e-01,  4.99233291e-01,  1.27598779e+00,\n",
       "        -1.95484304e+00,  1.25488464e+00],\n",
       "       [ 7.17930373e-01, -7.87183238e-01, -2.65027803e-01,\n",
       "        -7.51997248e-01, -5.37789159e-01],\n",
       "       [ 7.32870227e-01,  5.90238432e-01,  8.43222533e-01,\n",
       "         1.78244184e+00,  1.00973230e+00],\n",
       "       [ 7.47781274e-01,  8.61076847e-01,  7.24923490e-01,\n",
       "         5.55555441e-01,  1.15780149e+00],\n",
       "       [ 7.62663768e-01, -3.94565765e-01, -1.20289700e+00,\n",
       "         4.10883268e-01, -6.45180303e-01],\n",
       "       [ 7.77517962e-01, -4.96883939e-01, -4.23159794e-01,\n",
       "         5.95492378e-01, -4.32479805e-01],\n",
       "       [ 7.92344102e-01,  1.90425158e-02, -1.65786243e+00,\n",
       "        -1.06432036e+00, -6.66919994e-01],\n",
       "       [ 8.07142431e-01,  1.05376032e+00, -1.04445327e+00,\n",
       "        -1.09108448e+00, -6.88298190e-02],\n",
       "       [ 8.21913190e-01,  1.08385578e+00,  1.52012963e+00,\n",
       "         8.01727595e-01,  1.97589451e+00],\n",
       "       [ 8.36656613e-01, -1.29143203e+00,  1.09702388e+00,\n",
       "        -8.26644287e-01, -5.37789159e-01],\n",
       "       [ 8.51372933e-01, -1.18900520e+00,  3.02913271e-01,\n",
       "        -2.60181310e-01, -7.10669913e-01],\n",
       "       [ 8.66062380e-01,  1.44048829e+00, -4.90325762e-01,\n",
       "         5.19100106e-01,  4.74543631e-01],\n",
       "       [ 8.80725177e-01, -2.00666192e-01, -9.42463931e-01,\n",
       "         9.59446523e-01, -3.90911240e-01],\n",
       "       [ 8.95361549e-01,  6.30226675e-01,  1.50223313e-01,\n",
       "        -6.59471053e-01,  5.63750342e-01],\n",
       "       [ 9.09971712e-01,  3.56346926e-01,  1.06660903e+00,\n",
       "         5.47496864e-01,  9.76413441e-01],\n",
       "       [ 9.24555884e-01,  5.29344873e-01,  1.06570530e-02,\n",
       "        -1.02072873e+00,  3.84113601e-01],\n",
       "       [ 9.39114275e-01, -1.93163495e+00, -6.69673260e-01,\n",
       "        -1.39027462e+00, -2.55909057e+00],\n",
       "       [ 9.53647096e-01, -5.25294689e-01,  1.25638925e+00,\n",
       "         1.02162839e+00,  3.29245926e-01],\n",
       "       [ 9.68154553e-01,  1.24285632e-01, -1.74803521e+00,\n",
       "        -6.03649631e-02, -7.10669913e-01],\n",
       "       [ 9.82636849e-01, -1.75555556e+00,  9.22271411e-01,\n",
       "         8.34687756e-01, -1.36715002e+00],\n",
       "       [ 9.97094185e-01, -7.78271156e-02, -1.68353388e-01,\n",
       "         4.19368022e-01, -1.27879223e-01],\n",
       "       [ 1.01152676e+00,  3.69069534e-01, -1.88831807e-01,\n",
       "         2.48613642e-01,  1.61755955e-01],\n",
       "       [ 1.02593476e+00, -6.28086545e-01,  8.64425620e-01,\n",
       "         9.80316762e-01, -4.92760555e-02],\n",
       "       [ 1.04031839e+00,  5.35559799e-01, -1.88831807e-01,\n",
       "         5.77961414e-03,  2.55352005e-01],\n",
       "       [ 1.05467784e+00,  2.73078805e-01,  9.17040259e-01,\n",
       "        -1.21299201e+00,  8.07438992e-01],\n",
       "       [ 1.06901328e+00, -2.44957339e-01, -4.30546922e-01,\n",
       "        -1.42418272e+00, -3.29130283e-01],\n",
       "       [ 1.08332491e+00,  9.99137820e-01, -1.46007371e+00,\n",
       "         2.02414625e+00, -3.29130283e-01],\n",
       "       [ 1.09761291e+00, -1.63286723e+00,  9.58738548e-01,\n",
       "        -2.04337008e-01, -1.19441605e+00],\n",
       "       [ 1.11187745e+00,  7.23760085e-01, -1.25539136e+00,\n",
       "        -3.29210916e-01, -2.68014929e-01],\n",
       "       [ 1.12611872e+00,  8.10224235e-01,  1.68862229e-01,\n",
       "         1.25534066e+00,  6.51784350e-01],\n",
       "       [ 1.14033688e+00,  1.47405264e+00, -7.51634521e-01,\n",
       "        -1.31443661e+00,  2.73905890e-01],\n",
       "       [ 1.15453212e+00, -1.11073781e+00, -6.69673260e-01,\n",
       "        -3.88556546e-01, -1.09851711e+00],\n",
       "       [ 1.16870459e+00,  2.83810642e-01, -2.29616877e-03,\n",
       "         9.13720990e-01,  1.80587108e-01],\n",
       "       [ 1.18285448e+00, -1.60118681e+00, -5.45815801e-02,\n",
       "        -4.74701160e-01, -1.29232151e+00],\n",
       "       [ 1.19698193e+00,  3.25505056e-01, -1.06355551e+00,\n",
       "        -7.59318821e-01, -3.70242217e-01],\n",
       "       [ 1.21108712e+00,  8.79943885e-01, -1.46007371e+00,\n",
       "        -7.37445183e-01, -4.11656803e-01],\n",
       "       [ 1.22517021e+00,  1.40493806e+00,  1.51543955e+00,\n",
       "         7.08129257e-01,  2.20744077e+00],\n",
       "       [ 1.23923136e+00,  1.13411664e+00,  5.58657645e-01,\n",
       "        -2.77225880e-01,  1.17407046e+00],\n",
       "       [ 1.25327072e+00,  3.44664290e-01, -9.97473864e-01,\n",
       "         4.44657707e-01, -3.70242217e-01],\n",
       "       [ 1.26728845e+00,  1.40306351e+00, -1.60181548e+00,\n",
       "        -9.15582196e-02, -3.49648853e-01],\n",
       "       [ 1.28128471e+00,  2.95596216e-01, -8.02148636e-01,\n",
       "        -4.37322778e-01, -1.87525222e-01],\n",
       "       [ 1.29525964e+00,  1.98559462e-01, -1.56152179e+00,\n",
       "        -1.12752759e+00, -6.23529245e-01],\n",
       "       [ 1.30921339e+00,  8.41171303e-01, -1.23420066e+00,\n",
       "         9.43412236e-02, -2.68014929e-01],\n",
       "       [ 1.32314611e+00, -1.02181379e+00, -1.20289700e+00,\n",
       "         2.02890585e-01, -1.02783461e+00],\n",
       "       [ 1.33705795e+00,  1.50472337e+00,  1.23179329e+00,\n",
       "         1.67770049e+00,  2.09246069e+00],\n",
       "       [ 1.35094905e+00,  1.18602318e+00,  2.35642166e-02,\n",
       "         2.16697020e-01,  7.38692845e-01],\n",
       "       [ 1.36481956e+00,  7.05546191e-01,  1.33437513e+00,\n",
       "        -3.17545531e-01,  1.55434629e+00],\n",
       "       [ 1.37866960e+00,  1.00973688e-02, -1.62948287e+00,\n",
       "         5.53947058e-02, -6.66919994e-01],\n",
       "       [ 1.39249933e+00,  5.63463957e-01,  4.73170731e-01,\n",
       "        -4.00637106e-01,  6.86680274e-01],\n",
       "       [ 1.40630888e+00,  1.48986416e+00, -4.90325762e-01,\n",
       "        -1.63644784e+00,  4.38521375e-01],\n",
       "       [ 1.42009838e+00, -1.61787038e+00, -6.29656140e-01,\n",
       "        -1.07319704e-01, -1.52068942e+00],\n",
       "       [ 1.43386797e+00, -1.26812741e+00,  1.13730782e+00,\n",
       "        -1.37916810e+00, -5.59096720e-01],\n",
       "       [ 1.44761778e+00, -7.59563165e-01, -7.35026416e-01,\n",
       "        -1.35723580e+00, -7.54788527e-01],\n",
       "       [ 1.46134795e+00, -1.64612530e+00, -1.37714720e+00,\n",
       "         2.89054607e-01, -1.73436663e+00],\n",
       "       [ 1.47505859e+00,  3.08430163e-01,  1.18226883e+00,\n",
       "        -1.65023317e+00,  1.07591235e+00],\n",
       "       [ 1.48874984e+00,  1.23186956e-01,  8.53835478e-01,\n",
       "        -1.35723580e+00,  6.86680274e-01],\n",
       "       [ 1.50242183e+00, -1.28831146e+00, -1.42394128e+00,\n",
       "        -6.87434548e-01, -1.29232151e+00],\n",
       "       [ 1.51607467e+00, -5.21578873e-01, -1.28768913e+00,\n",
       "        -1.14609038e+00, -7.99285797e-01],\n",
       "       [ 1.52970850e+00,  4.16577398e-01, -8.62474197e-01,\n",
       "        -1.31443661e+00, -1.47693998e-01],\n",
       "       [ 1.54332343e+00,  1.46753490e+00,  1.18226883e+00,\n",
       "         1.51739504e+00,  1.99055440e+00],\n",
       "       [ 1.55691958e+00,  9.75625093e-01, -9.24436754e-01,\n",
       "        -1.09108448e+00, -2.97858724e-02]])"
      ]
     },
     "execution_count": 28,
     "metadata": {},
     "output_type": "execute_result"
    }
   ],
   "source": [
    "from sklearn.preprocessing import StandardScaler\n",
    "sc=StandardScaler()\n",
    "ap_new=sc.fit_transform(ap_new)\n",
    "ap_new"
   ]
  },
  {
   "cell_type": "code",
   "execution_count": 29,
   "metadata": {},
   "outputs": [
    {
     "data": {
      "text/html": [
       "<div>\n",
       "<style scoped>\n",
       "    .dataframe tbody tr th:only-of-type {\n",
       "        vertical-align: middle;\n",
       "    }\n",
       "\n",
       "    .dataframe tbody tr th {\n",
       "        vertical-align: top;\n",
       "    }\n",
       "\n",
       "    .dataframe thead th {\n",
       "        text-align: right;\n",
       "    }\n",
       "</style>\n",
       "<table border=\"1\" class=\"dataframe\">\n",
       "  <thead>\n",
       "    <tr style=\"text-align: right;\">\n",
       "      <th></th>\n",
       "      <th>0</th>\n",
       "      <th>1</th>\n",
       "      <th>2</th>\n",
       "      <th>3</th>\n",
       "      <th>4</th>\n",
       "    </tr>\n",
       "  </thead>\n",
       "  <tbody>\n",
       "    <tr>\n",
       "      <th>0</th>\n",
       "      <td>-2.081121</td>\n",
       "      <td>0.955983</td>\n",
       "      <td>0.969110</td>\n",
       "      <td>1.604196</td>\n",
       "      <td>1.476664</td>\n",
       "    </tr>\n",
       "    <tr>\n",
       "      <th>1</th>\n",
       "      <td>-2.035413</td>\n",
       "      <td>-1.192003</td>\n",
       "      <td>1.046234</td>\n",
       "      <td>0.831044</td>\n",
       "      <td>-0.645180</td>\n",
       "    </tr>\n",
       "    <tr>\n",
       "      <th>2</th>\n",
       "      <td>-1.993807</td>\n",
       "      <td>-1.646125</td>\n",
       "      <td>1.372968</td>\n",
       "      <td>1.607052</td>\n",
       "      <td>-0.889458</td>\n",
       "    </tr>\n",
       "    <tr>\n",
       "      <th>3</th>\n",
       "      <td>-1.955008</td>\n",
       "      <td>0.142934</td>\n",
       "      <td>1.147332</td>\n",
       "      <td>1.283768</td>\n",
       "      <td>0.892431</td>\n",
       "    </tr>\n",
       "    <tr>\n",
       "      <th>4</th>\n",
       "      <td>-1.918308</td>\n",
       "      <td>0.456452</td>\n",
       "      <td>-0.735026</td>\n",
       "      <td>1.280622</td>\n",
       "      <td>-0.127879</td>\n",
       "    </tr>\n",
       "    <tr>\n",
       "      <th>...</th>\n",
       "      <td>...</td>\n",
       "      <td>...</td>\n",
       "      <td>...</td>\n",
       "      <td>...</td>\n",
       "      <td>...</td>\n",
       "    </tr>\n",
       "    <tr>\n",
       "      <th>193</th>\n",
       "      <td>1.502422</td>\n",
       "      <td>-1.288311</td>\n",
       "      <td>-1.423941</td>\n",
       "      <td>-0.687435</td>\n",
       "      <td>-1.292322</td>\n",
       "    </tr>\n",
       "    <tr>\n",
       "      <th>194</th>\n",
       "      <td>1.516075</td>\n",
       "      <td>-0.521579</td>\n",
       "      <td>-1.287689</td>\n",
       "      <td>-1.146090</td>\n",
       "      <td>-0.799286</td>\n",
       "    </tr>\n",
       "    <tr>\n",
       "      <th>195</th>\n",
       "      <td>1.529708</td>\n",
       "      <td>0.416577</td>\n",
       "      <td>-0.862474</td>\n",
       "      <td>-1.314437</td>\n",
       "      <td>-0.147694</td>\n",
       "    </tr>\n",
       "    <tr>\n",
       "      <th>196</th>\n",
       "      <td>1.543323</td>\n",
       "      <td>1.467535</td>\n",
       "      <td>1.182269</td>\n",
       "      <td>1.517395</td>\n",
       "      <td>1.990554</td>\n",
       "    </tr>\n",
       "    <tr>\n",
       "      <th>197</th>\n",
       "      <td>1.556920</td>\n",
       "      <td>0.975625</td>\n",
       "      <td>-0.924437</td>\n",
       "      <td>-1.091084</td>\n",
       "      <td>-0.029786</td>\n",
       "    </tr>\n",
       "  </tbody>\n",
       "</table>\n",
       "<p>198 rows × 5 columns</p>\n",
       "</div>"
      ],
      "text/plain": [
       "            0         1         2         3         4\n",
       "0   -2.081121  0.955983  0.969110  1.604196  1.476664\n",
       "1   -2.035413 -1.192003  1.046234  0.831044 -0.645180\n",
       "2   -1.993807 -1.646125  1.372968  1.607052 -0.889458\n",
       "3   -1.955008  0.142934  1.147332  1.283768  0.892431\n",
       "4   -1.918308  0.456452 -0.735026  1.280622 -0.127879\n",
       "..        ...       ...       ...       ...       ...\n",
       "193  1.502422 -1.288311 -1.423941 -0.687435 -1.292322\n",
       "194  1.516075 -0.521579 -1.287689 -1.146090 -0.799286\n",
       "195  1.529708  0.416577 -0.862474 -1.314437 -0.147694\n",
       "196  1.543323  1.467535  1.182269  1.517395  1.990554\n",
       "197  1.556920  0.975625 -0.924437 -1.091084 -0.029786\n",
       "\n",
       "[198 rows x 5 columns]"
      ]
     },
     "execution_count": 29,
     "metadata": {},
     "output_type": "execute_result"
    }
   ],
   "source": [
    "ap=pd.DataFrame(ap_new)\n",
    "ap"
   ]
  },
  {
   "cell_type": "code",
   "execution_count": 30,
   "metadata": {},
   "outputs": [],
   "source": [
    "x=ap.iloc[:,:-1]\n",
    "y=ap.iloc[:,-1]"
   ]
  },
  {
   "cell_type": "code",
   "execution_count": 31,
   "metadata": {},
   "outputs": [
    {
     "data": {
      "text/plain": [
       "(198, 4)"
      ]
     },
     "execution_count": 31,
     "metadata": {},
     "output_type": "execute_result"
    }
   ],
   "source": [
    "x.shape"
   ]
  },
  {
   "cell_type": "code",
   "execution_count": 32,
   "metadata": {},
   "outputs": [
    {
     "data": {
      "text/plain": [
       "(198,)"
      ]
     },
     "execution_count": 32,
     "metadata": {},
     "output_type": "execute_result"
    }
   ],
   "source": [
    "y.shape"
   ]
  },
  {
   "cell_type": "code",
   "execution_count": 33,
   "metadata": {},
   "outputs": [
    {
     "name": "stdout",
     "output_type": "stream",
     "text": [
      "Best Accuracy is  0.9203590499940473 on Random_state  1\n",
      "Best Accuracy is  0.9203590499940473 on Random_state  1\n",
      "Best Accuracy is  0.9203590499940473 on Random_state  1\n",
      "Best Accuracy is  0.9203590499940473 on Random_state  1\n",
      "Best Accuracy is  0.9203590499940473 on Random_state  1\n",
      "Best Accuracy is  0.9203590499940473 on Random_state  1\n",
      "Best Accuracy is  0.9203590499940473 on Random_state  1\n",
      "Best Accuracy is  0.9203590499940473 on Random_state  1\n",
      "Best Accuracy is  0.9326879031769484 on Random_state  9\n",
      "Best Accuracy is  0.9326879031769484 on Random_state  9\n",
      "Best Accuracy is  0.9326879031769484 on Random_state  9\n",
      "Best Accuracy is  0.9326879031769484 on Random_state  9\n",
      "Best Accuracy is  0.9326879031769484 on Random_state  9\n",
      "Best Accuracy is  0.9326879031769484 on Random_state  9\n",
      "Best Accuracy is  0.9326879031769484 on Random_state  9\n",
      "Best Accuracy is  0.9326879031769484 on Random_state  9\n",
      "Best Accuracy is  0.9326879031769484 on Random_state  9\n",
      "Best Accuracy is  0.9326879031769484 on Random_state  9\n",
      "Best Accuracy is  0.9326879031769484 on Random_state  9\n",
      "Best Accuracy is  0.9326879031769484 on Random_state  9\n",
      "Best Accuracy is  0.9326879031769484 on Random_state  9\n",
      "Best Accuracy is  0.9326879031769484 on Random_state  9\n",
      "Best Accuracy is  0.9326879031769484 on Random_state  9\n",
      "Best Accuracy is  0.9330892221957147 on Random_state  24\n",
      "Best Accuracy is  0.9330892221957147 on Random_state  24\n",
      "Best Accuracy is  0.9330892221957147 on Random_state  24\n",
      "Best Accuracy is  0.9330892221957147 on Random_state  24\n",
      "Best Accuracy is  0.9330892221957147 on Random_state  24\n",
      "Best Accuracy is  0.9330892221957147 on Random_state  24\n",
      "Best Accuracy is  0.9330892221957147 on Random_state  24\n",
      "Best Accuracy is  0.9330892221957147 on Random_state  24\n",
      "Best Accuracy is  0.9330892221957147 on Random_state  24\n",
      "Best Accuracy is  0.9330892221957147 on Random_state  24\n",
      "Best Accuracy is  0.9330892221957147 on Random_state  24\n",
      "Best Accuracy is  0.9398414311002885 on Random_state  35\n",
      "Best Accuracy is  0.9398414311002885 on Random_state  35\n",
      "Best Accuracy is  0.9398414311002885 on Random_state  35\n",
      "Best Accuracy is  0.9398414311002885 on Random_state  35\n",
      "Best Accuracy is  0.9398414311002885 on Random_state  35\n",
      "Best Accuracy is  0.9398414311002885 on Random_state  35\n",
      "Best Accuracy is  0.9398414311002885 on Random_state  35\n",
      "Best Accuracy is  0.9398414311002885 on Random_state  35\n",
      "Best Accuracy is  0.9398414311002885 on Random_state  35\n",
      "Best Accuracy is  0.9398414311002885 on Random_state  35\n",
      "Best Accuracy is  0.9398414311002885 on Random_state  35\n",
      "Best Accuracy is  0.9398414311002885 on Random_state  35\n",
      "Best Accuracy is  0.9398414311002885 on Random_state  35\n",
      "Best Accuracy is  0.9398414311002885 on Random_state  35\n",
      "Best Accuracy is  0.9398414311002885 on Random_state  35\n",
      "Best Accuracy is  0.9398414311002885 on Random_state  35\n",
      "Best Accuracy is  0.9398414311002885 on Random_state  35\n",
      "Best Accuracy is  0.9398414311002885 on Random_state  35\n",
      "Best Accuracy is  0.9398414311002885 on Random_state  35\n",
      "Best Accuracy is  0.9398414311002885 on Random_state  35\n",
      "Best Accuracy is  0.9398414311002885 on Random_state  35\n",
      "Best Accuracy is  0.9398414311002885 on Random_state  35\n",
      "Best Accuracy is  0.9398414311002885 on Random_state  35\n",
      "Best Accuracy is  0.9398414311002885 on Random_state  35\n",
      "Best Accuracy is  0.9398414311002885 on Random_state  35\n",
      "Best Accuracy is  0.9398414311002885 on Random_state  35\n",
      "Best Accuracy is  0.9398414311002885 on Random_state  35\n",
      "Best Accuracy is  0.9398414311002885 on Random_state  35\n",
      "Best Accuracy is  0.9398414311002885 on Random_state  35\n",
      "Best Accuracy is  0.9398414311002885 on Random_state  35\n",
      "Best Accuracy is  0.9398414311002885 on Random_state  35\n",
      "Best Accuracy is  0.9398414311002885 on Random_state  35\n",
      "Best Accuracy is  0.9398414311002885 on Random_state  35\n",
      "Best Accuracy is  0.9398414311002885 on Random_state  35\n",
      "Best Accuracy is  0.9398414311002885 on Random_state  35\n",
      "Best Accuracy is  0.9398414311002885 on Random_state  35\n",
      "Best Accuracy is  0.9398414311002885 on Random_state  35\n",
      "Best Accuracy is  0.9398414311002885 on Random_state  35\n",
      "Best Accuracy is  0.9398414311002885 on Random_state  35\n",
      "Best Accuracy is  0.9398414311002885 on Random_state  35\n",
      "Best Accuracy is  0.9398414311002885 on Random_state  35\n",
      "Best Accuracy is  0.9398414311002885 on Random_state  35\n",
      "Best Accuracy is  0.9398414311002885 on Random_state  35\n",
      "Best Accuracy is  0.9398414311002885 on Random_state  35\n",
      "Best Accuracy is  0.9398414311002885 on Random_state  35\n",
      "Best Accuracy is  0.9398414311002885 on Random_state  35\n",
      "Best Accuracy is  0.9398414311002885 on Random_state  35\n",
      "Best Accuracy is  0.9398414311002885 on Random_state  35\n",
      "Best Accuracy is  0.9398414311002885 on Random_state  35\n",
      "Best Accuracy is  0.9398414311002885 on Random_state  35\n",
      "Best Accuracy is  0.9398414311002885 on Random_state  35\n",
      "Best Accuracy is  0.9398414311002885 on Random_state  35\n",
      "Best Accuracy is  0.9398414311002885 on Random_state  35\n",
      "Best Accuracy is  0.9398414311002885 on Random_state  35\n",
      "Best Accuracy is  0.9398414311002885 on Random_state  35\n",
      "Best Accuracy is  0.9398414311002885 on Random_state  35\n",
      "Best Accuracy is  0.9398414311002885 on Random_state  35\n",
      "Best Accuracy is  0.9398414311002885 on Random_state  35\n",
      "Best Accuracy is  0.9398414311002885 on Random_state  35\n",
      "Best Accuracy is  0.9398414311002885 on Random_state  35\n",
      "Best Accuracy is  0.9398414311002885 on Random_state  35\n",
      "Best Accuracy is  0.9398414311002885 on Random_state  35\n",
      "Best Accuracy is  0.9398414311002885 on Random_state  35\n",
      "Best Accuracy is  0.9398414311002885 on Random_state  35\n",
      "Best Accuracy is  0.9398414311002885 on Random_state  35\n",
      "Best Accuracy is  0.9398414311002885 on Random_state  35\n",
      "Best Accuracy is  0.9398414311002885 on Random_state  35\n",
      "Best Accuracy is  0.9398414311002885 on Random_state  35\n",
      "Best Accuracy is  0.9398414311002885 on Random_state  35\n",
      "Best Accuracy is  0.9398414311002885 on Random_state  35\n",
      "Best Accuracy is  0.9398414311002885 on Random_state  35\n",
      "Best Accuracy is  0.9398414311002885 on Random_state  35\n",
      "Best Accuracy is  0.9398414311002885 on Random_state  35\n",
      "Best Accuracy is  0.9398414311002885 on Random_state  35\n",
      "Best Accuracy is  0.9398414311002885 on Random_state  35\n",
      "Best Accuracy is  0.9398414311002885 on Random_state  35\n",
      "Best Accuracy is  0.9398414311002885 on Random_state  35\n",
      "Best Accuracy is  0.9398414311002885 on Random_state  35\n",
      "Best Accuracy is  0.9398414311002885 on Random_state  35\n",
      "Best Accuracy is  0.9398414311002885 on Random_state  35\n",
      "Best Accuracy is  0.9398414311002885 on Random_state  35\n",
      "Best Accuracy is  0.9398414311002885 on Random_state  35\n",
      "Best Accuracy is  0.9398414311002885 on Random_state  35\n",
      "Best Accuracy is  0.9398414311002885 on Random_state  35\n",
      "Best Accuracy is  0.9398414311002885 on Random_state  35\n",
      "Best Accuracy is  0.9398414311002885 on Random_state  35\n",
      "Best Accuracy is  0.9398414311002885 on Random_state  35\n",
      "Best Accuracy is  0.9398414311002885 on Random_state  35\n",
      "Best Accuracy is  0.9398414311002885 on Random_state  35\n",
      "Best Accuracy is  0.9398414311002885 on Random_state  35\n",
      "Best Accuracy is  0.9398414311002885 on Random_state  35\n",
      "Best Accuracy is  0.9398414311002885 on Random_state  35\n",
      "Best Accuracy is  0.9398414311002885 on Random_state  35\n",
      "Best Accuracy is  0.9398414311002885 on Random_state  35\n",
      "Best Accuracy is  0.9398414311002885 on Random_state  35\n",
      "Best Accuracy is  0.9398414311002885 on Random_state  35\n",
      "Best Accuracy is  0.9398414311002885 on Random_state  35\n",
      "Best Accuracy is  0.9398414311002885 on Random_state  35\n",
      "Best Accuracy is  0.9398414311002885 on Random_state  35\n",
      "Best Accuracy is  0.9398414311002885 on Random_state  35\n",
      "Best Accuracy is  0.9398414311002885 on Random_state  35\n",
      "Best Accuracy is  0.9398414311002885 on Random_state  35\n",
      "Best Accuracy is  0.9398414311002885 on Random_state  35\n",
      "Best Accuracy is  0.9398414311002885 on Random_state  35\n",
      "Best Accuracy is  0.9398414311002885 on Random_state  35\n",
      "Best Accuracy is  0.9398414311002885 on Random_state  35\n",
      "Best Accuracy is  0.9398414311002885 on Random_state  35\n",
      "Best Accuracy is  0.9398414311002885 on Random_state  35\n",
      "Best Accuracy is  0.9398414311002885 on Random_state  35\n",
      "Best Accuracy is  0.9398414311002885 on Random_state  35\n",
      "Best Accuracy is  0.9398414311002885 on Random_state  35\n",
      "Best Accuracy is  0.9398414311002885 on Random_state  35\n",
      "Best Accuracy is  0.9398414311002885 on Random_state  35\n",
      "Best Accuracy is  0.9398414311002885 on Random_state  35\n",
      "Best Accuracy is  0.9398414311002885 on Random_state  35\n"
     ]
    }
   ],
   "source": [
    "from sklearn.linear_model import LinearRegression\n",
    "from sklearn.metrics import r2_score\n",
    "maxAcc=0\n",
    "maxRS=0\n",
    "for i in range(1,150):\n",
    "    x_train,x_test,y_train,y_test=train_test_split(x,y,test_size=.35,random_state=i)\n",
    "    lg=LinearRegression()\n",
    "    lg.fit(x_train,y_train)\n",
    "    predlg=lg.predict(x_test)\n",
    "    acc=r2_score(y_test,predlg)\n",
    "    if acc>maxAcc:\n",
    "        maxAcc=acc\n",
    "        maxRS=i\n",
    "    print('Best Accuracy is ',maxAcc,'on Random_state ',maxRS)"
   ]
  },
  {
   "cell_type": "code",
   "execution_count": 34,
   "metadata": {},
   "outputs": [],
   "source": [
    "x_train,x_test,y_train,y_test=train_test_split(x,y,test_size=.35,random_state=35)"
   ]
  },
  {
   "cell_type": "code",
   "execution_count": 35,
   "metadata": {},
   "outputs": [],
   "source": [
    "lg=LinearRegression()\n",
    "lg.fit(x_train,y_train)\n",
    "predlg=lg.predict(x_test)"
   ]
  },
  {
   "cell_type": "code",
   "execution_count": 36,
   "metadata": {},
   "outputs": [
    {
     "name": "stdout",
     "output_type": "stream",
     "text": [
      "Error :-\n",
      "mean absolute error :- 0.19172152051203534\n",
      "mean squared error :- 0.058810613298143376\n",
      "root mean squared error :- 0.24250899632414336\n"
     ]
    }
   ],
   "source": [
    "print('Error :-')\n",
    "print('mean absolute error :-',mean_absolute_error(y_test,predlg))\n",
    "print('mean squared error :-',mean_squared_error(y_test,predlg))\n",
    "print('root mean squared error :-',np.sqrt(mean_squared_error(y_test,predlg)))"
   ]
  },
  {
   "cell_type": "code",
   "execution_count": 37,
   "metadata": {},
   "outputs": [
    {
     "name": "stdout",
     "output_type": "stream",
     "text": [
      "r2_score value :- 0.9398414311002885\n"
     ]
    }
   ],
   "source": [
    "print('r2_score value :-',r2_score(y_test,predlg))"
   ]
  },
  {
   "cell_type": "code",
   "execution_count": 38,
   "metadata": {},
   "outputs": [
    {
     "name": "stdout",
     "output_type": "stream",
     "text": [
      "cross validation score model 0.8958433989782135\n"
     ]
    }
   ],
   "source": [
    "from sklearn.model_selection import cross_val_score\n",
    "scr= cross_val_score(lg,x,y,cv=5)\n",
    "print(\"cross validation score model\",scr.mean())"
   ]
  },
  {
   "cell_type": "code",
   "execution_count": 39,
   "metadata": {},
   "outputs": [
    {
     "data": {
      "image/png": "[encoded data removed]",
      "text/plain": [
       "<Figure size 864x576 with 1 Axes>"
      ]
     },
     "metadata": {
      "needs_background": "light"
     },
     "output_type": "display_data"
    }
   ],
   "source": [
    "plt.figure(figsize=(12,8))\n",
    "plt.scatter(x=y_test,y=predlg,color='m')\n",
    "plt.plot(y_test,y_test,color='b')\n",
    "plt.xlabel('Actual value',fontsize=15)\n",
    "plt.ylabel('predicted value',fontsize=15)\n",
    "plt.title(\"Linear Regression\",fontsize=20)\n",
    "plt.show()"
   ]
  },
  {
   "cell_type": "code",
   "execution_count": 40,
   "metadata": {},
   "outputs": [],
   "source": [
    "from sklearn.model_selection import GridSearchCV\n",
    "from sklearn.model_selection import cross_val_score\n",
    "import warnings\n",
    "warnings.filterwarnings('ignore')"
   ]
  },
  {
   "cell_type": "code",
   "execution_count": 41,
   "metadata": {},
   "outputs": [
    {
     "name": "stdout",
     "output_type": "stream",
     "text": [
      "{'alpha': 0.01, 'random_state': 1}\n"
     ]
    }
   ],
   "source": [
    "from sklearn.linear_model import Lasso\n",
    "parameters={'alpha':[0.0001,0.001,0.01,0.1,1,10],'random_state':list(range(1,20))}\n",
    "lo=Lasso()\n",
    "gs=GridSearchCV(lo,parameters)\n",
    "gs.fit(x_train,y_train)\n",
    "print(gs.best_params_)"
   ]
  },
  {
   "cell_type": "code",
   "execution_count": 42,
   "metadata": {},
   "outputs": [
    {
     "name": "stdout",
     "output_type": "stream",
     "text": [
      "0.9398354217267733\n",
      "0.8958742428290207\n"
     ]
    }
   ],
   "source": [
    "lo=Lasso(alpha=0.0001,random_state=1)\n",
    "lo.fit(x_train,y_train)\n",
    "predlo=lo.predict(x_test)\n",
    "r2=r2_score(y_test,predlo)\n",
    "\n",
    "cv_score=cross_val_score(lo,x,y,cv=5)\n",
    "cv_mean=cv_score.mean()\n",
    "cv_mean\n",
    "print(r2)\n",
    "print(cv_mean)"
   ]
  },
  {
   "cell_type": "code",
   "execution_count": 43,
   "metadata": {},
   "outputs": [
    {
     "name": "stdout",
     "output_type": "stream",
     "text": [
      "0.9716297032706586\n",
      "0.9648083007011603\n"
     ]
    }
   ],
   "source": [
    "from sklearn.ensemble import RandomForestRegressor\n",
    "rf=RandomForestRegressor()\n",
    "rf.fit(x_train,y_train)\n",
    "predrf=rf.predict(x_test)\n",
    "r2=r2_score(y_test,predrf)\n",
    "\n",
    "cv_score=cross_val_score(rf,x,y,cv=5)\n",
    "cv_mean=cv_score.mean()\n",
    "\n",
    "print(r2)\n",
    "print(cv_mean)"
   ]
  },
  {
   "cell_type": "code",
   "execution_count": 44,
   "metadata": {},
   "outputs": [
    {
     "name": "stdout",
     "output_type": "stream",
     "text": [
      "0.9505862024170688\n",
      "0.9443057786006062\n"
     ]
    }
   ],
   "source": [
    "from sklearn.ensemble import AdaBoostRegressor\n",
    "ad=AdaBoostRegressor()\n",
    "ad.fit(x_train,y_train)\n",
    "predad=ad.predict(x_test)\n",
    "r2=r2_score(y_test,predad)\n",
    "\n",
    "cv_score=cross_val_score(ad,x,y,cv=5)\n",
    "cv_mean=cv_score.mean()\n",
    "\n",
    "print(r2)\n",
    "print(cv_mean)"
   ]
  },
  {
   "cell_type": "code",
   "execution_count": 45,
   "metadata": {},
   "outputs": [
    {
     "data": {
      "text/plain": [
       "['advertising_model.obj']"
      ]
     },
     "execution_count": 45,
     "metadata": {},
     "output_type": "execute_result"
    }
   ],
   "source": [
    "import joblib\n",
    "joblib.dump(rf,'advertising_model.obj')"
   ]
  },
  {
   "cell_type": "code",
   "execution_count": null,
   "metadata": {},
   "outputs": [],
   "source": []
  }
 ],
 "metadata": {
  "kernelspec": {
   "display_name": "Python 3",
   "language": "python",
   "name": "python3"
  },
  "language_info": {
   "codemirror_mode": {
    "name": "ipython",
    "version": 3
   },
   "file_extension": ".py",
   "mimetype": "text/x-python",
   "name": "python",
   "nbconvert_exporter": "python",
   "pygments_lexer": "ipython3",
   "version": "3.8.3"
  }
 },
 "nbformat": 4,
 "nbformat_minor": 4
}
