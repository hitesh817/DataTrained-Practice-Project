{
 "cells": [
  {
   "cell_type": "code",
   "execution_count": 1,
   "metadata": {},
   "outputs": [],
   "source": [
    "import numpy as np\n",
    "import pandas as pd\n",
    "import matplotlib.pyplot as plt\n",
    "import seaborn as sns\n",
    "import sklearn\n",
    "from sklearn.naive_bayes import MultinomialNB\n",
    "from sklearn.svm import SVC\n",
    "from sklearn.tree import DecisionTreeClassifier\n",
    "from sklearn.neighbors import KNeighborsClassifier\n",
    "from sklearn.metrics import accuracy_score,confusion_matrix,classification_report\n",
    "from sklearn.model_selection import train_test_split\n",
    "import warnings\n",
    "warnings.filterwarnings('ignore')"
   ]
  },
  {
   "cell_type": "code",
   "execution_count": 2,
   "metadata": {},
   "outputs": [
    {
     "data": {
      "text/html": [
       "<div>\n",
       "<style scoped>\n",
       "    .dataframe tbody tr th:only-of-type {\n",
       "        vertical-align: middle;\n",
       "    }\n",
       "\n",
       "    .dataframe tbody tr th {\n",
       "        vertical-align: top;\n",
       "    }\n",
       "\n",
       "    .dataframe thead th {\n",
       "        text-align: right;\n",
       "    }\n",
       "</style>\n",
       "<table border=\"1\" class=\"dataframe\">\n",
       "  <thead>\n",
       "    <tr style=\"text-align: right;\">\n",
       "      <th></th>\n",
       "      <th>fixed acidity</th>\n",
       "      <th>volatile acidity</th>\n",
       "      <th>citric acid</th>\n",
       "      <th>residual sugar</th>\n",
       "      <th>chlorides</th>\n",
       "      <th>free sulfur dioxide</th>\n",
       "      <th>total sulfur dioxide</th>\n",
       "      <th>density</th>\n",
       "      <th>pH</th>\n",
       "      <th>sulphates</th>\n",
       "      <th>alcohol</th>\n",
       "      <th>quality</th>\n",
       "    </tr>\n",
       "  </thead>\n",
       "  <tbody>\n",
       "    <tr>\n",
       "      <th>0</th>\n",
       "      <td>7.4</td>\n",
       "      <td>0.700</td>\n",
       "      <td>0.00</td>\n",
       "      <td>1.9</td>\n",
       "      <td>0.076</td>\n",
       "      <td>11.0</td>\n",
       "      <td>34.0</td>\n",
       "      <td>0.99780</td>\n",
       "      <td>3.51</td>\n",
       "      <td>0.56</td>\n",
       "      <td>9.4</td>\n",
       "      <td>5</td>\n",
       "    </tr>\n",
       "    <tr>\n",
       "      <th>1</th>\n",
       "      <td>7.8</td>\n",
       "      <td>0.880</td>\n",
       "      <td>0.00</td>\n",
       "      <td>2.6</td>\n",
       "      <td>0.098</td>\n",
       "      <td>25.0</td>\n",
       "      <td>67.0</td>\n",
       "      <td>0.99680</td>\n",
       "      <td>3.20</td>\n",
       "      <td>0.68</td>\n",
       "      <td>9.8</td>\n",
       "      <td>5</td>\n",
       "    </tr>\n",
       "    <tr>\n",
       "      <th>2</th>\n",
       "      <td>7.8</td>\n",
       "      <td>0.760</td>\n",
       "      <td>0.04</td>\n",
       "      <td>2.3</td>\n",
       "      <td>0.092</td>\n",
       "      <td>15.0</td>\n",
       "      <td>54.0</td>\n",
       "      <td>0.99700</td>\n",
       "      <td>3.26</td>\n",
       "      <td>0.65</td>\n",
       "      <td>9.8</td>\n",
       "      <td>5</td>\n",
       "    </tr>\n",
       "    <tr>\n",
       "      <th>3</th>\n",
       "      <td>11.2</td>\n",
       "      <td>0.280</td>\n",
       "      <td>0.56</td>\n",
       "      <td>1.9</td>\n",
       "      <td>0.075</td>\n",
       "      <td>17.0</td>\n",
       "      <td>60.0</td>\n",
       "      <td>0.99800</td>\n",
       "      <td>3.16</td>\n",
       "      <td>0.58</td>\n",
       "      <td>9.8</td>\n",
       "      <td>6</td>\n",
       "    </tr>\n",
       "    <tr>\n",
       "      <th>4</th>\n",
       "      <td>7.4</td>\n",
       "      <td>0.700</td>\n",
       "      <td>0.00</td>\n",
       "      <td>1.9</td>\n",
       "      <td>0.076</td>\n",
       "      <td>11.0</td>\n",
       "      <td>34.0</td>\n",
       "      <td>0.99780</td>\n",
       "      <td>3.51</td>\n",
       "      <td>0.56</td>\n",
       "      <td>9.4</td>\n",
       "      <td>5</td>\n",
       "    </tr>\n",
       "    <tr>\n",
       "      <th>...</th>\n",
       "      <td>...</td>\n",
       "      <td>...</td>\n",
       "      <td>...</td>\n",
       "      <td>...</td>\n",
       "      <td>...</td>\n",
       "      <td>...</td>\n",
       "      <td>...</td>\n",
       "      <td>...</td>\n",
       "      <td>...</td>\n",
       "      <td>...</td>\n",
       "      <td>...</td>\n",
       "      <td>...</td>\n",
       "    </tr>\n",
       "    <tr>\n",
       "      <th>1594</th>\n",
       "      <td>6.2</td>\n",
       "      <td>0.600</td>\n",
       "      <td>0.08</td>\n",
       "      <td>2.0</td>\n",
       "      <td>0.090</td>\n",
       "      <td>32.0</td>\n",
       "      <td>44.0</td>\n",
       "      <td>0.99490</td>\n",
       "      <td>3.45</td>\n",
       "      <td>0.58</td>\n",
       "      <td>10.5</td>\n",
       "      <td>5</td>\n",
       "    </tr>\n",
       "    <tr>\n",
       "      <th>1595</th>\n",
       "      <td>5.9</td>\n",
       "      <td>0.550</td>\n",
       "      <td>0.10</td>\n",
       "      <td>2.2</td>\n",
       "      <td>0.062</td>\n",
       "      <td>39.0</td>\n",
       "      <td>51.0</td>\n",
       "      <td>0.99512</td>\n",
       "      <td>3.52</td>\n",
       "      <td>0.76</td>\n",
       "      <td>11.2</td>\n",
       "      <td>6</td>\n",
       "    </tr>\n",
       "    <tr>\n",
       "      <th>1596</th>\n",
       "      <td>6.3</td>\n",
       "      <td>0.510</td>\n",
       "      <td>0.13</td>\n",
       "      <td>2.3</td>\n",
       "      <td>0.076</td>\n",
       "      <td>29.0</td>\n",
       "      <td>40.0</td>\n",
       "      <td>0.99574</td>\n",
       "      <td>3.42</td>\n",
       "      <td>0.75</td>\n",
       "      <td>11.0</td>\n",
       "      <td>6</td>\n",
       "    </tr>\n",
       "    <tr>\n",
       "      <th>1597</th>\n",
       "      <td>5.9</td>\n",
       "      <td>0.645</td>\n",
       "      <td>0.12</td>\n",
       "      <td>2.0</td>\n",
       "      <td>0.075</td>\n",
       "      <td>32.0</td>\n",
       "      <td>44.0</td>\n",
       "      <td>0.99547</td>\n",
       "      <td>3.57</td>\n",
       "      <td>0.71</td>\n",
       "      <td>10.2</td>\n",
       "      <td>5</td>\n",
       "    </tr>\n",
       "    <tr>\n",
       "      <th>1598</th>\n",
       "      <td>6.0</td>\n",
       "      <td>0.310</td>\n",
       "      <td>0.47</td>\n",
       "      <td>3.6</td>\n",
       "      <td>0.067</td>\n",
       "      <td>18.0</td>\n",
       "      <td>42.0</td>\n",
       "      <td>0.99549</td>\n",
       "      <td>3.39</td>\n",
       "      <td>0.66</td>\n",
       "      <td>11.0</td>\n",
       "      <td>6</td>\n",
       "    </tr>\n",
       "  </tbody>\n",
       "</table>\n",
       "<p>1599 rows × 12 columns</p>\n",
       "</div>"
      ],
      "text/plain": [
       "      fixed acidity  volatile acidity  citric acid  residual sugar  chlorides  \\\n",
       "0               7.4             0.700         0.00             1.9      0.076   \n",
       "1               7.8             0.880         0.00             2.6      0.098   \n",
       "2               7.8             0.760         0.04             2.3      0.092   \n",
       "3              11.2             0.280         0.56             1.9      0.075   \n",
       "4               7.4             0.700         0.00             1.9      0.076   \n",
       "...             ...               ...          ...             ...        ...   \n",
       "1594            6.2             0.600         0.08             2.0      0.090   \n",
       "1595            5.9             0.550         0.10             2.2      0.062   \n",
       "1596            6.3             0.510         0.13             2.3      0.076   \n",
       "1597            5.9             0.645         0.12             2.0      0.075   \n",
       "1598            6.0             0.310         0.47             3.6      0.067   \n",
       "\n",
       "      free sulfur dioxide  total sulfur dioxide  density    pH  sulphates  \\\n",
       "0                    11.0                  34.0  0.99780  3.51       0.56   \n",
       "1                    25.0                  67.0  0.99680  3.20       0.68   \n",
       "2                    15.0                  54.0  0.99700  3.26       0.65   \n",
       "3                    17.0                  60.0  0.99800  3.16       0.58   \n",
       "4                    11.0                  34.0  0.99780  3.51       0.56   \n",
       "...                   ...                   ...      ...   ...        ...   \n",
       "1594                 32.0                  44.0  0.99490  3.45       0.58   \n",
       "1595                 39.0                  51.0  0.99512  3.52       0.76   \n",
       "1596                 29.0                  40.0  0.99574  3.42       0.75   \n",
       "1597                 32.0                  44.0  0.99547  3.57       0.71   \n",
       "1598                 18.0                  42.0  0.99549  3.39       0.66   \n",
       "\n",
       "      alcohol  quality  \n",
       "0         9.4        5  \n",
       "1         9.8        5  \n",
       "2         9.8        5  \n",
       "3         9.8        6  \n",
       "4         9.4        5  \n",
       "...       ...      ...  \n",
       "1594     10.5        5  \n",
       "1595     11.2        6  \n",
       "1596     11.0        6  \n",
       "1597     10.2        5  \n",
       "1598     11.0        6  \n",
       "\n",
       "[1599 rows x 12 columns]"
      ]
     },
     "execution_count": 2,
     "metadata": {},
     "output_type": "execute_result"
    }
   ],
   "source": [
    "dp=pd.read_csv('winequality_red.csv')\n",
    "dp"
   ]
  },
  {
   "cell_type": "code",
   "execution_count": 3,
   "metadata": {},
   "outputs": [
    {
     "data": {
      "text/plain": [
       "Index(['fixed acidity', 'volatile acidity', 'citric acid', 'residual sugar',\n",
       "       'chlorides', 'free sulfur dioxide', 'total sulfur dioxide', 'density',\n",
       "       'pH', 'sulphates', 'alcohol', 'quality'],\n",
       "      dtype='object')"
      ]
     },
     "execution_count": 3,
     "metadata": {},
     "output_type": "execute_result"
    }
   ],
   "source": [
    "dp.columns"
   ]
  },
  {
   "cell_type": "code",
   "execution_count": 4,
   "metadata": {},
   "outputs": [
    {
     "data": {
      "text/plain": [
       "(1599, 12)"
      ]
     },
     "execution_count": 4,
     "metadata": {},
     "output_type": "execute_result"
    }
   ],
   "source": [
    "dp.shape"
   ]
  },
  {
   "cell_type": "code",
   "execution_count": 5,
   "metadata": {},
   "outputs": [
    {
     "data": {
      "text/plain": [
       "fixed acidity           float64\n",
       "volatile acidity        float64\n",
       "citric acid             float64\n",
       "residual sugar          float64\n",
       "chlorides               float64\n",
       "free sulfur dioxide     float64\n",
       "total sulfur dioxide    float64\n",
       "density                 float64\n",
       "pH                      float64\n",
       "sulphates               float64\n",
       "alcohol                 float64\n",
       "quality                   int64\n",
       "dtype: object"
      ]
     },
     "execution_count": 5,
     "metadata": {},
     "output_type": "execute_result"
    }
   ],
   "source": [
    "dp.dtypes"
   ]
  },
  {
   "cell_type": "code",
   "execution_count": 6,
   "metadata": {},
   "outputs": [
    {
     "data": {
      "text/plain": [
       "fixed acidity           0\n",
       "volatile acidity        0\n",
       "citric acid             0\n",
       "residual sugar          0\n",
       "chlorides               0\n",
       "free sulfur dioxide     0\n",
       "total sulfur dioxide    0\n",
       "density                 0\n",
       "pH                      0\n",
       "sulphates               0\n",
       "alcohol                 0\n",
       "quality                 0\n",
       "dtype: int64"
      ]
     },
     "execution_count": 6,
     "metadata": {},
     "output_type": "execute_result"
    }
   ],
   "source": [
    "dp.isnull().sum()"
   ]
  },
  {
   "cell_type": "code",
   "execution_count": 10,
   "metadata": {},
   "outputs": [
    {
     "data": {
      "text/plain": [
       "<matplotlib.axes._subplots.AxesSubplot at 0x21040af9d90>"
      ]
     },
     "execution_count": 10,
     "metadata": {},
     "output_type": "execute_result"
    },
    {
     "data": {
      "image/png": "[encoded data removed]",
      "text/plain": [
       "<Figure size 432x288 with 1 Axes>"
      ]
     },
     "metadata": {
      "needs_background": "light"
     },
     "output_type": "display_data"
    }
   ],
   "source": [
    "dp['quality'].hist()"
   ]
  },
  {
   "cell_type": "code",
   "execution_count": 12,
   "metadata": {},
   "outputs": [
    {
     "data": {
      "text/plain": [
       "<matplotlib.axes._subplots.AxesSubplot at 0x210412bc430>"
      ]
     },
     "execution_count": 12,
     "metadata": {},
     "output_type": "execute_result"
    },
    {
     "data": {
      "image/png": "[encoded data removed]",
      "text/plain": [
       "<Figure size 432x288 with 1 Axes>"
      ]
     },
     "metadata": {
      "needs_background": "light"
     },
     "output_type": "display_data"
    }
   ],
   "source": [
    "sns.countplot(dp['quality'])"
   ]
  },
  {
   "cell_type": "code",
   "execution_count": 13,
   "metadata": {},
   "outputs": [
    {
     "data": {
      "text/plain": [
       "<matplotlib.axes._subplots.AxesSubplot at 0x21041332310>"
      ]
     },
     "execution_count": 13,
     "metadata": {},
     "output_type": "execute_result"
    },
    {
     "data": {
      "image/png": "[encoded data removed]",
      "text/plain": [
       "<Figure size 432x288 with 1 Axes>"
      ]
     },
     "metadata": {
      "needs_background": "light"
     },
     "output_type": "display_data"
    }
   ],
   "source": [
    "sns.scatterplot(x='residual sugar',y='quality',data=dp)"
   ]
  },
  {
   "cell_type": "code",
   "execution_count": 14,
   "metadata": {},
   "outputs": [
    {
     "data": {
      "text/html": [
       "<div>\n",
       "<style scoped>\n",
       "    .dataframe tbody tr th:only-of-type {\n",
       "        vertical-align: middle;\n",
       "    }\n",
       "\n",
       "    .dataframe tbody tr th {\n",
       "        vertical-align: top;\n",
       "    }\n",
       "\n",
       "    .dataframe thead th {\n",
       "        text-align: right;\n",
       "    }\n",
       "</style>\n",
       "<table border=\"1\" class=\"dataframe\">\n",
       "  <thead>\n",
       "    <tr style=\"text-align: right;\">\n",
       "      <th></th>\n",
       "      <th>fixed acidity</th>\n",
       "      <th>volatile acidity</th>\n",
       "      <th>citric acid</th>\n",
       "      <th>residual sugar</th>\n",
       "      <th>chlorides</th>\n",
       "      <th>free sulfur dioxide</th>\n",
       "      <th>total sulfur dioxide</th>\n",
       "      <th>density</th>\n",
       "      <th>pH</th>\n",
       "      <th>sulphates</th>\n",
       "      <th>alcohol</th>\n",
       "      <th>quality</th>\n",
       "    </tr>\n",
       "  </thead>\n",
       "  <tbody>\n",
       "    <tr>\n",
       "      <th>fixed acidity</th>\n",
       "      <td>1.000000</td>\n",
       "      <td>-0.256131</td>\n",
       "      <td>0.671703</td>\n",
       "      <td>0.114777</td>\n",
       "      <td>0.093705</td>\n",
       "      <td>-0.153794</td>\n",
       "      <td>-0.113181</td>\n",
       "      <td>0.668047</td>\n",
       "      <td>-0.682978</td>\n",
       "      <td>0.183006</td>\n",
       "      <td>-0.061668</td>\n",
       "      <td>0.124052</td>\n",
       "    </tr>\n",
       "    <tr>\n",
       "      <th>volatile acidity</th>\n",
       "      <td>-0.256131</td>\n",
       "      <td>1.000000</td>\n",
       "      <td>-0.552496</td>\n",
       "      <td>0.001918</td>\n",
       "      <td>0.061298</td>\n",
       "      <td>-0.010504</td>\n",
       "      <td>0.076470</td>\n",
       "      <td>0.022026</td>\n",
       "      <td>0.234937</td>\n",
       "      <td>-0.260987</td>\n",
       "      <td>-0.202288</td>\n",
       "      <td>-0.390558</td>\n",
       "    </tr>\n",
       "    <tr>\n",
       "      <th>citric acid</th>\n",
       "      <td>0.671703</td>\n",
       "      <td>-0.552496</td>\n",
       "      <td>1.000000</td>\n",
       "      <td>0.143577</td>\n",
       "      <td>0.203823</td>\n",
       "      <td>-0.060978</td>\n",
       "      <td>0.035533</td>\n",
       "      <td>0.364947</td>\n",
       "      <td>-0.541904</td>\n",
       "      <td>0.312770</td>\n",
       "      <td>0.109903</td>\n",
       "      <td>0.226373</td>\n",
       "    </tr>\n",
       "    <tr>\n",
       "      <th>residual sugar</th>\n",
       "      <td>0.114777</td>\n",
       "      <td>0.001918</td>\n",
       "      <td>0.143577</td>\n",
       "      <td>1.000000</td>\n",
       "      <td>0.055610</td>\n",
       "      <td>0.187049</td>\n",
       "      <td>0.203028</td>\n",
       "      <td>0.355283</td>\n",
       "      <td>-0.085652</td>\n",
       "      <td>0.005527</td>\n",
       "      <td>0.042075</td>\n",
       "      <td>0.013732</td>\n",
       "    </tr>\n",
       "    <tr>\n",
       "      <th>chlorides</th>\n",
       "      <td>0.093705</td>\n",
       "      <td>0.061298</td>\n",
       "      <td>0.203823</td>\n",
       "      <td>0.055610</td>\n",
       "      <td>1.000000</td>\n",
       "      <td>0.005562</td>\n",
       "      <td>0.047400</td>\n",
       "      <td>0.200632</td>\n",
       "      <td>-0.265026</td>\n",
       "      <td>0.371260</td>\n",
       "      <td>-0.221141</td>\n",
       "      <td>-0.128907</td>\n",
       "    </tr>\n",
       "    <tr>\n",
       "      <th>free sulfur dioxide</th>\n",
       "      <td>-0.153794</td>\n",
       "      <td>-0.010504</td>\n",
       "      <td>-0.060978</td>\n",
       "      <td>0.187049</td>\n",
       "      <td>0.005562</td>\n",
       "      <td>1.000000</td>\n",
       "      <td>0.667666</td>\n",
       "      <td>-0.021946</td>\n",
       "      <td>0.070377</td>\n",
       "      <td>0.051658</td>\n",
       "      <td>-0.069408</td>\n",
       "      <td>-0.050656</td>\n",
       "    </tr>\n",
       "    <tr>\n",
       "      <th>total sulfur dioxide</th>\n",
       "      <td>-0.113181</td>\n",
       "      <td>0.076470</td>\n",
       "      <td>0.035533</td>\n",
       "      <td>0.203028</td>\n",
       "      <td>0.047400</td>\n",
       "      <td>0.667666</td>\n",
       "      <td>1.000000</td>\n",
       "      <td>0.071269</td>\n",
       "      <td>-0.066495</td>\n",
       "      <td>0.042947</td>\n",
       "      <td>-0.205654</td>\n",
       "      <td>-0.185100</td>\n",
       "    </tr>\n",
       "    <tr>\n",
       "      <th>density</th>\n",
       "      <td>0.668047</td>\n",
       "      <td>0.022026</td>\n",
       "      <td>0.364947</td>\n",
       "      <td>0.355283</td>\n",
       "      <td>0.200632</td>\n",
       "      <td>-0.021946</td>\n",
       "      <td>0.071269</td>\n",
       "      <td>1.000000</td>\n",
       "      <td>-0.341699</td>\n",
       "      <td>0.148506</td>\n",
       "      <td>-0.496180</td>\n",
       "      <td>-0.174919</td>\n",
       "    </tr>\n",
       "    <tr>\n",
       "      <th>pH</th>\n",
       "      <td>-0.682978</td>\n",
       "      <td>0.234937</td>\n",
       "      <td>-0.541904</td>\n",
       "      <td>-0.085652</td>\n",
       "      <td>-0.265026</td>\n",
       "      <td>0.070377</td>\n",
       "      <td>-0.066495</td>\n",
       "      <td>-0.341699</td>\n",
       "      <td>1.000000</td>\n",
       "      <td>-0.196648</td>\n",
       "      <td>0.205633</td>\n",
       "      <td>-0.057731</td>\n",
       "    </tr>\n",
       "    <tr>\n",
       "      <th>sulphates</th>\n",
       "      <td>0.183006</td>\n",
       "      <td>-0.260987</td>\n",
       "      <td>0.312770</td>\n",
       "      <td>0.005527</td>\n",
       "      <td>0.371260</td>\n",
       "      <td>0.051658</td>\n",
       "      <td>0.042947</td>\n",
       "      <td>0.148506</td>\n",
       "      <td>-0.196648</td>\n",
       "      <td>1.000000</td>\n",
       "      <td>0.093595</td>\n",
       "      <td>0.251397</td>\n",
       "    </tr>\n",
       "    <tr>\n",
       "      <th>alcohol</th>\n",
       "      <td>-0.061668</td>\n",
       "      <td>-0.202288</td>\n",
       "      <td>0.109903</td>\n",
       "      <td>0.042075</td>\n",
       "      <td>-0.221141</td>\n",
       "      <td>-0.069408</td>\n",
       "      <td>-0.205654</td>\n",
       "      <td>-0.496180</td>\n",
       "      <td>0.205633</td>\n",
       "      <td>0.093595</td>\n",
       "      <td>1.000000</td>\n",
       "      <td>0.476166</td>\n",
       "    </tr>\n",
       "    <tr>\n",
       "      <th>quality</th>\n",
       "      <td>0.124052</td>\n",
       "      <td>-0.390558</td>\n",
       "      <td>0.226373</td>\n",
       "      <td>0.013732</td>\n",
       "      <td>-0.128907</td>\n",
       "      <td>-0.050656</td>\n",
       "      <td>-0.185100</td>\n",
       "      <td>-0.174919</td>\n",
       "      <td>-0.057731</td>\n",
       "      <td>0.251397</td>\n",
       "      <td>0.476166</td>\n",
       "      <td>1.000000</td>\n",
       "    </tr>\n",
       "  </tbody>\n",
       "</table>\n",
       "</div>"
      ],
      "text/plain": [
       "                      fixed acidity  volatile acidity  citric acid  \\\n",
       "fixed acidity              1.000000         -0.256131     0.671703   \n",
       "volatile acidity          -0.256131          1.000000    -0.552496   \n",
       "citric acid                0.671703         -0.552496     1.000000   \n",
       "residual sugar             0.114777          0.001918     0.143577   \n",
       "chlorides                  0.093705          0.061298     0.203823   \n",
       "free sulfur dioxide       -0.153794         -0.010504    -0.060978   \n",
       "total sulfur dioxide      -0.113181          0.076470     0.035533   \n",
       "density                    0.668047          0.022026     0.364947   \n",
       "pH                        -0.682978          0.234937    -0.541904   \n",
       "sulphates                  0.183006         -0.260987     0.312770   \n",
       "alcohol                   -0.061668         -0.202288     0.109903   \n",
       "quality                    0.124052         -0.390558     0.226373   \n",
       "\n",
       "                      residual sugar  chlorides  free sulfur dioxide  \\\n",
       "fixed acidity               0.114777   0.093705            -0.153794   \n",
       "volatile acidity            0.001918   0.061298            -0.010504   \n",
       "citric acid                 0.143577   0.203823            -0.060978   \n",
       "residual sugar              1.000000   0.055610             0.187049   \n",
       "chlorides                   0.055610   1.000000             0.005562   \n",
       "free sulfur dioxide         0.187049   0.005562             1.000000   \n",
       "total sulfur dioxide        0.203028   0.047400             0.667666   \n",
       "density                     0.355283   0.200632            -0.021946   \n",
       "pH                         -0.085652  -0.265026             0.070377   \n",
       "sulphates                   0.005527   0.371260             0.051658   \n",
       "alcohol                     0.042075  -0.221141            -0.069408   \n",
       "quality                     0.013732  -0.128907            -0.050656   \n",
       "\n",
       "                      total sulfur dioxide   density        pH  sulphates  \\\n",
       "fixed acidity                    -0.113181  0.668047 -0.682978   0.183006   \n",
       "volatile acidity                  0.076470  0.022026  0.234937  -0.260987   \n",
       "citric acid                       0.035533  0.364947 -0.541904   0.312770   \n",
       "residual sugar                    0.203028  0.355283 -0.085652   0.005527   \n",
       "chlorides                         0.047400  0.200632 -0.265026   0.371260   \n",
       "free sulfur dioxide               0.667666 -0.021946  0.070377   0.051658   \n",
       "total sulfur dioxide              1.000000  0.071269 -0.066495   0.042947   \n",
       "density                           0.071269  1.000000 -0.341699   0.148506   \n",
       "pH                               -0.066495 -0.341699  1.000000  -0.196648   \n",
       "sulphates                         0.042947  0.148506 -0.196648   1.000000   \n",
       "alcohol                          -0.205654 -0.496180  0.205633   0.093595   \n",
       "quality                          -0.185100 -0.174919 -0.057731   0.251397   \n",
       "\n",
       "                       alcohol   quality  \n",
       "fixed acidity        -0.061668  0.124052  \n",
       "volatile acidity     -0.202288 -0.390558  \n",
       "citric acid           0.109903  0.226373  \n",
       "residual sugar        0.042075  0.013732  \n",
       "chlorides            -0.221141 -0.128907  \n",
       "free sulfur dioxide  -0.069408 -0.050656  \n",
       "total sulfur dioxide -0.205654 -0.185100  \n",
       "density              -0.496180 -0.174919  \n",
       "pH                    0.205633 -0.057731  \n",
       "sulphates             0.093595  0.251397  \n",
       "alcohol               1.000000  0.476166  \n",
       "quality               0.476166  1.000000  "
      ]
     },
     "execution_count": 14,
     "metadata": {},
     "output_type": "execute_result"
    }
   ],
   "source": [
    "dp.corr()"
   ]
  },
  {
   "cell_type": "code",
   "execution_count": 16,
   "metadata": {},
   "outputs": [
    {
     "data": {
      "image/png": "[encoded data removed]",
      "text/plain": [
       "<Figure size 1152x576 with 2 Axes>"
      ]
     },
     "metadata": {
      "needs_background": "light"
     },
     "output_type": "display_data"
    }
   ],
   "source": [
    "corr=dp.corr()                                               # multivariate analysis\n",
    "plt.figure(figsize=(16,8))\n",
    "sns.heatmap(corr,annot=True,linewidths=0.5,linecolor='green',fmt='.2f',)\n",
    "plt.title('Correlation matrix')\n",
    "plt.show()"
   ]
  },
  {
   "cell_type": "code",
   "execution_count": 17,
   "metadata": {},
   "outputs": [
    {
     "data": {
      "text/plain": [
       "volatile acidity       -0.390558\n",
       "total sulfur dioxide   -0.185100\n",
       "density                -0.174919\n",
       "chlorides              -0.128907\n",
       "pH                     -0.057731\n",
       "free sulfur dioxide    -0.050656\n",
       "residual sugar          0.013732\n",
       "fixed acidity           0.124052\n",
       "citric acid             0.226373\n",
       "sulphates               0.251397\n",
       "alcohol                 0.476166\n",
       "quality                 1.000000\n",
       "Name: quality, dtype: float64"
      ]
     },
     "execution_count": 17,
     "metadata": {},
     "output_type": "execute_result"
    }
   ],
   "source": [
    "corr_matrix=dp.corr()\n",
    "corr_matrix['quality'].sort_values(ascending=True)"
   ]
  },
  {
   "cell_type": "code",
   "execution_count": 20,
   "metadata": {},
   "outputs": [
    {
     "data": {
      "image/png": "[encoded data removed]",
      "text/plain": [
       "<Figure size 1440x576 with 1 Axes>"
      ]
     },
     "metadata": {
      "needs_background": "light"
     },
     "output_type": "display_data"
    }
   ],
   "source": [
    "dp.iloc[:,0:].boxplot(figsize=(20,8))\n",
    "plt.subplots_adjust(bottom=0.20)\n",
    "plt.show()"
   ]
  },
  {
   "cell_type": "code",
   "execution_count": 22,
   "metadata": {},
   "outputs": [
    {
     "data": {
      "image/png": "[encoded data removed]",
      "text/plain": [
       "<Figure size 432x288 with 1 Axes>"
      ]
     },
     "metadata": {
      "needs_background": "light"
     },
     "output_type": "display_data"
    },
    {
     "data": {
      "image/png": "[encoded data removed]",
      "text/plain": [
       "<Figure size 432x288 with 1 Axes>"
      ]
     },
     "metadata": {
      "needs_background": "light"
     },
     "output_type": "display_data"
    },
    {
     "data": {
      "image/png": "[encoded data removed]",
      "text/plain": [
       "<Figure size 432x288 with 1 Axes>"
      ]
     },
     "metadata": {
      "needs_background": "light"
     },
     "output_type": "display_data"
    },
    {
     "data": {
      "image/png": "[encoded data removed]",
      "text/plain": [
       "<Figure size 432x288 with 1 Axes>"
      ]
     },
     "metadata": {
      "needs_background": "light"
     },
     "output_type": "display_data"
    },
    {
     "data": {
      "image/png": "[encoded data removed]",
      "text/plain": [
       "<Figure size 432x288 with 1 Axes>"
      ]
     },
     "metadata": {
      "needs_background": "light"
     },
     "output_type": "display_data"
    },
    {
     "data": {
      "image/png": "[encoded data removed]",
      "text/plain": [
       "<Figure size 432x288 with 1 Axes>"
      ]
     },
     "metadata": {
      "needs_background": "light"
     },
     "output_type": "display_data"
    },
    {
     "data": {
      "image/png": "[encoded data removed]",
      "text/plain": [
       "<Figure size 432x288 with 1 Axes>"
      ]
     },
     "metadata": {
      "needs_background": "light"
     },
     "output_type": "display_data"
    },
    {
     "data": {
      "image/png": "[encoded data removed]",
      "text/plain": [
       "<Figure size 432x288 with 1 Axes>"
      ]
     },
     "metadata": {
      "needs_background": "light"
     },
     "output_type": "display_data"
    },
    {
     "data": {
      "image/png": "[encoded data removed]",
      "text/plain": [
       "<Figure size 432x288 with 1 Axes>"
      ]
     },
     "metadata": {
      "needs_background": "light"
     },
     "output_type": "display_data"
    },
    {
     "data": {
      "image/png": "[encoded data removed]",
      "text/plain": [
       "<Figure size 432x288 with 1 Axes>"
      ]
     },
     "metadata": {
      "needs_background": "light"
     },
     "output_type": "display_data"
    },
    {
     "data": {
      "image/png": "[encoded data removed]",
      "text/plain": [
       "<Figure size 432x288 with 1 Axes>"
      ]
     },
     "metadata": {
      "needs_background": "light"
     },
     "output_type": "display_data"
    },
    {
     "data": {
      "image/png": "[encoded data removed]",
      "text/plain": [
       "<Figure size 432x288 with 1 Axes>"
      ]
     },
     "metadata": {
      "needs_background": "light"
     },
     "output_type": "display_data"
    }
   ],
   "source": [
    "for k in dp.columns:\n",
    "    plt.figure()\n",
    "    sns.distplot(dp[k])"
   ]
  },
  {
   "cell_type": "code",
   "execution_count": 23,
   "metadata": {},
   "outputs": [
    {
     "data": {
      "text/plain": [
       "fixed acidity           0.982751\n",
       "volatile acidity        0.671593\n",
       "citric acid             0.318337\n",
       "residual sugar          4.540655\n",
       "chlorides               5.680347\n",
       "free sulfur dioxide     1.250567\n",
       "total sulfur dioxide    1.515531\n",
       "density                 0.071288\n",
       "pH                      0.193683\n",
       "sulphates               2.428672\n",
       "alcohol                 0.860829\n",
       "quality                 0.217802\n",
       "dtype: float64"
      ]
     },
     "execution_count": 23,
     "metadata": {},
     "output_type": "execute_result"
    }
   ],
   "source": [
    "dp.skew()"
   ]
  },
  {
   "cell_type": "code",
   "execution_count": 24,
   "metadata": {},
   "outputs": [
    {
     "data": {
      "text/html": [
       "<div>\n",
       "<style scoped>\n",
       "    .dataframe tbody tr th:only-of-type {\n",
       "        vertical-align: middle;\n",
       "    }\n",
       "\n",
       "    .dataframe tbody tr th {\n",
       "        vertical-align: top;\n",
       "    }\n",
       "\n",
       "    .dataframe thead th {\n",
       "        text-align: right;\n",
       "    }\n",
       "</style>\n",
       "<table border=\"1\" class=\"dataframe\">\n",
       "  <thead>\n",
       "    <tr style=\"text-align: right;\">\n",
       "      <th></th>\n",
       "      <th>fixed acidity</th>\n",
       "      <th>volatile acidity</th>\n",
       "      <th>citric acid</th>\n",
       "      <th>residual sugar</th>\n",
       "      <th>chlorides</th>\n",
       "      <th>free sulfur dioxide</th>\n",
       "      <th>total sulfur dioxide</th>\n",
       "      <th>density</th>\n",
       "      <th>pH</th>\n",
       "      <th>sulphates</th>\n",
       "      <th>alcohol</th>\n",
       "      <th>quality</th>\n",
       "    </tr>\n",
       "  </thead>\n",
       "  <tbody>\n",
       "    <tr>\n",
       "      <th>count</th>\n",
       "      <td>1599.000000</td>\n",
       "      <td>1599.000000</td>\n",
       "      <td>1599.000000</td>\n",
       "      <td>1599.000000</td>\n",
       "      <td>1599.000000</td>\n",
       "      <td>1599.000000</td>\n",
       "      <td>1599.000000</td>\n",
       "      <td>1599.000000</td>\n",
       "      <td>1599.000000</td>\n",
       "      <td>1599.000000</td>\n",
       "      <td>1599.000000</td>\n",
       "      <td>1599.000000</td>\n",
       "    </tr>\n",
       "    <tr>\n",
       "      <th>mean</th>\n",
       "      <td>8.319637</td>\n",
       "      <td>0.527821</td>\n",
       "      <td>0.270976</td>\n",
       "      <td>2.538806</td>\n",
       "      <td>0.087467</td>\n",
       "      <td>15.874922</td>\n",
       "      <td>46.467792</td>\n",
       "      <td>0.996747</td>\n",
       "      <td>3.311113</td>\n",
       "      <td>0.658149</td>\n",
       "      <td>10.422983</td>\n",
       "      <td>5.636023</td>\n",
       "    </tr>\n",
       "    <tr>\n",
       "      <th>std</th>\n",
       "      <td>1.741096</td>\n",
       "      <td>0.179060</td>\n",
       "      <td>0.194801</td>\n",
       "      <td>1.409928</td>\n",
       "      <td>0.047065</td>\n",
       "      <td>10.460157</td>\n",
       "      <td>32.895324</td>\n",
       "      <td>0.001887</td>\n",
       "      <td>0.154386</td>\n",
       "      <td>0.169507</td>\n",
       "      <td>1.065668</td>\n",
       "      <td>0.807569</td>\n",
       "    </tr>\n",
       "    <tr>\n",
       "      <th>min</th>\n",
       "      <td>4.600000</td>\n",
       "      <td>0.120000</td>\n",
       "      <td>0.000000</td>\n",
       "      <td>0.900000</td>\n",
       "      <td>0.012000</td>\n",
       "      <td>1.000000</td>\n",
       "      <td>6.000000</td>\n",
       "      <td>0.990070</td>\n",
       "      <td>2.740000</td>\n",
       "      <td>0.330000</td>\n",
       "      <td>8.400000</td>\n",
       "      <td>3.000000</td>\n",
       "    </tr>\n",
       "    <tr>\n",
       "      <th>25%</th>\n",
       "      <td>7.100000</td>\n",
       "      <td>0.390000</td>\n",
       "      <td>0.090000</td>\n",
       "      <td>1.900000</td>\n",
       "      <td>0.070000</td>\n",
       "      <td>7.000000</td>\n",
       "      <td>22.000000</td>\n",
       "      <td>0.995600</td>\n",
       "      <td>3.210000</td>\n",
       "      <td>0.550000</td>\n",
       "      <td>9.500000</td>\n",
       "      <td>5.000000</td>\n",
       "    </tr>\n",
       "    <tr>\n",
       "      <th>50%</th>\n",
       "      <td>7.900000</td>\n",
       "      <td>0.520000</td>\n",
       "      <td>0.260000</td>\n",
       "      <td>2.200000</td>\n",
       "      <td>0.079000</td>\n",
       "      <td>14.000000</td>\n",
       "      <td>38.000000</td>\n",
       "      <td>0.996750</td>\n",
       "      <td>3.310000</td>\n",
       "      <td>0.620000</td>\n",
       "      <td>10.200000</td>\n",
       "      <td>6.000000</td>\n",
       "    </tr>\n",
       "    <tr>\n",
       "      <th>75%</th>\n",
       "      <td>9.200000</td>\n",
       "      <td>0.640000</td>\n",
       "      <td>0.420000</td>\n",
       "      <td>2.600000</td>\n",
       "      <td>0.090000</td>\n",
       "      <td>21.000000</td>\n",
       "      <td>62.000000</td>\n",
       "      <td>0.997835</td>\n",
       "      <td>3.400000</td>\n",
       "      <td>0.730000</td>\n",
       "      <td>11.100000</td>\n",
       "      <td>6.000000</td>\n",
       "    </tr>\n",
       "    <tr>\n",
       "      <th>max</th>\n",
       "      <td>15.900000</td>\n",
       "      <td>1.580000</td>\n",
       "      <td>1.000000</td>\n",
       "      <td>15.500000</td>\n",
       "      <td>0.611000</td>\n",
       "      <td>72.000000</td>\n",
       "      <td>289.000000</td>\n",
       "      <td>1.003690</td>\n",
       "      <td>4.010000</td>\n",
       "      <td>2.000000</td>\n",
       "      <td>14.900000</td>\n",
       "      <td>8.000000</td>\n",
       "    </tr>\n",
       "  </tbody>\n",
       "</table>\n",
       "</div>"
      ],
      "text/plain": [
       "       fixed acidity  volatile acidity  citric acid  residual sugar  \\\n",
       "count    1599.000000       1599.000000  1599.000000     1599.000000   \n",
       "mean        8.319637          0.527821     0.270976        2.538806   \n",
       "std         1.741096          0.179060     0.194801        1.409928   \n",
       "min         4.600000          0.120000     0.000000        0.900000   \n",
       "25%         7.100000          0.390000     0.090000        1.900000   \n",
       "50%         7.900000          0.520000     0.260000        2.200000   \n",
       "75%         9.200000          0.640000     0.420000        2.600000   \n",
       "max        15.900000          1.580000     1.000000       15.500000   \n",
       "\n",
       "         chlorides  free sulfur dioxide  total sulfur dioxide      density  \\\n",
       "count  1599.000000          1599.000000           1599.000000  1599.000000   \n",
       "mean      0.087467            15.874922             46.467792     0.996747   \n",
       "std       0.047065            10.460157             32.895324     0.001887   \n",
       "min       0.012000             1.000000              6.000000     0.990070   \n",
       "25%       0.070000             7.000000             22.000000     0.995600   \n",
       "50%       0.079000            14.000000             38.000000     0.996750   \n",
       "75%       0.090000            21.000000             62.000000     0.997835   \n",
       "max       0.611000            72.000000            289.000000     1.003690   \n",
       "\n",
       "                pH    sulphates      alcohol      quality  \n",
       "count  1599.000000  1599.000000  1599.000000  1599.000000  \n",
       "mean      3.311113     0.658149    10.422983     5.636023  \n",
       "std       0.154386     0.169507     1.065668     0.807569  \n",
       "min       2.740000     0.330000     8.400000     3.000000  \n",
       "25%       3.210000     0.550000     9.500000     5.000000  \n",
       "50%       3.310000     0.620000    10.200000     6.000000  \n",
       "75%       3.400000     0.730000    11.100000     6.000000  \n",
       "max       4.010000     2.000000    14.900000     8.000000  "
      ]
     },
     "execution_count": 24,
     "metadata": {},
     "output_type": "execute_result"
    }
   ],
   "source": [
    "dp.describe()"
   ]
  },
  {
   "cell_type": "code",
   "execution_count": 25,
   "metadata": {},
   "outputs": [
    {
     "data": {
      "image/png": "[encoded data removed]",
      "text/plain": [
       "<Figure size 1080x504 with 2 Axes>"
      ]
     },
     "metadata": {
      "needs_background": "light"
     },
     "output_type": "display_data"
    }
   ],
   "source": [
    "plt.figure(figsize=(15,7))\n",
    "sns.heatmap(round(dp.describe()[1:].transpose(),2),linewidth=2,annot=True,fmt='f')\n",
    "plt.title('variables summary')\n",
    "plt.show()"
   ]
  },
  {
   "cell_type": "code",
   "execution_count": 26,
   "metadata": {},
   "outputs": [
    {
     "data": {
      "text/html": [
       "<div>\n",
       "<style scoped>\n",
       "    .dataframe tbody tr th:only-of-type {\n",
       "        vertical-align: middle;\n",
       "    }\n",
       "\n",
       "    .dataframe tbody tr th {\n",
       "        vertical-align: top;\n",
       "    }\n",
       "\n",
       "    .dataframe thead th {\n",
       "        text-align: right;\n",
       "    }\n",
       "</style>\n",
       "<table border=\"1\" class=\"dataframe\">\n",
       "  <thead>\n",
       "    <tr style=\"text-align: right;\">\n",
       "      <th></th>\n",
       "      <th>Correlation with target</th>\n",
       "      <th>column name</th>\n",
       "      <th>Normalised</th>\n",
       "      <th>Outliers</th>\n",
       "    </tr>\n",
       "  </thead>\n",
       "  <tbody>\n",
       "    <tr>\n",
       "      <th>0</th>\n",
       "      <td>0.05</td>\n",
       "      <td>free sulfur dioxide</td>\n",
       "      <td>No</td>\n",
       "      <td>Alot</td>\n",
       "    </tr>\n",
       "    <tr>\n",
       "      <th>1</th>\n",
       "      <td>0.01</td>\n",
       "      <td>residual sugar</td>\n",
       "      <td>No</td>\n",
       "      <td>Alot</td>\n",
       "    </tr>\n",
       "  </tbody>\n",
       "</table>\n",
       "</div>"
      ],
      "text/plain": [
       "  Correlation with target          column name Normalised Outliers\n",
       "0                    0.05  free sulfur dioxide         No     Alot\n",
       "1                    0.01       residual sugar         No     Alot"
      ]
     },
     "execution_count": 26,
     "metadata": {},
     "output_type": "execute_result"
    }
   ],
   "source": [
    "dele=pd.DataFrame([['0.05','free sulfur dioxide','No','Alot'],['0.01','residual sugar','No','Alot']],columns=['Correlation with target','column name','Normalised','Outliers'])\n",
    "dele"
   ]
  },
  {
   "cell_type": "code",
   "execution_count": 27,
   "metadata": {},
   "outputs": [
    {
     "data": {
      "text/html": [
       "<div>\n",
       "<style scoped>\n",
       "    .dataframe tbody tr th:only-of-type {\n",
       "        vertical-align: middle;\n",
       "    }\n",
       "\n",
       "    .dataframe tbody tr th {\n",
       "        vertical-align: top;\n",
       "    }\n",
       "\n",
       "    .dataframe thead th {\n",
       "        text-align: right;\n",
       "    }\n",
       "</style>\n",
       "<table border=\"1\" class=\"dataframe\">\n",
       "  <thead>\n",
       "    <tr style=\"text-align: right;\">\n",
       "      <th></th>\n",
       "      <th>fixed acidity</th>\n",
       "      <th>volatile acidity</th>\n",
       "      <th>citric acid</th>\n",
       "      <th>chlorides</th>\n",
       "      <th>total sulfur dioxide</th>\n",
       "      <th>density</th>\n",
       "      <th>pH</th>\n",
       "      <th>sulphates</th>\n",
       "      <th>alcohol</th>\n",
       "      <th>quality</th>\n",
       "    </tr>\n",
       "  </thead>\n",
       "  <tbody>\n",
       "    <tr>\n",
       "      <th>0</th>\n",
       "      <td>7.4</td>\n",
       "      <td>0.700</td>\n",
       "      <td>0.00</td>\n",
       "      <td>0.076</td>\n",
       "      <td>34.0</td>\n",
       "      <td>0.99780</td>\n",
       "      <td>3.51</td>\n",
       "      <td>0.56</td>\n",
       "      <td>9.4</td>\n",
       "      <td>5</td>\n",
       "    </tr>\n",
       "    <tr>\n",
       "      <th>1</th>\n",
       "      <td>7.8</td>\n",
       "      <td>0.880</td>\n",
       "      <td>0.00</td>\n",
       "      <td>0.098</td>\n",
       "      <td>67.0</td>\n",
       "      <td>0.99680</td>\n",
       "      <td>3.20</td>\n",
       "      <td>0.68</td>\n",
       "      <td>9.8</td>\n",
       "      <td>5</td>\n",
       "    </tr>\n",
       "    <tr>\n",
       "      <th>2</th>\n",
       "      <td>7.8</td>\n",
       "      <td>0.760</td>\n",
       "      <td>0.04</td>\n",
       "      <td>0.092</td>\n",
       "      <td>54.0</td>\n",
       "      <td>0.99700</td>\n",
       "      <td>3.26</td>\n",
       "      <td>0.65</td>\n",
       "      <td>9.8</td>\n",
       "      <td>5</td>\n",
       "    </tr>\n",
       "    <tr>\n",
       "      <th>3</th>\n",
       "      <td>11.2</td>\n",
       "      <td>0.280</td>\n",
       "      <td>0.56</td>\n",
       "      <td>0.075</td>\n",
       "      <td>60.0</td>\n",
       "      <td>0.99800</td>\n",
       "      <td>3.16</td>\n",
       "      <td>0.58</td>\n",
       "      <td>9.8</td>\n",
       "      <td>6</td>\n",
       "    </tr>\n",
       "    <tr>\n",
       "      <th>4</th>\n",
       "      <td>7.4</td>\n",
       "      <td>0.700</td>\n",
       "      <td>0.00</td>\n",
       "      <td>0.076</td>\n",
       "      <td>34.0</td>\n",
       "      <td>0.99780</td>\n",
       "      <td>3.51</td>\n",
       "      <td>0.56</td>\n",
       "      <td>9.4</td>\n",
       "      <td>5</td>\n",
       "    </tr>\n",
       "    <tr>\n",
       "      <th>...</th>\n",
       "      <td>...</td>\n",
       "      <td>...</td>\n",
       "      <td>...</td>\n",
       "      <td>...</td>\n",
       "      <td>...</td>\n",
       "      <td>...</td>\n",
       "      <td>...</td>\n",
       "      <td>...</td>\n",
       "      <td>...</td>\n",
       "      <td>...</td>\n",
       "    </tr>\n",
       "    <tr>\n",
       "      <th>1594</th>\n",
       "      <td>6.2</td>\n",
       "      <td>0.600</td>\n",
       "      <td>0.08</td>\n",
       "      <td>0.090</td>\n",
       "      <td>44.0</td>\n",
       "      <td>0.99490</td>\n",
       "      <td>3.45</td>\n",
       "      <td>0.58</td>\n",
       "      <td>10.5</td>\n",
       "      <td>5</td>\n",
       "    </tr>\n",
       "    <tr>\n",
       "      <th>1595</th>\n",
       "      <td>5.9</td>\n",
       "      <td>0.550</td>\n",
       "      <td>0.10</td>\n",
       "      <td>0.062</td>\n",
       "      <td>51.0</td>\n",
       "      <td>0.99512</td>\n",
       "      <td>3.52</td>\n",
       "      <td>0.76</td>\n",
       "      <td>11.2</td>\n",
       "      <td>6</td>\n",
       "    </tr>\n",
       "    <tr>\n",
       "      <th>1596</th>\n",
       "      <td>6.3</td>\n",
       "      <td>0.510</td>\n",
       "      <td>0.13</td>\n",
       "      <td>0.076</td>\n",
       "      <td>40.0</td>\n",
       "      <td>0.99574</td>\n",
       "      <td>3.42</td>\n",
       "      <td>0.75</td>\n",
       "      <td>11.0</td>\n",
       "      <td>6</td>\n",
       "    </tr>\n",
       "    <tr>\n",
       "      <th>1597</th>\n",
       "      <td>5.9</td>\n",
       "      <td>0.645</td>\n",
       "      <td>0.12</td>\n",
       "      <td>0.075</td>\n",
       "      <td>44.0</td>\n",
       "      <td>0.99547</td>\n",
       "      <td>3.57</td>\n",
       "      <td>0.71</td>\n",
       "      <td>10.2</td>\n",
       "      <td>5</td>\n",
       "    </tr>\n",
       "    <tr>\n",
       "      <th>1598</th>\n",
       "      <td>6.0</td>\n",
       "      <td>0.310</td>\n",
       "      <td>0.47</td>\n",
       "      <td>0.067</td>\n",
       "      <td>42.0</td>\n",
       "      <td>0.99549</td>\n",
       "      <td>3.39</td>\n",
       "      <td>0.66</td>\n",
       "      <td>11.0</td>\n",
       "      <td>6</td>\n",
       "    </tr>\n",
       "  </tbody>\n",
       "</table>\n",
       "<p>1599 rows × 10 columns</p>\n",
       "</div>"
      ],
      "text/plain": [
       "      fixed acidity  volatile acidity  citric acid  chlorides  \\\n",
       "0               7.4             0.700         0.00      0.076   \n",
       "1               7.8             0.880         0.00      0.098   \n",
       "2               7.8             0.760         0.04      0.092   \n",
       "3              11.2             0.280         0.56      0.075   \n",
       "4               7.4             0.700         0.00      0.076   \n",
       "...             ...               ...          ...        ...   \n",
       "1594            6.2             0.600         0.08      0.090   \n",
       "1595            5.9             0.550         0.10      0.062   \n",
       "1596            6.3             0.510         0.13      0.076   \n",
       "1597            5.9             0.645         0.12      0.075   \n",
       "1598            6.0             0.310         0.47      0.067   \n",
       "\n",
       "      total sulfur dioxide  density    pH  sulphates  alcohol  quality  \n",
       "0                     34.0  0.99780  3.51       0.56      9.4        5  \n",
       "1                     67.0  0.99680  3.20       0.68      9.8        5  \n",
       "2                     54.0  0.99700  3.26       0.65      9.8        5  \n",
       "3                     60.0  0.99800  3.16       0.58      9.8        6  \n",
       "4                     34.0  0.99780  3.51       0.56      9.4        5  \n",
       "...                    ...      ...   ...        ...      ...      ...  \n",
       "1594                  44.0  0.99490  3.45       0.58     10.5        5  \n",
       "1595                  51.0  0.99512  3.52       0.76     11.2        6  \n",
       "1596                  40.0  0.99574  3.42       0.75     11.0        6  \n",
       "1597                  44.0  0.99547  3.57       0.71     10.2        5  \n",
       "1598                  42.0  0.99549  3.39       0.66     11.0        6  \n",
       "\n",
       "[1599 rows x 10 columns]"
      ]
     },
     "execution_count": 27,
     "metadata": {},
     "output_type": "execute_result"
    }
   ],
   "source": [
    "dp=dp.drop(['free sulfur dioxide','residual sugar'],axis=1)\n",
    "dp"
   ]
  },
  {
   "cell_type": "code",
   "execution_count": 28,
   "metadata": {},
   "outputs": [
    {
     "data": {
      "text/plain": [
       "(1599, 10)"
      ]
     },
     "execution_count": 28,
     "metadata": {},
     "output_type": "execute_result"
    }
   ],
   "source": [
    "from scipy.stats import zscore\n",
    "import numpy as np\n",
    "z=np.abs(zscore(dp))\n",
    "z.shape"
   ]
  },
  {
   "cell_type": "code",
   "execution_count": 29,
   "metadata": {},
   "outputs": [
    {
     "name": "stdout",
     "output_type": "stream",
     "text": [
      "(array([  13,   15,   17,   17,   19,   38,   42,   43,   45,   81,   81,\n",
      "         83,   86,   88,   91,   92,   95,  106,  106,  109,  120,  126,\n",
      "        127,  142,  144,  147,  151,  151,  151,  151,  169,  169,  181,\n",
      "        199,  226,  226,  240,  243,  244,  258,  258,  281,  291,  339,\n",
      "        340,  347,  354,  374,  381,  391,  442,  442,  451,  459,  467,\n",
      "        480,  515,  517,  544,  554,  554,  555,  555,  557,  557,  568,\n",
      "        588,  591,  608,  614,  636,  639,  649,  651,  652,  652,  672,\n",
      "        672,  684,  690,  690,  692,  692,  695,  723,  724,  730,  754,\n",
      "        776,  777,  795,  821,  832,  836,  837,  889,  899, 1017, 1018,\n",
      "       1051, 1051, 1079, 1081, 1111, 1114, 1165, 1244, 1260, 1269, 1269,\n",
      "       1270, 1270, 1288, 1289, 1299, 1299, 1300, 1312, 1316, 1319, 1319,\n",
      "       1321, 1367, 1370, 1370, 1372, 1372, 1374, 1374, 1434, 1435, 1469,\n",
      "       1474, 1476, 1478, 1493, 1496, 1505, 1558, 1570], dtype=int64), array([7, 4, 3, 7, 3, 1, 3, 7, 6, 3, 7, 3, 7, 7, 7, 7, 6, 3, 7, 4, 1, 1,\n",
      "       1, 8, 8, 3, 2, 3, 6, 7, 3, 7, 3, 1, 3, 7, 3, 0, 0, 3, 7, 3, 3, 7,\n",
      "       7, 0, 4, 0, 0, 0, 0, 5, 3, 9, 8, 5, 4, 9, 0, 0, 5, 0, 5, 0, 5, 3,\n",
      "       8, 4, 5, 7, 4, 7, 4, 4, 0, 8, 1, 4, 4, 1, 9, 3, 7, 6, 7, 1, 3, 3,\n",
      "       3, 3, 7, 8, 9, 5, 5, 5, 9, 5, 5, 3, 7, 4, 4, 6, 5, 3, 4, 3, 5, 8,\n",
      "       5, 8, 7, 7, 1, 9, 6, 1, 6, 3, 7, 6, 7, 3, 7, 3, 7, 3, 9, 5, 5, 9,\n",
      "       5, 5, 9, 4, 4, 9, 3, 3], dtype=int64))\n"
     ]
    }
   ],
   "source": [
    "threshold=3\n",
    "print(np.where(z>3))"
   ]
  },
  {
   "cell_type": "code",
   "execution_count": 30,
   "metadata": {},
   "outputs": [
    {
     "data": {
      "text/plain": [
       "3.1356351026588634"
      ]
     },
     "execution_count": 30,
     "metadata": {},
     "output_type": "execute_result"
    }
   ],
   "source": [
    "z[1558][3]"
   ]
  },
  {
   "cell_type": "code",
   "execution_count": 31,
   "metadata": {},
   "outputs": [
    {
     "name": "stdout",
     "output_type": "stream",
     "text": [
      "(1599, 10)\n",
      "(1484, 10)\n"
     ]
    }
   ],
   "source": [
    "dp_new=dp[(z<3).all(axis=1)]\n",
    "print(dp.shape)\n",
    "print(dp_new.shape)"
   ]
  },
  {
   "cell_type": "code",
   "execution_count": 32,
   "metadata": {},
   "outputs": [
    {
     "name": "stdout",
     "output_type": "stream",
     "text": [
      "7.191994996873046\n"
     ]
    }
   ],
   "source": [
    "loss_percent=(1599-1484)/1599*100\n",
    "print(loss_percent)"
   ]
  },
  {
   "cell_type": "code",
   "execution_count": 33,
   "metadata": {},
   "outputs": [],
   "source": [
    "x=dp_new.iloc[:,:-1]\n",
    "y=dp_new.iloc[:,-1]"
   ]
  },
  {
   "cell_type": "code",
   "execution_count": 34,
   "metadata": {},
   "outputs": [
    {
     "data": {
      "text/plain": [
       "array([[-0.45576637,  1.05199966, -1.52487817, ...,  1.36030649,\n",
       "        -0.58428907, -1.11292941],\n",
       "       [-0.15865249,  1.92211161, -1.52487817, ..., -0.82265467,\n",
       "         0.45404902, -0.52244975],\n",
       "       [-0.15865249,  1.35490024, -1.24369628, ..., -0.38597874,\n",
       "         0.22311719, -0.52244975],\n",
       "       ...,\n",
       "       [-1.44086532, -0.00756351, -0.6611918 , ...,  0.74475701,\n",
       "         0.9318319 ,  0.74856864],\n",
       "       [-1.87702266,  0.76181707, -0.72277554, ...,  1.76287872,\n",
       "         0.66865877, -0.02658783],\n",
       "       [-1.76330652, -1.32942464,  1.07750635, ...,  0.5363651 ,\n",
       "         0.30200155,  0.74856864]])"
      ]
     },
     "execution_count": 34,
     "metadata": {},
     "output_type": "execute_result"
    }
   ],
   "source": [
    "from sklearn.preprocessing import power_transform\n",
    "x=power_transform(x,method='yeo-johnson')\n",
    "x"
   ]
  },
  {
   "cell_type": "code",
   "execution_count": 36,
   "metadata": {},
   "outputs": [
    {
     "data": {
      "text/plain": [
       "array([[-0.45576637,  1.05199966, -1.52487817, ...,  1.36030649,\n",
       "        -0.58428907, -1.11292941],\n",
       "       [-0.15865249,  1.92211161, -1.52487817, ..., -0.82265467,\n",
       "         0.45404902, -0.52244975],\n",
       "       [-0.15865249,  1.35490024, -1.24369628, ..., -0.38597874,\n",
       "         0.22311719, -0.52244975],\n",
       "       ...,\n",
       "       [-1.44086532, -0.00756351, -0.6611918 , ...,  0.74475701,\n",
       "         0.9318319 ,  0.74856864],\n",
       "       [-1.87702266,  0.76181707, -0.72277554, ...,  1.76287872,\n",
       "         0.66865877, -0.02658783],\n",
       "       [-1.76330652, -1.32942464,  1.07750635, ...,  0.5363651 ,\n",
       "         0.30200155,  0.74856864]])"
      ]
     },
     "execution_count": 36,
     "metadata": {},
     "output_type": "execute_result"
    }
   ],
   "source": [
    "from sklearn.preprocessing import StandardScaler\n",
    "sc=StandardScaler()\n",
    "x=sc.fit_transform(x)\n",
    "x"
   ]
  },
  {
   "cell_type": "code",
   "execution_count": 39,
   "metadata": {},
   "outputs": [
    {
     "name": "stdout",
     "output_type": "stream",
     "text": [
      "Best Accuracy is  0.6134615384615385 on Random_state  1\n",
      "Best Accuracy is  0.6134615384615385 on Random_state  1\n",
      "Best Accuracy is  0.6134615384615385 on Random_state  1\n",
      "Best Accuracy is  0.6134615384615385 on Random_state  1\n",
      "Best Accuracy is  0.6134615384615385 on Random_state  1\n",
      "Best Accuracy is  0.6153846153846154 on Random_state  6\n",
      "Best Accuracy is  0.6153846153846154 on Random_state  6\n",
      "Best Accuracy is  0.6153846153846154 on Random_state  6\n",
      "Best Accuracy is  0.6173076923076923 on Random_state  9\n",
      "Best Accuracy is  0.6173076923076923 on Random_state  9\n",
      "Best Accuracy is  0.6173076923076923 on Random_state  9\n",
      "Best Accuracy is  0.6442307692307693 on Random_state  12\n",
      "Best Accuracy is  0.6442307692307693 on Random_state  12\n",
      "Best Accuracy is  0.6442307692307693 on Random_state  12\n",
      "Best Accuracy is  0.6442307692307693 on Random_state  12\n",
      "Best Accuracy is  0.6442307692307693 on Random_state  12\n",
      "Best Accuracy is  0.6442307692307693 on Random_state  12\n",
      "Best Accuracy is  0.6442307692307693 on Random_state  12\n",
      "Best Accuracy is  0.6442307692307693 on Random_state  12\n",
      "Best Accuracy is  0.6442307692307693 on Random_state  12\n",
      "Best Accuracy is  0.6442307692307693 on Random_state  12\n",
      "Best Accuracy is  0.6442307692307693 on Random_state  12\n",
      "Best Accuracy is  0.6442307692307693 on Random_state  12\n",
      "Best Accuracy is  0.6442307692307693 on Random_state  12\n",
      "Best Accuracy is  0.6442307692307693 on Random_state  12\n",
      "Best Accuracy is  0.6442307692307693 on Random_state  12\n",
      "Best Accuracy is  0.6442307692307693 on Random_state  12\n",
      "Best Accuracy is  0.6442307692307693 on Random_state  12\n",
      "Best Accuracy is  0.6442307692307693 on Random_state  12\n",
      "Best Accuracy is  0.6442307692307693 on Random_state  12\n",
      "Best Accuracy is  0.6442307692307693 on Random_state  12\n",
      "Best Accuracy is  0.6442307692307693 on Random_state  12\n",
      "Best Accuracy is  0.6442307692307693 on Random_state  12\n",
      "Best Accuracy is  0.6442307692307693 on Random_state  12\n",
      "Best Accuracy is  0.6442307692307693 on Random_state  12\n",
      "Best Accuracy is  0.6442307692307693 on Random_state  12\n",
      "Best Accuracy is  0.6442307692307693 on Random_state  12\n",
      "Best Accuracy is  0.6442307692307693 on Random_state  12\n",
      "Best Accuracy is  0.6442307692307693 on Random_state  12\n",
      "Best Accuracy is  0.6442307692307693 on Random_state  12\n",
      "Best Accuracy is  0.6442307692307693 on Random_state  12\n",
      "Best Accuracy is  0.6442307692307693 on Random_state  12\n",
      "Best Accuracy is  0.676923076923077 on Random_state  43\n",
      "Best Accuracy is  0.676923076923077 on Random_state  43\n",
      "Best Accuracy is  0.676923076923077 on Random_state  43\n",
      "Best Accuracy is  0.676923076923077 on Random_state  43\n",
      "Best Accuracy is  0.676923076923077 on Random_state  43\n",
      "Best Accuracy is  0.676923076923077 on Random_state  43\n",
      "Best Accuracy is  0.676923076923077 on Random_state  43\n",
      "Best Accuracy is  0.676923076923077 on Random_state  43\n",
      "Best Accuracy is  0.676923076923077 on Random_state  43\n",
      "Best Accuracy is  0.676923076923077 on Random_state  43\n",
      "Best Accuracy is  0.676923076923077 on Random_state  43\n",
      "Best Accuracy is  0.676923076923077 on Random_state  43\n",
      "Best Accuracy is  0.676923076923077 on Random_state  43\n",
      "Best Accuracy is  0.676923076923077 on Random_state  43\n",
      "Best Accuracy is  0.676923076923077 on Random_state  43\n",
      "Best Accuracy is  0.676923076923077 on Random_state  43\n",
      "Best Accuracy is  0.676923076923077 on Random_state  43\n",
      "Best Accuracy is  0.676923076923077 on Random_state  43\n",
      "Best Accuracy is  0.676923076923077 on Random_state  43\n",
      "Best Accuracy is  0.676923076923077 on Random_state  43\n",
      "Best Accuracy is  0.676923076923077 on Random_state  43\n",
      "Best Accuracy is  0.676923076923077 on Random_state  43\n",
      "Best Accuracy is  0.676923076923077 on Random_state  43\n",
      "Best Accuracy is  0.676923076923077 on Random_state  43\n",
      "Best Accuracy is  0.676923076923077 on Random_state  43\n",
      "Best Accuracy is  0.676923076923077 on Random_state  43\n",
      "Best Accuracy is  0.676923076923077 on Random_state  43\n",
      "Best Accuracy is  0.676923076923077 on Random_state  43\n",
      "Best Accuracy is  0.676923076923077 on Random_state  43\n",
      "Best Accuracy is  0.676923076923077 on Random_state  43\n",
      "Best Accuracy is  0.676923076923077 on Random_state  43\n",
      "Best Accuracy is  0.676923076923077 on Random_state  43\n",
      "Best Accuracy is  0.676923076923077 on Random_state  43\n",
      "Best Accuracy is  0.676923076923077 on Random_state  43\n",
      "Best Accuracy is  0.676923076923077 on Random_state  43\n",
      "Best Accuracy is  0.676923076923077 on Random_state  43\n",
      "Best Accuracy is  0.676923076923077 on Random_state  43\n",
      "Best Accuracy is  0.676923076923077 on Random_state  43\n",
      "Best Accuracy is  0.676923076923077 on Random_state  43\n",
      "Best Accuracy is  0.676923076923077 on Random_state  43\n",
      "Best Accuracy is  0.676923076923077 on Random_state  43\n",
      "Best Accuracy is  0.676923076923077 on Random_state  43\n",
      "Best Accuracy is  0.676923076923077 on Random_state  43\n",
      "Best Accuracy is  0.676923076923077 on Random_state  43\n",
      "Best Accuracy is  0.676923076923077 on Random_state  43\n",
      "Best Accuracy is  0.676923076923077 on Random_state  43\n",
      "Best Accuracy is  0.676923076923077 on Random_state  43\n",
      "Best Accuracy is  0.676923076923077 on Random_state  43\n",
      "Best Accuracy is  0.676923076923077 on Random_state  43\n",
      "Best Accuracy is  0.676923076923077 on Random_state  43\n",
      "Best Accuracy is  0.676923076923077 on Random_state  43\n",
      "Best Accuracy is  0.676923076923077 on Random_state  43\n",
      "Best Accuracy is  0.676923076923077 on Random_state  43\n",
      "Best Accuracy is  0.676923076923077 on Random_state  43\n",
      "Best Accuracy is  0.676923076923077 on Random_state  43\n",
      "Best Accuracy is  0.676923076923077 on Random_state  43\n",
      "Best Accuracy is  0.676923076923077 on Random_state  43\n",
      "Best Accuracy is  0.676923076923077 on Random_state  43\n",
      "Best Accuracy is  0.676923076923077 on Random_state  43\n",
      "Best Accuracy is  0.676923076923077 on Random_state  43\n",
      "Best Accuracy is  0.676923076923077 on Random_state  43\n",
      "Best Accuracy is  0.676923076923077 on Random_state  43\n",
      "Best Accuracy is  0.676923076923077 on Random_state  43\n",
      "Best Accuracy is  0.676923076923077 on Random_state  43\n",
      "Best Accuracy is  0.676923076923077 on Random_state  43\n",
      "Best Accuracy is  0.676923076923077 on Random_state  43\n",
      "Best Accuracy is  0.676923076923077 on Random_state  43\n",
      "Best Accuracy is  0.676923076923077 on Random_state  43\n",
      "Best Accuracy is  0.676923076923077 on Random_state  43\n",
      "Best Accuracy is  0.676923076923077 on Random_state  43\n",
      "Best Accuracy is  0.676923076923077 on Random_state  43\n",
      "Best Accuracy is  0.676923076923077 on Random_state  43\n",
      "Best Accuracy is  0.676923076923077 on Random_state  43\n",
      "Best Accuracy is  0.676923076923077 on Random_state  43\n",
      "Best Accuracy is  0.676923076923077 on Random_state  43\n",
      "Best Accuracy is  0.676923076923077 on Random_state  43\n",
      "Best Accuracy is  0.676923076923077 on Random_state  43\n",
      "Best Accuracy is  0.676923076923077 on Random_state  43\n",
      "Best Accuracy is  0.676923076923077 on Random_state  43\n",
      "Best Accuracy is  0.676923076923077 on Random_state  43\n",
      "Best Accuracy is  0.676923076923077 on Random_state  43\n",
      "Best Accuracy is  0.676923076923077 on Random_state  43\n",
      "Best Accuracy is  0.676923076923077 on Random_state  43\n",
      "Best Accuracy is  0.676923076923077 on Random_state  43\n",
      "Best Accuracy is  0.676923076923077 on Random_state  43\n",
      "Best Accuracy is  0.676923076923077 on Random_state  43\n",
      "Best Accuracy is  0.676923076923077 on Random_state  43\n",
      "Best Accuracy is  0.676923076923077 on Random_state  43\n",
      "Best Accuracy is  0.676923076923077 on Random_state  43\n",
      "Best Accuracy is  0.676923076923077 on Random_state  43\n",
      "Best Accuracy is  0.676923076923077 on Random_state  43\n",
      "Best Accuracy is  0.676923076923077 on Random_state  43\n",
      "Best Accuracy is  0.676923076923077 on Random_state  43\n",
      "Best Accuracy is  0.676923076923077 on Random_state  43\n",
      "Best Accuracy is  0.676923076923077 on Random_state  43\n",
      "Best Accuracy is  0.676923076923077 on Random_state  43\n",
      "Best Accuracy is  0.676923076923077 on Random_state  43\n",
      "Best Accuracy is  0.676923076923077 on Random_state  43\n",
      "Best Accuracy is  0.676923076923077 on Random_state  43\n",
      "Best Accuracy is  0.676923076923077 on Random_state  43\n",
      "Best Accuracy is  0.676923076923077 on Random_state  43\n",
      "Best Accuracy is  0.676923076923077 on Random_state  43\n",
      "Best Accuracy is  0.676923076923077 on Random_state  43\n",
      "Best Accuracy is  0.676923076923077 on Random_state  43\n",
      "Best Accuracy is  0.676923076923077 on Random_state  43\n",
      "Best Accuracy is  0.676923076923077 on Random_state  43\n",
      "Best Accuracy is  0.676923076923077 on Random_state  43\n",
      "Best Accuracy is  0.676923076923077 on Random_state  43\n",
      "Best Accuracy is  0.676923076923077 on Random_state  43\n",
      "Best Accuracy is  0.676923076923077 on Random_state  43\n",
      "Best Accuracy is  0.676923076923077 on Random_state  43\n",
      "Best Accuracy is  0.676923076923077 on Random_state  43\n"
     ]
    },
    {
     "name": "stdout",
     "output_type": "stream",
     "text": [
      "Best Accuracy is  0.676923076923077 on Random_state  43\n",
      "Best Accuracy is  0.676923076923077 on Random_state  43\n",
      "Best Accuracy is  0.676923076923077 on Random_state  43\n",
      "Best Accuracy is  0.676923076923077 on Random_state  43\n",
      "Best Accuracy is  0.676923076923077 on Random_state  43\n",
      "Best Accuracy is  0.676923076923077 on Random_state  43\n",
      "Best Accuracy is  0.676923076923077 on Random_state  43\n",
      "Best Accuracy is  0.676923076923077 on Random_state  43\n",
      "Best Accuracy is  0.676923076923077 on Random_state  43\n",
      "Best Accuracy is  0.676923076923077 on Random_state  43\n",
      "Best Accuracy is  0.676923076923077 on Random_state  43\n",
      "Best Accuracy is  0.676923076923077 on Random_state  43\n",
      "Best Accuracy is  0.676923076923077 on Random_state  43\n",
      "Best Accuracy is  0.676923076923077 on Random_state  43\n",
      "Best Accuracy is  0.676923076923077 on Random_state  43\n",
      "Best Accuracy is  0.676923076923077 on Random_state  43\n",
      "Best Accuracy is  0.676923076923077 on Random_state  43\n",
      "Best Accuracy is  0.676923076923077 on Random_state  43\n",
      "Best Accuracy is  0.676923076923077 on Random_state  43\n",
      "Best Accuracy is  0.676923076923077 on Random_state  43\n",
      "Best Accuracy is  0.676923076923077 on Random_state  43\n",
      "Best Accuracy is  0.676923076923077 on Random_state  43\n",
      "Best Accuracy is  0.676923076923077 on Random_state  43\n",
      "Best Accuracy is  0.676923076923077 on Random_state  43\n",
      "Best Accuracy is  0.676923076923077 on Random_state  43\n",
      "Best Accuracy is  0.676923076923077 on Random_state  43\n",
      "Best Accuracy is  0.676923076923077 on Random_state  43\n",
      "Best Accuracy is  0.676923076923077 on Random_state  43\n",
      "Best Accuracy is  0.676923076923077 on Random_state  43\n",
      "Best Accuracy is  0.676923076923077 on Random_state  43\n",
      "Best Accuracy is  0.676923076923077 on Random_state  43\n",
      "Best Accuracy is  0.676923076923077 on Random_state  43\n",
      "Best Accuracy is  0.676923076923077 on Random_state  43\n",
      "Best Accuracy is  0.676923076923077 on Random_state  43\n",
      "Best Accuracy is  0.676923076923077 on Random_state  43\n",
      "Best Accuracy is  0.676923076923077 on Random_state  43\n",
      "Best Accuracy is  0.676923076923077 on Random_state  43\n",
      "Best Accuracy is  0.676923076923077 on Random_state  43\n",
      "Best Accuracy is  0.676923076923077 on Random_state  43\n",
      "Best Accuracy is  0.676923076923077 on Random_state  43\n",
      "Best Accuracy is  0.676923076923077 on Random_state  43\n",
      "Best Accuracy is  0.676923076923077 on Random_state  43\n",
      "Best Accuracy is  0.676923076923077 on Random_state  43\n",
      "Best Accuracy is  0.676923076923077 on Random_state  43\n",
      "Best Accuracy is  0.676923076923077 on Random_state  43\n",
      "Best Accuracy is  0.676923076923077 on Random_state  43\n",
      "Best Accuracy is  0.676923076923077 on Random_state  43\n",
      "Best Accuracy is  0.676923076923077 on Random_state  43\n",
      "Best Accuracy is  0.676923076923077 on Random_state  43\n",
      "Best Accuracy is  0.676923076923077 on Random_state  43\n",
      "Best Accuracy is  0.676923076923077 on Random_state  43\n",
      "Best Accuracy is  0.676923076923077 on Random_state  43\n",
      "Best Accuracy is  0.676923076923077 on Random_state  43\n",
      "Best Accuracy is  0.676923076923077 on Random_state  43\n",
      "Best Accuracy is  0.676923076923077 on Random_state  43\n",
      "Best Accuracy is  0.676923076923077 on Random_state  43\n",
      "Best Accuracy is  0.676923076923077 on Random_state  43\n",
      "Best Accuracy is  0.676923076923077 on Random_state  43\n",
      "Best Accuracy is  0.676923076923077 on Random_state  43\n",
      "Best Accuracy is  0.676923076923077 on Random_state  43\n",
      "Best Accuracy is  0.676923076923077 on Random_state  43\n",
      "Best Accuracy is  0.676923076923077 on Random_state  43\n",
      "Best Accuracy is  0.676923076923077 on Random_state  43\n",
      "Best Accuracy is  0.676923076923077 on Random_state  43\n",
      "Best Accuracy is  0.676923076923077 on Random_state  43\n",
      "Best Accuracy is  0.676923076923077 on Random_state  43\n",
      "Best Accuracy is  0.676923076923077 on Random_state  43\n",
      "Best Accuracy is  0.676923076923077 on Random_state  43\n",
      "Best Accuracy is  0.676923076923077 on Random_state  43\n",
      "Best Accuracy is  0.676923076923077 on Random_state  43\n",
      "Best Accuracy is  0.676923076923077 on Random_state  43\n",
      "Best Accuracy is  0.676923076923077 on Random_state  43\n",
      "Best Accuracy is  0.676923076923077 on Random_state  43\n",
      "Best Accuracy is  0.676923076923077 on Random_state  43\n",
      "Best Accuracy is  0.676923076923077 on Random_state  43\n",
      "Best Accuracy is  0.676923076923077 on Random_state  43\n",
      "Best Accuracy is  0.676923076923077 on Random_state  43\n",
      "Best Accuracy is  0.676923076923077 on Random_state  43\n",
      "Best Accuracy is  0.676923076923077 on Random_state  43\n",
      "Best Accuracy is  0.676923076923077 on Random_state  43\n",
      "Best Accuracy is  0.676923076923077 on Random_state  43\n",
      "Best Accuracy is  0.676923076923077 on Random_state  43\n",
      "Best Accuracy is  0.676923076923077 on Random_state  43\n",
      "Best Accuracy is  0.676923076923077 on Random_state  43\n",
      "Best Accuracy is  0.676923076923077 on Random_state  43\n",
      "Best Accuracy is  0.676923076923077 on Random_state  43\n",
      "Best Accuracy is  0.676923076923077 on Random_state  43\n",
      "Best Accuracy is  0.676923076923077 on Random_state  43\n",
      "Best Accuracy is  0.676923076923077 on Random_state  43\n",
      "Best Accuracy is  0.676923076923077 on Random_state  43\n",
      "Best Accuracy is  0.676923076923077 on Random_state  43\n",
      "Best Accuracy is  0.676923076923077 on Random_state  43\n",
      "Best Accuracy is  0.676923076923077 on Random_state  43\n",
      "Best Accuracy is  0.676923076923077 on Random_state  43\n",
      "Best Accuracy is  0.676923076923077 on Random_state  43\n",
      "Best Accuracy is  0.676923076923077 on Random_state  43\n",
      "Best Accuracy is  0.676923076923077 on Random_state  43\n",
      "Best Accuracy is  0.676923076923077 on Random_state  43\n",
      "Best Accuracy is  0.676923076923077 on Random_state  43\n",
      "Best Accuracy is  0.676923076923077 on Random_state  43\n",
      "Best Accuracy is  0.676923076923077 on Random_state  43\n",
      "Best Accuracy is  0.676923076923077 on Random_state  43\n",
      "Best Accuracy is  0.676923076923077 on Random_state  43\n",
      "Best Accuracy is  0.676923076923077 on Random_state  43\n",
      "Best Accuracy is  0.676923076923077 on Random_state  43\n",
      "Best Accuracy is  0.676923076923077 on Random_state  43\n",
      "Best Accuracy is  0.676923076923077 on Random_state  43\n",
      "Best Accuracy is  0.676923076923077 on Random_state  43\n",
      "Best Accuracy is  0.676923076923077 on Random_state  43\n",
      "Best Accuracy is  0.676923076923077 on Random_state  43\n",
      "Best Accuracy is  0.676923076923077 on Random_state  43\n",
      "Best Accuracy is  0.676923076923077 on Random_state  43\n",
      "Best Accuracy is  0.676923076923077 on Random_state  43\n",
      "Best Accuracy is  0.676923076923077 on Random_state  43\n",
      "Best Accuracy is  0.676923076923077 on Random_state  43\n",
      "Best Accuracy is  0.676923076923077 on Random_state  43\n",
      "Best Accuracy is  0.676923076923077 on Random_state  43\n",
      "Best Accuracy is  0.676923076923077 on Random_state  43\n",
      "Best Accuracy is  0.676923076923077 on Random_state  43\n",
      "Best Accuracy is  0.676923076923077 on Random_state  43\n",
      "Best Accuracy is  0.676923076923077 on Random_state  43\n",
      "Best Accuracy is  0.676923076923077 on Random_state  43\n",
      "Best Accuracy is  0.676923076923077 on Random_state  43\n",
      "Best Accuracy is  0.676923076923077 on Random_state  43\n",
      "Best Accuracy is  0.676923076923077 on Random_state  43\n",
      "Best Accuracy is  0.676923076923077 on Random_state  43\n",
      "Best Accuracy is  0.676923076923077 on Random_state  43\n",
      "Best Accuracy is  0.676923076923077 on Random_state  43\n",
      "Best Accuracy is  0.676923076923077 on Random_state  43\n",
      "Best Accuracy is  0.676923076923077 on Random_state  43\n",
      "Best Accuracy is  0.676923076923077 on Random_state  43\n",
      "Best Accuracy is  0.676923076923077 on Random_state  43\n",
      "Best Accuracy is  0.676923076923077 on Random_state  43\n",
      "Best Accuracy is  0.676923076923077 on Random_state  43\n",
      "Best Accuracy is  0.676923076923077 on Random_state  43\n",
      "Best Accuracy is  0.676923076923077 on Random_state  43\n",
      "Best Accuracy is  0.676923076923077 on Random_state  43\n",
      "Best Accuracy is  0.676923076923077 on Random_state  43\n",
      "Best Accuracy is  0.676923076923077 on Random_state  43\n",
      "Best Accuracy is  0.676923076923077 on Random_state  43\n",
      "Best Accuracy is  0.676923076923077 on Random_state  43\n",
      "Best Accuracy is  0.676923076923077 on Random_state  43\n",
      "Best Accuracy is  0.676923076923077 on Random_state  43\n",
      "Best Accuracy is  0.676923076923077 on Random_state  43\n",
      "Best Accuracy is  0.676923076923077 on Random_state  43\n"
     ]
    }
   ],
   "source": [
    "from sklearn.tree import DecisionTreeClassifier\n",
    "maxAcc=0\n",
    "maxRS=0\n",
    "for i in range(1,300):\n",
    "    x_train,x_test,y_train,y_test=train_test_split(x,y,test_size=.35,random_state=i)\n",
    "    dtc=DecisionTreeClassifier()\n",
    "    dtc.fit(x_train,y_train)\n",
    "    preddtc=dtc.predict(x_test)\n",
    "    acc=accuracy_score(y_test,preddtc)\n",
    "    if acc>maxAcc:\n",
    "        maxAcc=acc\n",
    "        maxRS=i\n",
    "    print('Best Accuracy is ',maxAcc,'on Random_state ',maxRS)"
   ]
  },
  {
   "cell_type": "code",
   "execution_count": 40,
   "metadata": {},
   "outputs": [],
   "source": [
    "x_train,x_test,y_train,y_test=train_test_split(x,y,test_size=.35,random_state=43)"
   ]
  },
  {
   "cell_type": "code",
   "execution_count": 41,
   "metadata": {},
   "outputs": [
    {
     "name": "stdout",
     "output_type": "stream",
     "text": [
      "0.6634615384615384\n",
      "[[  4   9   6   1   0]\n",
      " [  4 149  43   7   0]\n",
      " [  4  52 149  16   1]\n",
      " [  3   8  16  43   2]\n",
      " [  0   1   0   2   0]]\n",
      "              precision    recall  f1-score   support\n",
      "\n",
      "           4       0.27      0.20      0.23        20\n",
      "           5       0.68      0.73      0.71       203\n",
      "           6       0.70      0.67      0.68       222\n",
      "           7       0.62      0.60      0.61        72\n",
      "           8       0.00      0.00      0.00         3\n",
      "\n",
      "    accuracy                           0.66       520\n",
      "   macro avg       0.45      0.44      0.45       520\n",
      "weighted avg       0.66      0.66      0.66       520\n",
      "\n"
     ]
    }
   ],
   "source": [
    "from sklearn.tree import DecisionTreeClassifier\n",
    "dtc=DecisionTreeClassifier()\n",
    "dtc.fit(x_train,y_train)\n",
    "preddtc=dtc.predict(x_test)\n",
    "print(accuracy_score(y_test,preddtc))\n",
    "print(confusion_matrix(y_test,preddtc))\n",
    "print(classification_report(y_test,preddtc))"
   ]
  },
  {
   "cell_type": "code",
   "execution_count": 42,
   "metadata": {},
   "outputs": [
    {
     "name": "stdout",
     "output_type": "stream",
     "text": [
      "0.5961538461538461\n",
      "[[  0  16   4   0   0]\n",
      " [  0 153  50   0   0]\n",
      " [  0  77 138   7   0]\n",
      " [  0   6  47  19   0]\n",
      " [  0   0   1   2   0]]\n",
      "              precision    recall  f1-score   support\n",
      "\n",
      "           4       0.00      0.00      0.00        20\n",
      "           5       0.61      0.75      0.67       203\n",
      "           6       0.57      0.62      0.60       222\n",
      "           7       0.68      0.26      0.38        72\n",
      "           8       0.00      0.00      0.00         3\n",
      "\n",
      "    accuracy                           0.60       520\n",
      "   macro avg       0.37      0.33      0.33       520\n",
      "weighted avg       0.58      0.60      0.57       520\n",
      "\n"
     ]
    }
   ],
   "source": [
    "from sklearn.svm import SVC\n",
    "svc=SVC()\n",
    "svc.fit(x_train,y_train)\n",
    "predsvc=svc.predict(x_test)\n",
    "print(accuracy_score(y_test,predsvc))\n",
    "print(confusion_matrix(y_test,predsvc))\n",
    "print(classification_report(y_test,predsvc))"
   ]
  },
  {
   "cell_type": "code",
   "execution_count": 43,
   "metadata": {},
   "outputs": [
    {
     "name": "stdout",
     "output_type": "stream",
     "text": [
      "0.33653846153846156\n",
      "[[ 7  3  3  7  0]\n",
      " [35 53 34 81  0]\n",
      " [21 47 81 73  0]\n",
      " [ 6  8 23 34  1]\n",
      " [ 0  0  0  3  0]]\n",
      "              precision    recall  f1-score   support\n",
      "\n",
      "           4       0.10      0.35      0.16        20\n",
      "           5       0.48      0.26      0.34       203\n",
      "           6       0.57      0.36      0.45       222\n",
      "           7       0.17      0.47      0.25        72\n",
      "           8       0.00      0.00      0.00         3\n",
      "\n",
      "    accuracy                           0.34       520\n",
      "   macro avg       0.27      0.29      0.24       520\n",
      "weighted avg       0.46      0.34      0.36       520\n",
      "\n"
     ]
    }
   ],
   "source": [
    "from sklearn.ensemble import AdaBoostClassifier\n",
    "ab=AdaBoostClassifier()\n",
    "ab.fit(x_train,y_train)\n",
    "predab=ab.predict(x_test)\n",
    "print(accuracy_score(y_test,predab))\n",
    "print(confusion_matrix(y_test,predab))\n",
    "print(classification_report(y_test,predab))"
   ]
  },
  {
   "cell_type": "code",
   "execution_count": 46,
   "metadata": {},
   "outputs": [
    {
     "name": "stdout",
     "output_type": "stream",
     "text": [
      "0.5692307692307692\n",
      "[[  0  12   8   0   0]\n",
      " [  6 148  44   5   0]\n",
      " [  1  85 116  20   0]\n",
      " [  0  11  29  32   0]\n",
      " [  0   0   0   3   0]]\n",
      "              precision    recall  f1-score   support\n",
      "\n",
      "           4       0.00      0.00      0.00        20\n",
      "           5       0.58      0.73      0.64       203\n",
      "           6       0.59      0.52      0.55       222\n",
      "           7       0.53      0.44      0.48        72\n",
      "           8       0.00      0.00      0.00         3\n",
      "\n",
      "    accuracy                           0.57       520\n",
      "   macro avg       0.34      0.34      0.34       520\n",
      "weighted avg       0.55      0.57      0.56       520\n",
      "\n"
     ]
    }
   ],
   "source": [
    "from sklearn.neighbors import KNeighborsClassifier\n",
    "knn=KNeighborsClassifier()                                                      #by default = 5\n",
    "knn.fit(x_train,y_train)\n",
    "predknn=knn.predict(x_test)\n",
    "print(accuracy_score(y_test,predknn))\n",
    "print(confusion_matrix(y_test,predknn))\n",
    "print(classification_report(y_test,predknn))"
   ]
  },
  {
   "cell_type": "code",
   "execution_count": 47,
   "metadata": {},
   "outputs": [
    {
     "name": "stdout",
     "output_type": "stream",
     "text": [
      "cross validation score model 0.4872076622076622\n"
     ]
    }
   ],
   "source": [
    "from sklearn.model_selection import cross_val_score\n",
    "scr= cross_val_score(dtc,x,y,cv=5)\n",
    "print(\"cross validation score model\",scr.mean())"
   ]
  },
  {
   "cell_type": "code",
   "execution_count": 48,
   "metadata": {},
   "outputs": [
    {
     "name": "stdout",
     "output_type": "stream",
     "text": [
      "cross validation score model 0.5882882882882884\n"
     ]
    }
   ],
   "source": [
    "from sklearn.model_selection import cross_val_score\n",
    "scr= cross_val_score(svc,x,y,cv=5)\n",
    "print(\"cross validation score model\",scr.mean())"
   ]
  },
  {
   "cell_type": "code",
   "execution_count": 49,
   "metadata": {},
   "outputs": [
    {
     "name": "stdout",
     "output_type": "stream",
     "text": [
      "cross validation score model 0.29651469651469653\n"
     ]
    }
   ],
   "source": [
    "from sklearn.model_selection import cross_val_score\n",
    "scr= cross_val_score(ab,x,y,cv=5)\n",
    "print(\"cross validation score model\",scr.mean())"
   ]
  },
  {
   "cell_type": "code",
   "execution_count": 50,
   "metadata": {},
   "outputs": [
    {
     "name": "stdout",
     "output_type": "stream",
     "text": [
      "cross validation score model 0.5242697242697243\n"
     ]
    }
   ],
   "source": [
    "from sklearn.model_selection import cross_val_score\n",
    "scr= cross_val_score(knn,x,y,cv=5)\n",
    "print(\"cross validation score model\",scr.mean())"
   ]
  },
  {
   "cell_type": "markdown",
   "metadata": {},
   "source": [
    "minimum difference is accuracy and cross validation score is for SVC so this is our best model."
   ]
  },
  {
   "cell_type": "code",
   "execution_count": 53,
   "metadata": {},
   "outputs": [
    {
     "data": {
      "text/plain": [
       "GridSearchCV(estimator=SVC(),\n",
       "             param_grid={'C': [1, 10, 15], 'kernel': ['linear', 'rbf', 'poly']})"
      ]
     },
     "execution_count": 53,
     "metadata": {},
     "output_type": "execute_result"
    }
   ],
   "source": [
    "from sklearn.model_selection import GridSearchCV\n",
    "from sklearn import svm\n",
    "parameters={'kernel':['linear','rbf','poly'],'C':[1,10,15]}\n",
    "svc=svm.SVC()\n",
    "cl=GridSearchCV(svc,parameters)\n",
    "cl.fit(x,y)"
   ]
  },
  {
   "cell_type": "code",
   "execution_count": 54,
   "metadata": {},
   "outputs": [
    {
     "name": "stdout",
     "output_type": "stream",
     "text": [
      "{'C': 1, 'kernel': 'poly'}\n",
      "0.590959140959141\n"
     ]
    }
   ],
   "source": [
    "print(cl.best_params_)\n",
    "print(cl.best_score_)"
   ]
  },
  {
   "cell_type": "code",
   "execution_count": 55,
   "metadata": {},
   "outputs": [
    {
     "data": {
      "text/plain": [
       "SVC(C=1, kernel='poly')"
      ]
     },
     "execution_count": 55,
     "metadata": {},
     "output_type": "execute_result"
    }
   ],
   "source": [
    "sv=svm.SVC(kernel='poly',C=1)\n",
    "sv.fit(x_train,y_train)"
   ]
  },
  {
   "cell_type": "code",
   "execution_count": 56,
   "metadata": {},
   "outputs": [
    {
     "name": "stdout",
     "output_type": "stream",
     "text": [
      "0.5769230769230769\n",
      "[[  1  13   6   0   0]\n",
      " [  3 158  41   1   0]\n",
      " [  0  93 120   9   0]\n",
      " [  0   8  43  21   0]\n",
      " [  0   0   1   2   0]]\n",
      "              precision    recall  f1-score   support\n",
      "\n",
      "           4       0.25      0.05      0.08        20\n",
      "           5       0.58      0.78      0.67       203\n",
      "           6       0.57      0.54      0.55       222\n",
      "           7       0.64      0.29      0.40        72\n",
      "           8       0.00      0.00      0.00         3\n",
      "\n",
      "    accuracy                           0.58       520\n",
      "   macro avg       0.41      0.33      0.34       520\n",
      "weighted avg       0.57      0.58      0.55       520\n",
      "\n"
     ]
    }
   ],
   "source": [
    "predsv=sv.predict(x_test)\n",
    "print(accuracy_score(y_test,predsv))\n",
    "print(confusion_matrix(y_test,predsv))\n",
    "print(classification_report(y_test,predsv))"
   ]
  },
  {
   "cell_type": "code",
   "execution_count": 58,
   "metadata": {},
   "outputs": [
    {
     "data": {
      "text/plain": [
       "['svwinequality.obj']"
      ]
     },
     "execution_count": 58,
     "metadata": {},
     "output_type": "execute_result"
    }
   ],
   "source": [
    "import joblib\n",
    "joblib.dump(sv,'svwinequality.obj')"
   ]
  },
  {
   "cell_type": "code",
   "execution_count": null,
   "metadata": {},
   "outputs": [],
   "source": []
  }
 ],
 "metadata": {
  "kernelspec": {
   "display_name": "Python 3",
   "language": "python",
   "name": "python3"
  },
  "language_info": {
   "codemirror_mode": {
    "name": "ipython",
    "version": 3
   },
   "file_extension": ".py",
   "mimetype": "text/x-python",
   "name": "python",
   "nbconvert_exporter": "python",
   "pygments_lexer": "ipython3",
   "version": "3.8.3"
  }
 },
 "nbformat": 4,
 "nbformat_minor": 4
}
